{
 "cells": [
  {
   "cell_type": "code",
   "execution_count": 2,
   "metadata": {},
   "outputs": [
    {
     "output_type": "error",
     "ename": "ModuleNotFoundError",
     "evalue": "No module named 'textblob'",
     "traceback": [
      "\u001b[0;31m---------------------------------------------------------------------------\u001b[0m",
      "\u001b[0;31mModuleNotFoundError\u001b[0m                       Traceback (most recent call last)",
      "\u001b[0;32m<ipython-input-2-dc4ccabac770>\u001b[0m in \u001b[0;36m<module>\u001b[0;34m\u001b[0m\n\u001b[1;32m     10\u001b[0m \u001b[0;32mimport\u001b[0m \u001b[0mre\u001b[0m\u001b[0;34m\u001b[0m\u001b[0;34m\u001b[0m\u001b[0m\n\u001b[1;32m     11\u001b[0m \u001b[0;32mimport\u001b[0m \u001b[0mnetworkx\u001b[0m\u001b[0;34m\u001b[0m\u001b[0;34m\u001b[0m\u001b[0m\n\u001b[0;32m---> 12\u001b[0;31m \u001b[0;32mfrom\u001b[0m \u001b[0mtextblob\u001b[0m \u001b[0;32mimport\u001b[0m \u001b[0mTextBlob\u001b[0m\u001b[0;34m\u001b[0m\u001b[0;34m\u001b[0m\u001b[0m\n\u001b[0m\u001b[1;32m     13\u001b[0m \u001b[0;34m\u001b[0m\u001b[0m\n\u001b[1;32m     14\u001b[0m \u001b[0;32mimport\u001b[0m \u001b[0mwarnings\u001b[0m\u001b[0;34m\u001b[0m\u001b[0;34m\u001b[0m\u001b[0m\n",
      "\u001b[0;31mModuleNotFoundError\u001b[0m: No module named 'textblob'"
     ]
    }
   ],
   "source": [
    "# Import Dependencies\n",
    "import pandas as pd\n",
    "from sqlalchemy import create_engine\n",
    "import datetime\n",
    "import matplotlib.pyplot as plt\n",
    "import numpy as np\n",
    "\n",
    "import nltk\n",
    "from nltk.corpus import stopwords\n",
    "import re\n",
    "import networkx\n",
    "from textblob import TextBlob\n",
    "\n",
    "import warnings\n",
    "warnings.filterwarnings(\"ignore\")"
   ]
  },
  {
   "cell_type": "code",
   "execution_count": null,
   "metadata": {},
   "outputs": [],
   "source": [
    "# Create engine \n",
    "engine = create_engine(\"sqlite:///data/hashtag2020.db\", echo=True)\n",
    "conn = engine.connect()"
   ]
  },
  {
   "cell_type": "code",
   "execution_count": null,
   "metadata": {},
   "outputs": [],
   "source": [
    "#Create the table. If we use automap_base, the table must have a primary key\n",
    "conn.execute(\"\"\"\n",
    "    CREATE TABLE IF NOT EXISTS tweet_counts (\n",
    "        id integer PRIMARY KEY,\n",
    "        created_at TEXT,\n",
    "        tweet VARCHAR(280),\n",
    "        likes integer,\n",
    "        retweet_count integer,\n",
    "        source VARCHAR(30),\n",
    "        lat integer,\n",
    "        long integer,\n",
    "        city VARCHAR(100),\n",
    "        state_code VARCHAR(5),\n",
    "        hashtag VARCHAR(10),\n",
    "        Date TEXT,\n",
    "        Time TEXT,\n",
    "        polarity integer,\n",
    "        analysis VARCHAR(20)\n",
    "        \n",
    "    )\n",
    "\"\"\")"
   ]
  },
  {
   "cell_type": "code",
   "execution_count": null,
   "metadata": {},
   "outputs": [],
   "source": [
    "conn.execute(\"\"\"\n",
    "    CREATE TABLE IF NOT EXISTS state_avg (\n",
    "        state_code VARCHAR(5) PRIMARY KEY,\n",
    "        BidenAvg integer,\n",
    "        TrumpAvg integer\n",
    "   \n",
    "    )\n",
    "\"\"\")"
   ]
  },
  {
   "cell_type": "code",
   "execution_count": null,
   "metadata": {},
   "outputs": [],
   "source": [
    "conn.execute(\"\"\"\n",
    "    CREATE TABLE IF NOT EXISTS time_avg (\n",
    "        Date TEXT PRIMARY KEY,\n",
    "        BidenAvg integer,\n",
    "        TrumpAvg integer\n",
    "   \n",
    "    )\n",
    "\"\"\")"
   ]
  },
  {
   "cell_type": "code",
   "execution_count": 7,
   "metadata": {},
   "outputs": [
    {
     "output_type": "stream",
     "name": "stdout",
     "text": [
      "2021-02-10 15:11:25,045 INFO sqlalchemy.engine.base.Engine \n",
      "    CREATE TABLE IF NOT EXISTS sent_count (\n",
      "        count_id integer PRIMARY KEY,\n",
      "        analysis VARCHAR(20),\n",
      "        Biden_Count integer,\n",
      "        Trump_Count integer\n",
      "       \n",
      "    )\n",
      "\n",
      "2021-02-10 15:11:25,047 INFO sqlalchemy.engine.base.Engine ()\n",
      "2021-02-10 15:11:25,049 INFO sqlalchemy.engine.base.Engine COMMIT\n"
     ]
    },
    {
     "output_type": "execute_result",
     "data": {
      "text/plain": [
       "<sqlalchemy.engine.result.ResultProxy at 0x7fa292285820>"
      ]
     },
     "metadata": {},
     "execution_count": 7
    }
   ],
   "source": [
    "conn.execute(\"\"\"\n",
    "    CREATE TABLE IF NOT EXISTS sent_count (\n",
    "        count_id integer PRIMARY KEY,\n",
    "        analysis VARCHAR(20),\n",
    "        Biden_Count integer,\n",
    "        Trump_Count integer\n",
    "       \n",
    "    )\n",
    "\"\"\")"
   ]
  },
  {
   "cell_type": "code",
   "execution_count": 8,
   "metadata": {},
   "outputs": [
    {
     "output_type": "stream",
     "name": "stdout",
     "text": [
      "2021-02-10 15:11:26,343 INFO sqlalchemy.engine.base.Engine \n",
      "    CREATE TABLE IF NOT EXISTS time_tweets (\n",
      "        id integer PRIMARY KEY,\n",
      "        created_at TEXT,\n",
      "        trump integer,\n",
      "        biden integer\n",
      "        \n",
      "    )\n",
      "\n",
      "2021-02-10 15:11:26,344 INFO sqlalchemy.engine.base.Engine ()\n",
      "2021-02-10 15:11:26,349 INFO sqlalchemy.engine.base.Engine COMMIT\n"
     ]
    },
    {
     "output_type": "execute_result",
     "data": {
      "text/plain": [
       "<sqlalchemy.engine.result.ResultProxy at 0x7fa292501ca0>"
      ]
     },
     "metadata": {},
     "execution_count": 8
    }
   ],
   "source": [
    "conn.execute(\"\"\"\n",
    "    CREATE TABLE IF NOT EXISTS time_tweets (\n",
    "        id integer PRIMARY KEY,\n",
    "        created_at TEXT,\n",
    "        trump integer,\n",
    "        biden integer\n",
    "        \n",
    "    )\n",
    "\"\"\")"
   ]
  },
  {
   "cell_type": "code",
   "execution_count": 8,
   "metadata": {},
   "outputs": [],
   "source": [
    "# Read in CSV's and build initial combined dataframe\n",
    "trump_csv_path = \"../hashtag_donaldtrump.csv\"\n",
    "biden_csv_path = \"../hashtag_joebiden.csv\""
   ]
  },
  {
   "cell_type": "code",
   "execution_count": 15,
   "metadata": {},
   "outputs": [],
   "source": [
    "trump_data_df = pd.read_csv(trump_csv_path, lineterminator='\\n')\n",
    "biden_data_df = pd.read_csv(biden_csv_path, lineterminator='\\n')"
   ]
  },
  {
   "cell_type": "code",
   "execution_count": 16,
   "metadata": {},
   "outputs": [],
   "source": [
    "trump_data_df[\"hashtag\"]=\"Trump\"\n",
    "biden_data_df[\"hashtag\"]=\"Biden\""
   ]
  },
  {
   "cell_type": "code",
   "execution_count": 11,
   "metadata": {},
   "outputs": [],
   "source": [
    "tweet_df = pd.concat([trump_data_df, biden_data_df])"
   ]
  },
  {
   "cell_type": "code",
   "execution_count": 12,
   "metadata": {},
   "outputs": [],
   "source": [
    "tweet_df[\"created_at\"]=pd.to_datetime(tweet_df.created_at)"
   ]
  },
  {
   "cell_type": "code",
   "execution_count": null,
   "metadata": {},
   "outputs": [],
   "source": [
    "tweet_df.sort_values(by = 'created_at')"
   ]
  },
  {
   "cell_type": "code",
   "execution_count": null,
   "metadata": {},
   "outputs": [],
   "source": [
    "usa = {\"United States of America\" : \"United States\"}\n",
    "tweet_df['country'].replace(usa, inplace=True)"
   ]
  },
  {
   "cell_type": "code",
   "execution_count": null,
   "metadata": {},
   "outputs": [],
   "source": [
    "clean_df = tweet_df.dropna(how='any')"
   ]
  },
  {
   "cell_type": "code",
   "execution_count": null,
   "metadata": {},
   "outputs": [],
   "source": [
    "# Filter to data for United States only\n",
    "clean_df = clean_df.loc[clean_df['country']== 'United States']"
   ]
  },
  {
   "cell_type": "code",
   "execution_count": null,
   "metadata": {},
   "outputs": [],
   "source": [
    "print(\"Count of duplicates: {}\".format(clean_df.duplicated(subset=[\"tweet\"]).sum()))"
   ]
  },
  {
   "cell_type": "code",
   "execution_count": null,
   "metadata": {},
   "outputs": [],
   "source": [
    "# Remove duplicate tweets, leaving only those with either hashtag not both\n",
    "print(\"Original size of df: {}\".format(len(clean_df)))\n",
    "clean_df.drop_duplicates(subset=[\"tweet\"], inplace=True, keep=False)\n",
    "print(\"No duplicates size of df : {}\".format(len(clean_df)))"
   ]
  },
  {
   "cell_type": "code",
   "execution_count": null,
   "metadata": {},
   "outputs": [],
   "source": [
    "clean_df.reset_index(inplace=True)"
   ]
  },
  {
   "cell_type": "code",
   "execution_count": null,
   "metadata": {},
   "outputs": [],
   "source": [
    "clean_df['Date'] = clean_df['created_at'].dt.strftime('%m/%d/%Y')\n",
    "clean_df['Time'] = clean_df['created_at'].dt.strftime('%H:%M:%S')"
   ]
  },
  {
   "cell_type": "code",
   "execution_count": null,
   "metadata": {},
   "outputs": [],
   "source": [
    "# Setting id column to use as primary key\n",
    "clean_df = clean_df.rename(columns = {'index': 'id'}, inplace = False)"
   ]
  },
  {
   "cell_type": "code",
   "execution_count": null,
   "metadata": {},
   "outputs": [],
   "source": [
    "clean_df = clean_df[['id', 'created_at', 'tweet', 'likes', 'retweet_count', 'source', 'lat', 'long', 'city','state_code','hashtag', 'Date', 'Time']]"
   ]
  },
  {
   "cell_type": "code",
   "execution_count": null,
   "metadata": {},
   "outputs": [],
   "source": [
    "clean_df = clean_df[['created_at', 'tweet', 'likes', 'retweet_count', 'source', 'lat', 'long', 'city','state_code','hashtag', 'Date', 'Time']]"
   ]
  },
  {
   "cell_type": "code",
   "execution_count": null,
   "metadata": {},
   "outputs": [],
   "source": [
    "clean_df.reset_index(inplace=True)"
   ]
  },
  {
   "cell_type": "code",
   "execution_count": null,
   "metadata": {},
   "outputs": [],
   "source": [
    "clean_df = clean_df.rename(columns = {'index': 'id'}, inplace = False)\n",
    "clean_df.head()"
   ]
  },
  {
   "cell_type": "code",
   "execution_count": null,
   "metadata": {},
   "outputs": [],
   "source": [
    "clean_df['id'].value_counts()"
   ]
  },
  {
   "cell_type": "code",
   "execution_count": null,
   "metadata": {},
   "outputs": [],
   "source": [
    "# Sentiment Analysis - code created by Try Suharso https://www.kaggle.com/trysuharso (2020) Pandas, NLTK, Re, TextBlob, Networkx. [Source code]. https://www.kaggle.com/trysuharso/us-election-2020-twitter-analysis"
   ]
  },
  {
   "cell_type": "code",
   "execution_count": null,
   "metadata": {},
   "outputs": [],
   "source": [
    "#cleaning the tweets\n",
    "def clean_tweets(tweet):\n",
    " \n",
    "    tweet = re.sub(r':', '', str(tweet))\n",
    "    tweet = re.sub(r'‚Ä¶', '', str(tweet))\n",
    "    tweet = re.sub('@[A-Za-z0–9]+', '', str(tweet))               \n",
    "    tweet = re.sub('#', '', str(tweet)) # Removing '#' hash tag\n",
    "    tweet = re.sub('https?:\\/\\/\\S+', '', str(tweet)) # Removing hyperlink\n",
    "    #replace consecutive non-ASCII characters with a space\n",
    "    tweet = re.sub(r'[^\\x00-\\x7F]+',' ',str(tweet))\n",
    "    tweet = str(tweet).lower()\n",
    "    tweet = re.sub('\\[.*?\\]', '', tweet)\n",
    "    tweet = re.sub('https?://\\S+|www\\.\\S+', '', tweet)\n",
    "    tweet = re.sub('<.*?>+', '', tweet)\n",
    "    tweet = re.sub('\\n', '', tweet)\n",
    "    tweet = re.sub('\\w*\\d\\w*', '', tweet)\n",
    "    tweet = re.sub(r'#','',tweet)\n",
    "    tweet = re.sub(r'RT[\\s]+','',tweet)\n",
    "    tweet = re.sub(r'[^\\w]', ' ', tweet)\n",
    "    tweet = re.sub('https', '', tweet)\n",
    "    tweet = re.sub('https ', '', tweet)\n",
    "    tweet = re.sub('co', '', tweet)\n",
    "\n",
    "    return tweet"
   ]
  },
  {
   "cell_type": "code",
   "execution_count": null,
   "metadata": {},
   "outputs": [],
   "source": [
    "# Determine subjectivity, polarity, sentiment values of each tweet \n",
    "# ALLOW SEVERAL MINUTES TO COMPLETE\n",
    "def getSubjectivity(tweet):\n",
    "    try:\n",
    "        return TextBlob(tweet).sentiment.subjectivity\n",
    "    except:\n",
    "        return None\n",
    "\n",
    "\n",
    "# Create a function to get the polarity\n",
    "def getPolarity(tweet):\n",
    "    try:\n",
    "        return  TextBlob(tweet).sentiment.polarity\n",
    "    except:\n",
    "        return None\n",
    "\n",
    "def sentiment_calc(tweet):\n",
    "    try:\n",
    "        return TextBlob(tweet).sentiment\n",
    "    except:\n",
    "        return None\n",
    "\n",
    "# Add sentiment analysis value columns to df\n",
    "clean_df['edited_tweet'] = clean_df['tweet'].apply(clean_tweets)\n",
    "clean_df['subjectivity'] = clean_df['edited_tweet'].apply(getSubjectivity)\n",
    "clean_df['polarity'] = clean_df['edited_tweet'].apply(getPolarity)\n",
    "clean_df['sentiment'] = clean_df['edited_tweet'].apply(sentiment_calc)\n",
    "\n",
    "# Assign sentiment analysis category based on polarity value and add to df\n",
    "def getAnalysis(score):\n",
    "    if score < 0:\n",
    "      return 'Negative'\n",
    "    elif score == 0:\n",
    "      return 'Neutral'\n",
    "    else:\n",
    "      return 'Positive'\n",
    "\n",
    "clean_df['analysis'] = clean_df['polarity'].apply(getAnalysis)"
   ]
  },
  {
   "cell_type": "code",
   "execution_count": null,
   "metadata": {},
   "outputs": [],
   "source": [
    "clean_df.head()"
   ]
  },
  {
   "cell_type": "code",
   "execution_count": null,
   "metadata": {},
   "outputs": [],
   "source": [
    "# Creating dataframe for polarity average by state\n",
    "biden=clean_df[clean_df['hashtag']=='Biden']\n",
    "trump=clean_df[clean_df['hashtag']=='Trump']"
   ]
  },
  {
   "cell_type": "code",
   "execution_count": null,
   "metadata": {},
   "outputs": [],
   "source": [
    "biden['Pol_Avg'] = biden.groupby('state_code').polarity.transform('mean')\n",
    "trump['Pol_Avg'] = trump.groupby('state_code').polarity.transform('mean')\n"
   ]
  },
  {
   "cell_type": "code",
   "execution_count": null,
   "metadata": {},
   "outputs": [],
   "source": [
    "biden = biden[['state_code','lat', 'long', 'hashtag','Pol_Avg' ]]\n",
    "trump = trump[['state_code','lat', 'long', 'hashtag','Pol_Avg' ]]"
   ]
  },
  {
   "cell_type": "code",
   "execution_count": null,
   "metadata": {},
   "outputs": [],
   "source": [
    "biden = biden.drop_duplicates(subset=['state_code'], keep='first')\n",
    "trump = trump.drop_duplicates(subset=['state_code'], keep='first')"
   ]
  },
  {
   "cell_type": "code",
   "execution_count": null,
   "metadata": {},
   "outputs": [],
   "source": [
    "biden['analysis'] = biden['Pol_Avg'].apply(getAnalysis)\n",
    "trump['analysis'] = trump['Pol_Avg'].apply(getAnalysis)"
   ]
  },
  {
   "cell_type": "code",
   "execution_count": null,
   "metadata": {},
   "outputs": [],
   "source": [
    "biden['analysis'].value_counts()"
   ]
  },
  {
   "cell_type": "code",
   "execution_count": null,
   "metadata": {},
   "outputs": [],
   "source": [
    "trump['analysis'].value_counts()"
   ]
  },
  {
   "cell_type": "code",
   "execution_count": null,
   "metadata": {},
   "outputs": [],
   "source": [
    "biden.head()"
   ]
  },
  {
   "cell_type": "code",
   "execution_count": null,
   "metadata": {},
   "outputs": [],
   "source": [
    "biden = biden.rename(columns = {'Pol_Avg': 'BidenAvg'}, inplace = False).reset_index()\n",
    "trump = trump.rename(columns = {'Pol_Avg': 'TrumpAvg'}, inplace = False).reset_index()"
   ]
  },
  {
   "cell_type": "code",
   "execution_count": null,
   "metadata": {},
   "outputs": [],
   "source": [
    "biden = biden[['state_code', 'BidenAvg']]\n",
    "trump = trump[['state_code', 'TrumpAvg']]"
   ]
  },
  {
   "cell_type": "code",
   "execution_count": null,
   "metadata": {},
   "outputs": [],
   "source": [
    "state_avg = pd.merge(biden, trump, on=\"state_code\", how=\"left\")"
   ]
  },
  {
   "cell_type": "code",
   "execution_count": null,
   "metadata": {},
   "outputs": [],
   "source": [
    "state_avg = state_avg.reset_index(drop=True)"
   ]
  },
  {
   "cell_type": "code",
   "execution_count": null,
   "metadata": {},
   "outputs": [],
   "source": [
    "state_avg.head()"
   ]
  },
  {
   "cell_type": "code",
   "execution_count": null,
   "metadata": {},
   "outputs": [],
   "source": [
    "# Sentiment by date"
   ]
  },
  {
   "cell_type": "code",
   "execution_count": null,
   "metadata": {},
   "outputs": [],
   "source": [
    "biden1=clean_df[clean_df['hashtag']=='Biden']\n",
    "trump1=clean_df[clean_df['hashtag']=='Trump']"
   ]
  },
  {
   "cell_type": "code",
   "execution_count": null,
   "metadata": {},
   "outputs": [],
   "source": [
    "biden1['Pol_Avg'] = biden1.groupby('Date').polarity.transform('mean')\n",
    "trump1['Pol_Avg'] = trump1.groupby('Date').polarity.transform('mean')"
   ]
  },
  {
   "cell_type": "code",
   "execution_count": null,
   "metadata": {},
   "outputs": [],
   "source": [
    "biden1.head()"
   ]
  },
  {
   "cell_type": "code",
   "execution_count": null,
   "metadata": {},
   "outputs": [],
   "source": [
    "biden1 = biden1.drop_duplicates(subset=['Date'], keep='first')\n",
    "trump1 = trump1.drop_duplicates(subset=['Date'], keep='first')"
   ]
  },
  {
   "cell_type": "code",
   "execution_count": null,
   "metadata": {},
   "outputs": [],
   "source": [
    "biden1 = biden1.rename(columns = {'Pol_Avg': 'BidenAvg'}, inplace = False).reset_index()\n",
    "trump1 = trump1.rename(columns = {'Pol_Avg': 'TrumpAvg'}, inplace = False).reset_index()"
   ]
  },
  {
   "cell_type": "code",
   "execution_count": null,
   "metadata": {},
   "outputs": [],
   "source": [
    "biden1 = biden1[['Date', 'BidenAvg']]\n",
    "trump1 = trump1[['Date', 'TrumpAvg']]"
   ]
  },
  {
   "cell_type": "code",
   "execution_count": null,
   "metadata": {},
   "outputs": [],
   "source": [
    "time_avg = pd.merge(biden1, trump1, on=\"Date\", how=\"left\")"
   ]
  },
  {
   "cell_type": "code",
   "execution_count": null,
   "metadata": {},
   "outputs": [],
   "source": [
    "time_avg = time_avg.reset_index(drop=True)"
   ]
  },
  {
   "cell_type": "code",
   "execution_count": null,
   "metadata": {},
   "outputs": [],
   "source": [
    "time_avg.head()"
   ]
  },
  {
   "cell_type": "code",
   "execution_count": null,
   "metadata": {},
   "outputs": [],
   "source": []
  },
  {
   "cell_type": "code",
   "execution_count": null,
   "metadata": {},
   "outputs": [],
   "source": []
  },
  {
   "cell_type": "code",
   "execution_count": null,
   "metadata": {},
   "outputs": [],
   "source": [
    "# Creating dataframe for sentiment counts bar visual\n",
    "biden_count=clean_df[clean_df['hashtag']=='Biden']\n",
    "trump_count=clean_df[clean_df['hashtag']=='Trump']\n"
   ]
  },
  {
   "cell_type": "code",
   "execution_count": null,
   "metadata": {},
   "outputs": [],
   "source": [
    "biden_count = biden_count[['analysis', 'hashtag']]\n",
    "trump_count = trump_count[['analysis', 'hashtag']]"
   ]
  },
  {
   "cell_type": "code",
   "execution_count": null,
   "metadata": {},
   "outputs": [],
   "source": [
    "biden_count[\"count\"]=1\n",
    "trump_count[\"count\"]=1"
   ]
  },
  {
   "cell_type": "code",
   "execution_count": null,
   "metadata": {},
   "outputs": [],
   "source": [
    "biden_count.head()"
   ]
  },
  {
   "cell_type": "code",
   "execution_count": null,
   "metadata": {},
   "outputs": [],
   "source": [
    "biden_count = biden_count.rename(columns = {'count': 'Biden_Count'}, inplace = False)\n",
    "trump_count = trump_count.rename(columns = {'count': 'Trump_Count'}, inplace = False)"
   ]
  },
  {
   "cell_type": "code",
   "execution_count": null,
   "metadata": {},
   "outputs": [],
   "source": [
    "biden_count.head()"
   ]
  },
  {
   "cell_type": "code",
   "execution_count": null,
   "metadata": {},
   "outputs": [],
   "source": [
    "biden_count = biden_count.groupby('analysis').count().reset_index()\n",
    "trump_count = trump_count.groupby('analysis').count().reset_index()"
   ]
  },
  {
   "cell_type": "code",
   "execution_count": null,
   "metadata": {},
   "outputs": [],
   "source": [
    "biden_count = biden_count[['analysis', 'Biden_Count']]\n",
    "trump_count = trump_count[['analysis', 'Trump_Count']]"
   ]
  },
  {
   "cell_type": "code",
   "execution_count": null,
   "metadata": {},
   "outputs": [],
   "source": [
    "sent_count = pd.merge(biden_count, trump_count, on=\"analysis\", how=\"left\")\n",
    "sent_count"
   ]
  },
  {
   "cell_type": "code",
   "execution_count": null,
   "metadata": {},
   "outputs": [],
   "source": [
    "sent_count = sent_count.reset_index(drop=True)"
   ]
  },
  {
   "cell_type": "code",
   "execution_count": null,
   "metadata": {},
   "outputs": [],
   "source": [
    "sent_count"
   ]
  },
  {
   "cell_type": "code",
   "execution_count": null,
   "metadata": {},
   "outputs": [],
   "source": []
  },
  {
   "cell_type": "code",
   "execution_count": null,
   "metadata": {},
   "outputs": [],
   "source": [
    "\n",
    "sent_count = sent_count.reset_index(drop=True)"
   ]
  },
  {
   "cell_type": "code",
   "execution_count": null,
   "metadata": {},
   "outputs": [],
   "source": [
    "sent_count.reset_index(inplace=True)\n",
    "sent_count = sent_count.rename(columns = {'index': 'count_id'}, inplace = False)"
   ]
  },
  {
   "cell_type": "code",
   "execution_count": null,
   "metadata": {},
   "outputs": [],
   "source": [
    "sent_count"
   ]
  },
  {
   "cell_type": "code",
   "execution_count": null,
   "metadata": {},
   "outputs": [],
   "source": [
    "clean_df = clean_df[['id', 'created_at', 'tweet', 'likes', 'retweet_count', 'source', 'lat', 'long', 'city','state_code','hashtag', 'Date', 'Time', 'polarity', 'analysis']]"
   ]
  },
  {
   "cell_type": "code",
   "execution_count": null,
   "metadata": {},
   "outputs": [],
   "source": [
    "clean_df.head()"
   ]
  },
  {
   "cell_type": "code",
   "execution_count": null,
   "metadata": {},
   "outputs": [],
   "source": [
    "clean_df.to_sql(\"tweet_counts\", conn, if_exists=\"append\", index=False)\n"
   ]
  },
  {
   "cell_type": "code",
   "execution_count": null,
   "metadata": {},
   "outputs": [],
   "source": [
    "state_avg.to_sql(\"state_avg\", conn, if_exists=\"append\", index=False)"
   ]
  },
  {
   "cell_type": "code",
   "execution_count": null,
   "metadata": {},
   "outputs": [],
   "source": [
    "time_avg.to_sql(\"time_avg\", conn, if_exists=\"append\", index=False)"
   ]
  },
  {
   "cell_type": "code",
   "execution_count": null,
   "metadata": {},
   "outputs": [],
   "source": [
    "sent_count.to_sql(\"sent_count\", conn, if_exists=\"append\", index=False)"
   ]
  },
  {
   "cell_type": "markdown",
   "metadata": {},
   "source": [
    "# Buckley's Code"
   ]
  },
  {
   "cell_type": "code",
   "execution_count": 17,
   "metadata": {},
   "outputs": [
    {
     "data": {
      "text/html": [
       "<div>\n",
       "<style scoped>\n",
       "    .dataframe tbody tr th:only-of-type {\n",
       "        vertical-align: middle;\n",
       "    }\n",
       "\n",
       "    .dataframe tbody tr th {\n",
       "        vertical-align: top;\n",
       "    }\n",
       "\n",
       "    .dataframe thead th {\n",
       "        text-align: right;\n",
       "    }\n",
       "</style>\n",
       "<table border=\"1\" class=\"dataframe\">\n",
       "  <thead>\n",
       "    <tr style=\"text-align: right;\">\n",
       "      <th></th>\n",
       "      <th>created_at</th>\n",
       "      <th>tweet_id</th>\n",
       "      <th>tweet</th>\n",
       "      <th>likes</th>\n",
       "      <th>retweet_count</th>\n",
       "      <th>source</th>\n",
       "      <th>user_id</th>\n",
       "      <th>user_name</th>\n",
       "      <th>user_screen_name</th>\n",
       "      <th>user_description</th>\n",
       "      <th>...</th>\n",
       "      <th>user_location</th>\n",
       "      <th>lat</th>\n",
       "      <th>long</th>\n",
       "      <th>city</th>\n",
       "      <th>country</th>\n",
       "      <th>continent</th>\n",
       "      <th>state</th>\n",
       "      <th>state_code</th>\n",
       "      <th>collected_at</th>\n",
       "      <th>hashtag</th>\n",
       "    </tr>\n",
       "  </thead>\n",
       "  <tbody>\n",
       "    <tr>\n",
       "      <th>0</th>\n",
       "      <td>2020-10-15 00:00:01</td>\n",
       "      <td>1.316529e+18</td>\n",
       "      <td>#Elecciones2020 | En #Florida: #JoeBiden dice ...</td>\n",
       "      <td>0.0</td>\n",
       "      <td>0.0</td>\n",
       "      <td>TweetDeck</td>\n",
       "      <td>3.606665e+08</td>\n",
       "      <td>El Sol Latino News</td>\n",
       "      <td>elsollatinonews</td>\n",
       "      <td>🌐 Noticias de interés para latinos de la costa...</td>\n",
       "      <td>...</td>\n",
       "      <td>Philadelphia, PA / Miami, FL</td>\n",
       "      <td>25.774270</td>\n",
       "      <td>-80.193660</td>\n",
       "      <td>NaN</td>\n",
       "      <td>United States of America</td>\n",
       "      <td>North America</td>\n",
       "      <td>Florida</td>\n",
       "      <td>FL</td>\n",
       "      <td>2020-10-21 00:00:00</td>\n",
       "      <td>Trump</td>\n",
       "    </tr>\n",
       "    <tr>\n",
       "      <th>1</th>\n",
       "      <td>2020-10-15 00:00:01</td>\n",
       "      <td>1.316529e+18</td>\n",
       "      <td>Usa 2020, Trump contro Facebook e Twitter: cop...</td>\n",
       "      <td>26.0</td>\n",
       "      <td>9.0</td>\n",
       "      <td>Social Mediaset</td>\n",
       "      <td>3.316176e+08</td>\n",
       "      <td>Tgcom24</td>\n",
       "      <td>MediasetTgcom24</td>\n",
       "      <td>Profilo ufficiale di Tgcom24: tutte le notizie...</td>\n",
       "      <td>...</td>\n",
       "      <td>NaN</td>\n",
       "      <td>NaN</td>\n",
       "      <td>NaN</td>\n",
       "      <td>NaN</td>\n",
       "      <td>NaN</td>\n",
       "      <td>NaN</td>\n",
       "      <td>NaN</td>\n",
       "      <td>NaN</td>\n",
       "      <td>2020-10-21 00:00:00.373216530</td>\n",
       "      <td>Trump</td>\n",
       "    </tr>\n",
       "    <tr>\n",
       "      <th>2</th>\n",
       "      <td>2020-10-15 00:00:02</td>\n",
       "      <td>1.316529e+18</td>\n",
       "      <td>#Trump: As a student I used to hear for years,...</td>\n",
       "      <td>2.0</td>\n",
       "      <td>1.0</td>\n",
       "      <td>Twitter Web App</td>\n",
       "      <td>8.436472e+06</td>\n",
       "      <td>snarke</td>\n",
       "      <td>snarke</td>\n",
       "      <td>Will mock for food! Freelance writer, blogger,...</td>\n",
       "      <td>...</td>\n",
       "      <td>Portland</td>\n",
       "      <td>45.520247</td>\n",
       "      <td>-122.674195</td>\n",
       "      <td>Portland</td>\n",
       "      <td>United States of America</td>\n",
       "      <td>North America</td>\n",
       "      <td>Oregon</td>\n",
       "      <td>OR</td>\n",
       "      <td>2020-10-21 00:00:00.746433060</td>\n",
       "      <td>Trump</td>\n",
       "    </tr>\n",
       "    <tr>\n",
       "      <th>3</th>\n",
       "      <td>2020-10-15 00:00:02</td>\n",
       "      <td>1.316529e+18</td>\n",
       "      <td>2 hours since last tweet from #Trump! Maybe he...</td>\n",
       "      <td>0.0</td>\n",
       "      <td>0.0</td>\n",
       "      <td>Trumpytweeter</td>\n",
       "      <td>8.283556e+17</td>\n",
       "      <td>Trumpytweeter</td>\n",
       "      <td>trumpytweeter</td>\n",
       "      <td>If he doesn't tweet for some time, should we b...</td>\n",
       "      <td>...</td>\n",
       "      <td>NaN</td>\n",
       "      <td>NaN</td>\n",
       "      <td>NaN</td>\n",
       "      <td>NaN</td>\n",
       "      <td>NaN</td>\n",
       "      <td>NaN</td>\n",
       "      <td>NaN</td>\n",
       "      <td>NaN</td>\n",
       "      <td>2020-10-21 00:00:01.119649591</td>\n",
       "      <td>Trump</td>\n",
       "    </tr>\n",
       "    <tr>\n",
       "      <th>4</th>\n",
       "      <td>2020-10-15 00:00:08</td>\n",
       "      <td>1.316529e+18</td>\n",
       "      <td>You get a tie! And you get a tie! #Trump ‘s ra...</td>\n",
       "      <td>4.0</td>\n",
       "      <td>3.0</td>\n",
       "      <td>Twitter for iPhone</td>\n",
       "      <td>4.741380e+07</td>\n",
       "      <td>Rana Abtar - رنا أبتر</td>\n",
       "      <td>Ranaabtar</td>\n",
       "      <td>Washington Correspondent, Lebanese-American ,c...</td>\n",
       "      <td>...</td>\n",
       "      <td>Washington DC</td>\n",
       "      <td>38.894992</td>\n",
       "      <td>-77.036558</td>\n",
       "      <td>Washington</td>\n",
       "      <td>United States of America</td>\n",
       "      <td>North America</td>\n",
       "      <td>District of Columbia</td>\n",
       "      <td>DC</td>\n",
       "      <td>2020-10-21 00:00:01.492866121</td>\n",
       "      <td>Trump</td>\n",
       "    </tr>\n",
       "    <tr>\n",
       "      <th>...</th>\n",
       "      <td>...</td>\n",
       "      <td>...</td>\n",
       "      <td>...</td>\n",
       "      <td>...</td>\n",
       "      <td>...</td>\n",
       "      <td>...</td>\n",
       "      <td>...</td>\n",
       "      <td>...</td>\n",
       "      <td>...</td>\n",
       "      <td>...</td>\n",
       "      <td>...</td>\n",
       "      <td>...</td>\n",
       "      <td>...</td>\n",
       "      <td>...</td>\n",
       "      <td>...</td>\n",
       "      <td>...</td>\n",
       "      <td>...</td>\n",
       "      <td>...</td>\n",
       "      <td>...</td>\n",
       "      <td>...</td>\n",
       "      <td>...</td>\n",
       "    </tr>\n",
       "    <tr>\n",
       "      <th>970915</th>\n",
       "      <td>2020-11-08 23:59:48</td>\n",
       "      <td>1.325589e+18</td>\n",
       "      <td>JOE BIDEN WHY JOE BIDEN DID WINNED ?? TRUMP TR...</td>\n",
       "      <td>4.0</td>\n",
       "      <td>0.0</td>\n",
       "      <td>Twitter Web App</td>\n",
       "      <td>3.245258e+09</td>\n",
       "      <td>ahzy</td>\n",
       "      <td>ahhhzy</td>\n",
       "      <td>NaN</td>\n",
       "      <td>...</td>\n",
       "      <td>NaN</td>\n",
       "      <td>NaN</td>\n",
       "      <td>NaN</td>\n",
       "      <td>NaN</td>\n",
       "      <td>NaN</td>\n",
       "      <td>NaN</td>\n",
       "      <td>NaN</td>\n",
       "      <td>NaN</td>\n",
       "      <td>2020-11-09 17:47:55.715870</td>\n",
       "      <td>Trump</td>\n",
       "    </tr>\n",
       "    <tr>\n",
       "      <th>970916</th>\n",
       "      <td>2020-11-08 23:59:53</td>\n",
       "      <td>1.325589e+18</td>\n",
       "      <td>#AfD|ler reagieren panisch bis hysterisch auf ...</td>\n",
       "      <td>25.0</td>\n",
       "      <td>4.0</td>\n",
       "      <td>Twitter Web App</td>\n",
       "      <td>9.866108e+17</td>\n",
       "      <td>watchdog</td>\n",
       "      <td>wilke_tobias</td>\n",
       "      <td>Quis custodiet ipsos custodes?\\n\\nTV Journalis...</td>\n",
       "      <td>...</td>\n",
       "      <td>Saxony/GER</td>\n",
       "      <td>NaN</td>\n",
       "      <td>NaN</td>\n",
       "      <td>NaN</td>\n",
       "      <td>NaN</td>\n",
       "      <td>NaN</td>\n",
       "      <td>NaN</td>\n",
       "      <td>NaN</td>\n",
       "      <td>2020-11-09 17:47:55.975868</td>\n",
       "      <td>Trump</td>\n",
       "    </tr>\n",
       "    <tr>\n",
       "      <th>970917</th>\n",
       "      <td>2020-11-08 23:59:54</td>\n",
       "      <td>1.325589e+18</td>\n",
       "      <td>@sammelbis1998 @iheartmindy @bnorthg First, yo...</td>\n",
       "      <td>0.0</td>\n",
       "      <td>0.0</td>\n",
       "      <td>Twitter for iPad</td>\n",
       "      <td>7.687811e+08</td>\n",
       "      <td>Debra</td>\n",
       "      <td>drdeblk</td>\n",
       "      <td>MD. Autism specialist. Film lover. #DumpTrump2020</td>\n",
       "      <td>...</td>\n",
       "      <td>NaN</td>\n",
       "      <td>NaN</td>\n",
       "      <td>NaN</td>\n",
       "      <td>NaN</td>\n",
       "      <td>NaN</td>\n",
       "      <td>NaN</td>\n",
       "      <td>NaN</td>\n",
       "      <td>NaN</td>\n",
       "      <td>2020-11-09 17:47:56.012674</td>\n",
       "      <td>Trump</td>\n",
       "    </tr>\n",
       "    <tr>\n",
       "      <th>970918</th>\n",
       "      <td>2020-11-08 23:59:55</td>\n",
       "      <td>1.325589e+18</td>\n",
       "      <td>OK just had to do it !\\n#Trump #CatapultTrump ...</td>\n",
       "      <td>105.0</td>\n",
       "      <td>28.0</td>\n",
       "      <td>Twitter Web App</td>\n",
       "      <td>4.519791e+08</td>\n",
       "      <td>Dunken K Bliths</td>\n",
       "      <td>DunkenKBliths</td>\n",
       "      <td>\"Tesla owner's will be followed back\"\\n\\n#Mach...</td>\n",
       "      <td>...</td>\n",
       "      <td>✔ Official Twitter Account</td>\n",
       "      <td>NaN</td>\n",
       "      <td>NaN</td>\n",
       "      <td>NaN</td>\n",
       "      <td>NaN</td>\n",
       "      <td>NaN</td>\n",
       "      <td>NaN</td>\n",
       "      <td>NaN</td>\n",
       "      <td>2020-11-09 17:47:55.807500</td>\n",
       "      <td>Trump</td>\n",
       "    </tr>\n",
       "    <tr>\n",
       "      <th>922910</th>\n",
       "      <td>2020-11-08 23:59:56</td>\n",
       "      <td>1.325589e+18</td>\n",
       "      <td>@nbcbayarea Who doesn’t like dogs or any kind ...</td>\n",
       "      <td>1.0</td>\n",
       "      <td>1.0</td>\n",
       "      <td>Twitter for iPhone</td>\n",
       "      <td>1.182639e+08</td>\n",
       "      <td>Dianna Maria</td>\n",
       "      <td>DiannaMaria</td>\n",
       "      <td>~ I am a very proud mom of a sweet, kind and c...</td>\n",
       "      <td>...</td>\n",
       "      <td>United States</td>\n",
       "      <td>39.783730</td>\n",
       "      <td>-100.445882</td>\n",
       "      <td>NaN</td>\n",
       "      <td>United States</td>\n",
       "      <td>North America</td>\n",
       "      <td>NaN</td>\n",
       "      <td>NaN</td>\n",
       "      <td>2020-11-09 17:46:06.939099</td>\n",
       "      <td>Trump</td>\n",
       "    </tr>\n",
       "  </tbody>\n",
       "</table>\n",
       "<p>970919 rows × 22 columns</p>\n",
       "</div>"
      ],
      "text/plain": [
       "                 created_at      tweet_id  \\\n",
       "0       2020-10-15 00:00:01  1.316529e+18   \n",
       "1       2020-10-15 00:00:01  1.316529e+18   \n",
       "2       2020-10-15 00:00:02  1.316529e+18   \n",
       "3       2020-10-15 00:00:02  1.316529e+18   \n",
       "4       2020-10-15 00:00:08  1.316529e+18   \n",
       "...                     ...           ...   \n",
       "970915  2020-11-08 23:59:48  1.325589e+18   \n",
       "970916  2020-11-08 23:59:53  1.325589e+18   \n",
       "970917  2020-11-08 23:59:54  1.325589e+18   \n",
       "970918  2020-11-08 23:59:55  1.325589e+18   \n",
       "922910  2020-11-08 23:59:56  1.325589e+18   \n",
       "\n",
       "                                                    tweet  likes  \\\n",
       "0       #Elecciones2020 | En #Florida: #JoeBiden dice ...    0.0   \n",
       "1       Usa 2020, Trump contro Facebook e Twitter: cop...   26.0   \n",
       "2       #Trump: As a student I used to hear for years,...    2.0   \n",
       "3       2 hours since last tweet from #Trump! Maybe he...    0.0   \n",
       "4       You get a tie! And you get a tie! #Trump ‘s ra...    4.0   \n",
       "...                                                   ...    ...   \n",
       "970915  JOE BIDEN WHY JOE BIDEN DID WINNED ?? TRUMP TR...    4.0   \n",
       "970916  #AfD|ler reagieren panisch bis hysterisch auf ...   25.0   \n",
       "970917  @sammelbis1998 @iheartmindy @bnorthg First, yo...    0.0   \n",
       "970918  OK just had to do it !\\n#Trump #CatapultTrump ...  105.0   \n",
       "922910  @nbcbayarea Who doesn’t like dogs or any kind ...    1.0   \n",
       "\n",
       "        retweet_count              source       user_id  \\\n",
       "0                 0.0           TweetDeck  3.606665e+08   \n",
       "1                 9.0    Social Mediaset   3.316176e+08   \n",
       "2                 1.0     Twitter Web App  8.436472e+06   \n",
       "3                 0.0       Trumpytweeter  8.283556e+17   \n",
       "4                 3.0  Twitter for iPhone  4.741380e+07   \n",
       "...               ...                 ...           ...   \n",
       "970915            0.0     Twitter Web App  3.245258e+09   \n",
       "970916            4.0     Twitter Web App  9.866108e+17   \n",
       "970917            0.0    Twitter for iPad  7.687811e+08   \n",
       "970918           28.0     Twitter Web App  4.519791e+08   \n",
       "922910            1.0  Twitter for iPhone  1.182639e+08   \n",
       "\n",
       "                    user_name user_screen_name  \\\n",
       "0          El Sol Latino News  elsollatinonews   \n",
       "1                     Tgcom24  MediasetTgcom24   \n",
       "2                      snarke           snarke   \n",
       "3               Trumpytweeter    trumpytweeter   \n",
       "4       Rana Abtar - رنا أبتر        Ranaabtar   \n",
       "...                       ...              ...   \n",
       "970915                   ahzy           ahhhzy   \n",
       "970916               watchdog     wilke_tobias   \n",
       "970917                  Debra          drdeblk   \n",
       "970918        Dunken K Bliths    DunkenKBliths   \n",
       "922910           Dianna Maria      DiannaMaria   \n",
       "\n",
       "                                         user_description  ...  \\\n",
       "0       🌐 Noticias de interés para latinos de la costa...  ...   \n",
       "1       Profilo ufficiale di Tgcom24: tutte le notizie...  ...   \n",
       "2       Will mock for food! Freelance writer, blogger,...  ...   \n",
       "3       If he doesn't tweet for some time, should we b...  ...   \n",
       "4       Washington Correspondent, Lebanese-American ,c...  ...   \n",
       "...                                                   ...  ...   \n",
       "970915                                                NaN  ...   \n",
       "970916  Quis custodiet ipsos custodes?\\n\\nTV Journalis...  ...   \n",
       "970917  MD. Autism specialist. Film lover. #DumpTrump2020  ...   \n",
       "970918  \"Tesla owner's will be followed back\"\\n\\n#Mach...  ...   \n",
       "922910  ~ I am a very proud mom of a sweet, kind and c...  ...   \n",
       "\n",
       "                       user_location        lat        long        city  \\\n",
       "0       Philadelphia, PA / Miami, FL  25.774270  -80.193660         NaN   \n",
       "1                                NaN        NaN         NaN         NaN   \n",
       "2                           Portland  45.520247 -122.674195    Portland   \n",
       "3                                NaN        NaN         NaN         NaN   \n",
       "4                      Washington DC  38.894992  -77.036558  Washington   \n",
       "...                              ...        ...         ...         ...   \n",
       "970915                           NaN        NaN         NaN         NaN   \n",
       "970916                    Saxony/GER        NaN         NaN         NaN   \n",
       "970917                           NaN        NaN         NaN         NaN   \n",
       "970918    ✔ Official Twitter Account        NaN         NaN         NaN   \n",
       "922910                 United States  39.783730 -100.445882         NaN   \n",
       "\n",
       "                         country      continent                 state  \\\n",
       "0       United States of America  North America               Florida   \n",
       "1                            NaN            NaN                   NaN   \n",
       "2       United States of America  North America                Oregon   \n",
       "3                            NaN            NaN                   NaN   \n",
       "4       United States of America  North America  District of Columbia   \n",
       "...                          ...            ...                   ...   \n",
       "970915                       NaN            NaN                   NaN   \n",
       "970916                       NaN            NaN                   NaN   \n",
       "970917                       NaN            NaN                   NaN   \n",
       "970918                       NaN            NaN                   NaN   \n",
       "922910             United States  North America                   NaN   \n",
       "\n",
       "       state_code                   collected_at hashtag  \n",
       "0              FL            2020-10-21 00:00:00   Trump  \n",
       "1             NaN  2020-10-21 00:00:00.373216530   Trump  \n",
       "2              OR  2020-10-21 00:00:00.746433060   Trump  \n",
       "3             NaN  2020-10-21 00:00:01.119649591   Trump  \n",
       "4              DC  2020-10-21 00:00:01.492866121   Trump  \n",
       "...           ...                            ...     ...  \n",
       "970915        NaN     2020-11-09 17:47:55.715870   Trump  \n",
       "970916        NaN     2020-11-09 17:47:55.975868   Trump  \n",
       "970917        NaN     2020-11-09 17:47:56.012674   Trump  \n",
       "970918        NaN     2020-11-09 17:47:55.807500   Trump  \n",
       "922910        NaN     2020-11-09 17:46:06.939099   Trump  \n",
       "\n",
       "[970919 rows x 22 columns]"
      ]
     },
     "execution_count": 17,
     "metadata": {},
     "output_type": "execute_result"
    }
   ],
   "source": [
    "trump_data_df.sort_values(by = 'created_at')"
   ]
  },
  {
   "cell_type": "code",
   "execution_count": 18,
   "metadata": {},
   "outputs": [
    {
     "data": {
      "text/html": [
       "<div>\n",
       "<style scoped>\n",
       "    .dataframe tbody tr th:only-of-type {\n",
       "        vertical-align: middle;\n",
       "    }\n",
       "\n",
       "    .dataframe tbody tr th {\n",
       "        vertical-align: top;\n",
       "    }\n",
       "\n",
       "    .dataframe thead th {\n",
       "        text-align: right;\n",
       "    }\n",
       "</style>\n",
       "<table border=\"1\" class=\"dataframe\">\n",
       "  <thead>\n",
       "    <tr style=\"text-align: right;\">\n",
       "      <th></th>\n",
       "      <th>created_at</th>\n",
       "      <th>tweet_id</th>\n",
       "      <th>tweet</th>\n",
       "      <th>likes</th>\n",
       "      <th>retweet_count</th>\n",
       "      <th>source</th>\n",
       "      <th>user_id</th>\n",
       "      <th>user_name</th>\n",
       "      <th>user_screen_name</th>\n",
       "      <th>user_description</th>\n",
       "      <th>...</th>\n",
       "      <th>user_location</th>\n",
       "      <th>lat</th>\n",
       "      <th>long</th>\n",
       "      <th>city</th>\n",
       "      <th>country</th>\n",
       "      <th>continent</th>\n",
       "      <th>state</th>\n",
       "      <th>state_code</th>\n",
       "      <th>collected_at</th>\n",
       "      <th>hashtag</th>\n",
       "    </tr>\n",
       "  </thead>\n",
       "  <tbody>\n",
       "    <tr>\n",
       "      <th>0</th>\n",
       "      <td>2020-10-15 00:00:01</td>\n",
       "      <td>1.316529e+18</td>\n",
       "      <td>#Elecciones2020 | En #Florida: #JoeBiden dice ...</td>\n",
       "      <td>0.0</td>\n",
       "      <td>0.0</td>\n",
       "      <td>TweetDeck</td>\n",
       "      <td>3.606665e+08</td>\n",
       "      <td>El Sol Latino News</td>\n",
       "      <td>elsollatinonews</td>\n",
       "      <td>🌐 Noticias de interés para latinos de la costa...</td>\n",
       "      <td>...</td>\n",
       "      <td>Philadelphia, PA / Miami, FL</td>\n",
       "      <td>25.774270</td>\n",
       "      <td>-80.193660</td>\n",
       "      <td>NaN</td>\n",
       "      <td>United States of America</td>\n",
       "      <td>North America</td>\n",
       "      <td>Florida</td>\n",
       "      <td>FL</td>\n",
       "      <td>2020-10-21 00:00:00</td>\n",
       "      <td>Biden</td>\n",
       "    </tr>\n",
       "    <tr>\n",
       "      <th>1</th>\n",
       "      <td>2020-10-15 00:00:18</td>\n",
       "      <td>1.316529e+18</td>\n",
       "      <td>#HunterBiden #HunterBidenEmails #JoeBiden #Joe...</td>\n",
       "      <td>0.0</td>\n",
       "      <td>0.0</td>\n",
       "      <td>Twitter for iPad</td>\n",
       "      <td>8.099044e+08</td>\n",
       "      <td>Cheri A. 🇺🇸</td>\n",
       "      <td>Biloximeemaw</td>\n",
       "      <td>Locked and loaded Meemaw. Love God, my family ...</td>\n",
       "      <td>...</td>\n",
       "      <td>NaN</td>\n",
       "      <td>NaN</td>\n",
       "      <td>NaN</td>\n",
       "      <td>NaN</td>\n",
       "      <td>NaN</td>\n",
       "      <td>NaN</td>\n",
       "      <td>NaN</td>\n",
       "      <td>NaN</td>\n",
       "      <td>2020-10-21 00:00:00.517827283</td>\n",
       "      <td>Biden</td>\n",
       "    </tr>\n",
       "    <tr>\n",
       "      <th>2</th>\n",
       "      <td>2020-10-15 00:00:20</td>\n",
       "      <td>1.316529e+18</td>\n",
       "      <td>@IslandGirlPRV @BradBeauregardJ @MeidasTouch T...</td>\n",
       "      <td>0.0</td>\n",
       "      <td>0.0</td>\n",
       "      <td>Twitter Web App</td>\n",
       "      <td>3.494182e+09</td>\n",
       "      <td>Flag Waver</td>\n",
       "      <td>Flag_Wavers</td>\n",
       "      <td>NaN</td>\n",
       "      <td>...</td>\n",
       "      <td>Golden Valley Arizona</td>\n",
       "      <td>46.304036</td>\n",
       "      <td>-109.171431</td>\n",
       "      <td>NaN</td>\n",
       "      <td>United States of America</td>\n",
       "      <td>North America</td>\n",
       "      <td>Montana</td>\n",
       "      <td>MT</td>\n",
       "      <td>2020-10-21 00:00:01.035654566</td>\n",
       "      <td>Biden</td>\n",
       "    </tr>\n",
       "    <tr>\n",
       "      <th>3</th>\n",
       "      <td>2020-10-15 00:00:21</td>\n",
       "      <td>1.316529e+18</td>\n",
       "      <td>@chrislongview Watching and setting dvr. Let’s...</td>\n",
       "      <td>0.0</td>\n",
       "      <td>0.0</td>\n",
       "      <td>Twitter for iPhone</td>\n",
       "      <td>8.242596e+17</td>\n",
       "      <td>Michelle Ferg</td>\n",
       "      <td>MichelleFerg4</td>\n",
       "      <td>NaN</td>\n",
       "      <td>...</td>\n",
       "      <td>NaN</td>\n",
       "      <td>NaN</td>\n",
       "      <td>NaN</td>\n",
       "      <td>NaN</td>\n",
       "      <td>NaN</td>\n",
       "      <td>NaN</td>\n",
       "      <td>NaN</td>\n",
       "      <td>NaN</td>\n",
       "      <td>2020-10-21 00:00:01.553481849</td>\n",
       "      <td>Biden</td>\n",
       "    </tr>\n",
       "    <tr>\n",
       "      <th>4</th>\n",
       "      <td>2020-10-15 00:00:22</td>\n",
       "      <td>1.316529e+18</td>\n",
       "      <td>#censorship #HunterBiden #Biden #BidenEmails #...</td>\n",
       "      <td>1.0</td>\n",
       "      <td>0.0</td>\n",
       "      <td>Twitter Web App</td>\n",
       "      <td>1.032807e+18</td>\n",
       "      <td>the Gold State</td>\n",
       "      <td>theegoldstate</td>\n",
       "      <td>A Silicon Valley #independent #News #Media #St...</td>\n",
       "      <td>...</td>\n",
       "      <td>California, USA</td>\n",
       "      <td>36.701463</td>\n",
       "      <td>-118.755997</td>\n",
       "      <td>NaN</td>\n",
       "      <td>United States of America</td>\n",
       "      <td>North America</td>\n",
       "      <td>California</td>\n",
       "      <td>CA</td>\n",
       "      <td>2020-10-21 00:00:02.071309132</td>\n",
       "      <td>Biden</td>\n",
       "    </tr>\n",
       "    <tr>\n",
       "      <th>...</th>\n",
       "      <td>...</td>\n",
       "      <td>...</td>\n",
       "      <td>...</td>\n",
       "      <td>...</td>\n",
       "      <td>...</td>\n",
       "      <td>...</td>\n",
       "      <td>...</td>\n",
       "      <td>...</td>\n",
       "      <td>...</td>\n",
       "      <td>...</td>\n",
       "      <td>...</td>\n",
       "      <td>...</td>\n",
       "      <td>...</td>\n",
       "      <td>...</td>\n",
       "      <td>...</td>\n",
       "      <td>...</td>\n",
       "      <td>...</td>\n",
       "      <td>...</td>\n",
       "      <td>...</td>\n",
       "      <td>...</td>\n",
       "      <td>...</td>\n",
       "    </tr>\n",
       "    <tr>\n",
       "      <th>776882</th>\n",
       "      <td>2020-11-08 23:59:38</td>\n",
       "      <td>1.325589e+18</td>\n",
       "      <td>Ωχ ελπίζω να μη μας βγει  σαν τους οπαδούς του...</td>\n",
       "      <td>0.0</td>\n",
       "      <td>0.0</td>\n",
       "      <td>Twitter for Android</td>\n",
       "      <td>4.032819e+08</td>\n",
       "      <td>οχι άλλο κάρβουνο 🇬🇷🗣🗣🗣</td>\n",
       "      <td>anapodoi</td>\n",
       "      <td>ακραία καιρικά φαινόμενα... ζήσαμε και απόψε</td>\n",
       "      <td>...</td>\n",
       "      <td>NaN</td>\n",
       "      <td>NaN</td>\n",
       "      <td>NaN</td>\n",
       "      <td>NaN</td>\n",
       "      <td>NaN</td>\n",
       "      <td>NaN</td>\n",
       "      <td>NaN</td>\n",
       "      <td>NaN</td>\n",
       "      <td>2020-11-09 18:32:45.947617</td>\n",
       "      <td>Biden</td>\n",
       "    </tr>\n",
       "    <tr>\n",
       "      <th>776883</th>\n",
       "      <td>2020-11-08 23:59:41</td>\n",
       "      <td>1.325589e+18</td>\n",
       "      <td>L'OTAN va sortir de sa léthargie et redevenir ...</td>\n",
       "      <td>48.0</td>\n",
       "      <td>14.0</td>\n",
       "      <td>Twitter for Android</td>\n",
       "      <td>7.819183e+17</td>\n",
       "      <td>🇫🇷 Alt-Droite (matricule 6921) ✝️ 🇬🇷 🇮🇹 🇦🇲</td>\n",
       "      <td>CtrlAltDroite</td>\n",
       "      <td>Fils de mineur. Libertés - Identité - Solidari...</td>\n",
       "      <td>...</td>\n",
       "      <td>France</td>\n",
       "      <td>46.603354</td>\n",
       "      <td>1.888334</td>\n",
       "      <td>NaN</td>\n",
       "      <td>France</td>\n",
       "      <td>Europe</td>\n",
       "      <td>NaN</td>\n",
       "      <td>NaN</td>\n",
       "      <td>2020-11-09 18:32:45.627335</td>\n",
       "      <td>Biden</td>\n",
       "    </tr>\n",
       "    <tr>\n",
       "      <th>776884</th>\n",
       "      <td>2020-11-08 23:59:52</td>\n",
       "      <td>1.325589e+18</td>\n",
       "      <td>🌎\\n\\n“#congiuntifuoriregione”\\n\\n‘Sono felice ...</td>\n",
       "      <td>1.0</td>\n",
       "      <td>1.0</td>\n",
       "      <td>Twitter for iPhone</td>\n",
       "      <td>5.293315e+08</td>\n",
       "      <td>Angelo Tani</td>\n",
       "      <td>AngeloTani</td>\n",
       "      <td>nato a casa dei nonni</td>\n",
       "      <td>...</td>\n",
       "      <td>🌎</td>\n",
       "      <td>NaN</td>\n",
       "      <td>NaN</td>\n",
       "      <td>NaN</td>\n",
       "      <td>NaN</td>\n",
       "      <td>NaN</td>\n",
       "      <td>NaN</td>\n",
       "      <td>NaN</td>\n",
       "      <td>2020-11-09 18:32:45.599846</td>\n",
       "      <td>Biden</td>\n",
       "    </tr>\n",
       "    <tr>\n",
       "      <th>737089</th>\n",
       "      <td>2020-11-08 23:59:57</td>\n",
       "      <td>1.325589e+18</td>\n",
       "      <td>#JoeBiden 😂😂😂😂😂😂😂😂😂😂😂😂😂😂😂😂😂😂😂😂 https://t.co/Ym...</td>\n",
       "      <td>0.0</td>\n",
       "      <td>0.0</td>\n",
       "      <td>Twitter for iPhone</td>\n",
       "      <td>1.148479e+08</td>\n",
       "      <td>Nataša</td>\n",
       "      <td>PewPeeew</td>\n",
       "      <td>My brain consists of coping mechanisms and vin...</td>\n",
       "      <td>...</td>\n",
       "      <td>Deutschland</td>\n",
       "      <td>51.083420</td>\n",
       "      <td>10.423447</td>\n",
       "      <td>NaN</td>\n",
       "      <td>Germany</td>\n",
       "      <td>Europe</td>\n",
       "      <td>NaN</td>\n",
       "      <td>NaN</td>\n",
       "      <td>2020-11-09 18:26:04.550843</td>\n",
       "      <td>Biden</td>\n",
       "    </tr>\n",
       "    <tr>\n",
       "      <th>776885</th>\n",
       "      <td>2020-11-08 23:59:58</td>\n",
       "      <td>1.325589e+18</td>\n",
       "      <td>Ik moet zeggen dat ik #Biden \"the lesser of tw...</td>\n",
       "      <td>0.0</td>\n",
       "      <td>0.0</td>\n",
       "      <td>Twitter for Android</td>\n",
       "      <td>5.863863e+08</td>\n",
       "      <td>Job</td>\n",
       "      <td>_JobO__</td>\n",
       "      <td>-voeg hier uw interessante bio toe-</td>\n",
       "      <td>...</td>\n",
       "      <td>NaN</td>\n",
       "      <td>NaN</td>\n",
       "      <td>NaN</td>\n",
       "      <td>NaN</td>\n",
       "      <td>NaN</td>\n",
       "      <td>NaN</td>\n",
       "      <td>NaN</td>\n",
       "      <td>NaN</td>\n",
       "      <td>2020-11-09 18:32:45.747707</td>\n",
       "      <td>Biden</td>\n",
       "    </tr>\n",
       "  </tbody>\n",
       "</table>\n",
       "<p>776886 rows × 22 columns</p>\n",
       "</div>"
      ],
      "text/plain": [
       "                 created_at      tweet_id  \\\n",
       "0       2020-10-15 00:00:01  1.316529e+18   \n",
       "1       2020-10-15 00:00:18  1.316529e+18   \n",
       "2       2020-10-15 00:00:20  1.316529e+18   \n",
       "3       2020-10-15 00:00:21  1.316529e+18   \n",
       "4       2020-10-15 00:00:22  1.316529e+18   \n",
       "...                     ...           ...   \n",
       "776882  2020-11-08 23:59:38  1.325589e+18   \n",
       "776883  2020-11-08 23:59:41  1.325589e+18   \n",
       "776884  2020-11-08 23:59:52  1.325589e+18   \n",
       "737089  2020-11-08 23:59:57  1.325589e+18   \n",
       "776885  2020-11-08 23:59:58  1.325589e+18   \n",
       "\n",
       "                                                    tweet  likes  \\\n",
       "0       #Elecciones2020 | En #Florida: #JoeBiden dice ...    0.0   \n",
       "1       #HunterBiden #HunterBidenEmails #JoeBiden #Joe...    0.0   \n",
       "2       @IslandGirlPRV @BradBeauregardJ @MeidasTouch T...    0.0   \n",
       "3       @chrislongview Watching and setting dvr. Let’s...    0.0   \n",
       "4       #censorship #HunterBiden #Biden #BidenEmails #...    1.0   \n",
       "...                                                   ...    ...   \n",
       "776882  Ωχ ελπίζω να μη μας βγει  σαν τους οπαδούς του...    0.0   \n",
       "776883  L'OTAN va sortir de sa léthargie et redevenir ...   48.0   \n",
       "776884  🌎\\n\\n“#congiuntifuoriregione”\\n\\n‘Sono felice ...    1.0   \n",
       "737089  #JoeBiden 😂😂😂😂😂😂😂😂😂😂😂😂😂😂😂😂😂😂😂😂 https://t.co/Ym...    0.0   \n",
       "776885  Ik moet zeggen dat ik #Biden \"the lesser of tw...    0.0   \n",
       "\n",
       "        retweet_count               source       user_id  \\\n",
       "0                 0.0            TweetDeck  3.606665e+08   \n",
       "1                 0.0     Twitter for iPad  8.099044e+08   \n",
       "2                 0.0      Twitter Web App  3.494182e+09   \n",
       "3                 0.0   Twitter for iPhone  8.242596e+17   \n",
       "4                 0.0      Twitter Web App  1.032807e+18   \n",
       "...               ...                  ...           ...   \n",
       "776882            0.0  Twitter for Android  4.032819e+08   \n",
       "776883           14.0  Twitter for Android  7.819183e+17   \n",
       "776884            1.0   Twitter for iPhone  5.293315e+08   \n",
       "737089            0.0   Twitter for iPhone  1.148479e+08   \n",
       "776885            0.0  Twitter for Android  5.863863e+08   \n",
       "\n",
       "                                         user_name user_screen_name  \\\n",
       "0                               El Sol Latino News  elsollatinonews   \n",
       "1                                      Cheri A. 🇺🇸     Biloximeemaw   \n",
       "2                                       Flag Waver      Flag_Wavers   \n",
       "3                                    Michelle Ferg    MichelleFerg4   \n",
       "4                                   the Gold State    theegoldstate   \n",
       "...                                            ...              ...   \n",
       "776882                     οχι άλλο κάρβουνο 🇬🇷🗣🗣🗣         anapodoi   \n",
       "776883  🇫🇷 Alt-Droite (matricule 6921) ✝️ 🇬🇷 🇮🇹 🇦🇲    CtrlAltDroite   \n",
       "776884                                 Angelo Tani       AngeloTani   \n",
       "737089                                      Nataša         PewPeeew   \n",
       "776885                                         Job          _JobO__   \n",
       "\n",
       "                                         user_description  ...  \\\n",
       "0       🌐 Noticias de interés para latinos de la costa...  ...   \n",
       "1       Locked and loaded Meemaw. Love God, my family ...  ...   \n",
       "2                                                     NaN  ...   \n",
       "3                                                     NaN  ...   \n",
       "4       A Silicon Valley #independent #News #Media #St...  ...   \n",
       "...                                                   ...  ...   \n",
       "776882       ακραία καιρικά φαινόμενα... ζήσαμε και απόψε  ...   \n",
       "776883  Fils de mineur. Libertés - Identité - Solidari...  ...   \n",
       "776884                              nato a casa dei nonni  ...   \n",
       "737089  My brain consists of coping mechanisms and vin...  ...   \n",
       "776885                -voeg hier uw interessante bio toe-  ...   \n",
       "\n",
       "                       user_location        lat        long  city  \\\n",
       "0       Philadelphia, PA / Miami, FL  25.774270  -80.193660   NaN   \n",
       "1                                NaN        NaN         NaN   NaN   \n",
       "2              Golden Valley Arizona  46.304036 -109.171431   NaN   \n",
       "3                                NaN        NaN         NaN   NaN   \n",
       "4                    California, USA  36.701463 -118.755997   NaN   \n",
       "...                              ...        ...         ...   ...   \n",
       "776882                           NaN        NaN         NaN   NaN   \n",
       "776883                        France  46.603354    1.888334   NaN   \n",
       "776884                             🌎        NaN         NaN   NaN   \n",
       "737089                   Deutschland  51.083420   10.423447   NaN   \n",
       "776885                           NaN        NaN         NaN   NaN   \n",
       "\n",
       "                         country      continent       state state_code  \\\n",
       "0       United States of America  North America     Florida         FL   \n",
       "1                            NaN            NaN         NaN        NaN   \n",
       "2       United States of America  North America     Montana         MT   \n",
       "3                            NaN            NaN         NaN        NaN   \n",
       "4       United States of America  North America  California         CA   \n",
       "...                          ...            ...         ...        ...   \n",
       "776882                       NaN            NaN         NaN        NaN   \n",
       "776883                    France         Europe         NaN        NaN   \n",
       "776884                       NaN            NaN         NaN        NaN   \n",
       "737089                   Germany         Europe         NaN        NaN   \n",
       "776885                       NaN            NaN         NaN        NaN   \n",
       "\n",
       "                         collected_at hashtag  \n",
       "0                 2020-10-21 00:00:00   Biden  \n",
       "1       2020-10-21 00:00:00.517827283   Biden  \n",
       "2       2020-10-21 00:00:01.035654566   Biden  \n",
       "3       2020-10-21 00:00:01.553481849   Biden  \n",
       "4       2020-10-21 00:00:02.071309132   Biden  \n",
       "...                               ...     ...  \n",
       "776882     2020-11-09 18:32:45.947617   Biden  \n",
       "776883     2020-11-09 18:32:45.627335   Biden  \n",
       "776884     2020-11-09 18:32:45.599846   Biden  \n",
       "737089     2020-11-09 18:26:04.550843   Biden  \n",
       "776885     2020-11-09 18:32:45.747707   Biden  \n",
       "\n",
       "[776886 rows x 22 columns]"
      ]
     },
     "execution_count": 18,
     "metadata": {},
     "output_type": "execute_result"
    }
   ],
   "source": [
    "biden_data_df.sort_values(by = 'created_at')"
   ]
  },
  {
   "cell_type": "code",
   "execution_count": 19,
   "metadata": {},
   "outputs": [],
   "source": [
    "usa = {\"United States of America\" : \"United States\"}\n",
    "trump_data_df['country'].replace(usa, inplace=True)\n",
    "biden_data_df['country'].replace(usa, inplace=True)"
   ]
  },
  {
   "cell_type": "code",
   "execution_count": 20,
   "metadata": {},
   "outputs": [],
   "source": [
    "trump_data_df = trump_data_df.dropna(how='any')\n",
    "biden_data_df = biden_data_df.dropna(how='any')"
   ]
  },
  {
   "cell_type": "code",
   "execution_count": 21,
   "metadata": {},
   "outputs": [],
   "source": [
    "trump_data_df = trump_data_df.loc[trump_data_df['country']== 'United States']\n",
    "biden_data_df = biden_data_df.loc[biden_data_df['country']== 'United States']"
   ]
  },
  {
   "cell_type": "code",
   "execution_count": 22,
   "metadata": {},
   "outputs": [
    {
     "name": "stdout",
     "output_type": "stream",
     "text": [
      "Count of duplicates: 1421\n",
      "Count of duplicates: 807\n"
     ]
    }
   ],
   "source": [
    "print(\"Count of duplicates: {}\".format(trump_data_df.duplicated(subset=[\"tweet\"]).sum()))\n",
    "print(\"Count of duplicates: {}\".format(biden_data_df.duplicated(subset=[\"tweet\"]).sum()))"
   ]
  },
  {
   "cell_type": "code",
   "execution_count": 23,
   "metadata": {},
   "outputs": [
    {
     "name": "stdout",
     "output_type": "stream",
     "text": [
      "Original size of df: 96623\n",
      "No duplicates size of df : 94581\n",
      "Original size of df: 85761\n",
      "No duplicates size of df : 84461\n"
     ]
    }
   ],
   "source": [
    "print(\"Original size of df: {}\".format(len(trump_data_df)))\n",
    "trump_data_df.drop_duplicates(subset=[\"tweet\"], inplace=True, keep=False)\n",
    "print(\"No duplicates size of df : {}\".format(len(trump_data_df)))\n",
    "\n",
    "print(\"Original size of df: {}\".format(len(biden_data_df)))\n",
    "biden_data_df.drop_duplicates(subset=[\"tweet\"], inplace=True, keep=False)\n",
    "print(\"No duplicates size of df : {}\".format(len(biden_data_df)))"
   ]
  },
  {
   "cell_type": "code",
   "execution_count": 24,
   "metadata": {},
   "outputs": [],
   "source": [
    "trump_data_df.reset_index(inplace=True)\n",
    "biden_data_df.reset_index(inplace=True)"
   ]
  },
  {
   "cell_type": "code",
   "execution_count": 25,
   "metadata": {},
   "outputs": [
    {
     "data": {
      "text/html": [
       "<div>\n",
       "<style scoped>\n",
       "    .dataframe tbody tr th:only-of-type {\n",
       "        vertical-align: middle;\n",
       "    }\n",
       "\n",
       "    .dataframe tbody tr th {\n",
       "        vertical-align: top;\n",
       "    }\n",
       "\n",
       "    .dataframe thead th {\n",
       "        text-align: right;\n",
       "    }\n",
       "</style>\n",
       "<table border=\"1\" class=\"dataframe\">\n",
       "  <thead>\n",
       "    <tr style=\"text-align: right;\">\n",
       "      <th></th>\n",
       "      <th>index</th>\n",
       "      <th>created_at</th>\n",
       "      <th>tweet_id</th>\n",
       "      <th>tweet</th>\n",
       "      <th>likes</th>\n",
       "      <th>retweet_count</th>\n",
       "      <th>source</th>\n",
       "      <th>user_id</th>\n",
       "      <th>user_name</th>\n",
       "      <th>user_screen_name</th>\n",
       "      <th>...</th>\n",
       "      <th>user_location</th>\n",
       "      <th>lat</th>\n",
       "      <th>long</th>\n",
       "      <th>city</th>\n",
       "      <th>country</th>\n",
       "      <th>continent</th>\n",
       "      <th>state</th>\n",
       "      <th>state_code</th>\n",
       "      <th>collected_at</th>\n",
       "      <th>hashtag</th>\n",
       "    </tr>\n",
       "  </thead>\n",
       "  <tbody>\n",
       "    <tr>\n",
       "      <th>0</th>\n",
       "      <td>2</td>\n",
       "      <td>2020-10-15 00:00:02</td>\n",
       "      <td>1.316529e+18</td>\n",
       "      <td>#Trump: As a student I used to hear for years,...</td>\n",
       "      <td>2.0</td>\n",
       "      <td>1.0</td>\n",
       "      <td>Twitter Web App</td>\n",
       "      <td>8436472.0</td>\n",
       "      <td>snarke</td>\n",
       "      <td>snarke</td>\n",
       "      <td>...</td>\n",
       "      <td>Portland</td>\n",
       "      <td>45.520247</td>\n",
       "      <td>-122.674195</td>\n",
       "      <td>Portland</td>\n",
       "      <td>United States</td>\n",
       "      <td>North America</td>\n",
       "      <td>Oregon</td>\n",
       "      <td>OR</td>\n",
       "      <td>2020-10-21 00:00:00.746433060</td>\n",
       "      <td>Trump</td>\n",
       "    </tr>\n",
       "    <tr>\n",
       "      <th>1</th>\n",
       "      <td>4</td>\n",
       "      <td>2020-10-15 00:00:08</td>\n",
       "      <td>1.316529e+18</td>\n",
       "      <td>You get a tie! And you get a tie! #Trump ‘s ra...</td>\n",
       "      <td>4.0</td>\n",
       "      <td>3.0</td>\n",
       "      <td>Twitter for iPhone</td>\n",
       "      <td>47413798.0</td>\n",
       "      <td>Rana Abtar - رنا أبتر</td>\n",
       "      <td>Ranaabtar</td>\n",
       "      <td>...</td>\n",
       "      <td>Washington DC</td>\n",
       "      <td>38.894992</td>\n",
       "      <td>-77.036558</td>\n",
       "      <td>Washington</td>\n",
       "      <td>United States</td>\n",
       "      <td>North America</td>\n",
       "      <td>District of Columbia</td>\n",
       "      <td>DC</td>\n",
       "      <td>2020-10-21 00:00:01.492866121</td>\n",
       "      <td>Trump</td>\n",
       "    </tr>\n",
       "    <tr>\n",
       "      <th>2</th>\n",
       "      <td>11</td>\n",
       "      <td>2020-10-15 00:00:25</td>\n",
       "      <td>1.316529e+18</td>\n",
       "      <td>In 2020, #NYPost is being #censorship #CENSORE...</td>\n",
       "      <td>0.0</td>\n",
       "      <td>0.0</td>\n",
       "      <td>Twitter for iPhone</td>\n",
       "      <td>19940334.0</td>\n",
       "      <td>Change Illinois | Biden will increase taxes by...</td>\n",
       "      <td>changeillinois</td>\n",
       "      <td>...</td>\n",
       "      <td>Chicago, Illinois</td>\n",
       "      <td>41.875562</td>\n",
       "      <td>-87.624421</td>\n",
       "      <td>Chicago</td>\n",
       "      <td>United States</td>\n",
       "      <td>North America</td>\n",
       "      <td>Illinois</td>\n",
       "      <td>IL</td>\n",
       "      <td>2020-10-21 00:00:04.105381834</td>\n",
       "      <td>Trump</td>\n",
       "    </tr>\n",
       "  </tbody>\n",
       "</table>\n",
       "<p>3 rows × 23 columns</p>\n",
       "</div>"
      ],
      "text/plain": [
       "   index           created_at      tweet_id  \\\n",
       "0      2  2020-10-15 00:00:02  1.316529e+18   \n",
       "1      4  2020-10-15 00:00:08  1.316529e+18   \n",
       "2     11  2020-10-15 00:00:25  1.316529e+18   \n",
       "\n",
       "                                               tweet  likes  retweet_count  \\\n",
       "0  #Trump: As a student I used to hear for years,...    2.0            1.0   \n",
       "1  You get a tie! And you get a tie! #Trump ‘s ra...    4.0            3.0   \n",
       "2  In 2020, #NYPost is being #censorship #CENSORE...    0.0            0.0   \n",
       "\n",
       "               source     user_id  \\\n",
       "0     Twitter Web App   8436472.0   \n",
       "1  Twitter for iPhone  47413798.0   \n",
       "2  Twitter for iPhone  19940334.0   \n",
       "\n",
       "                                           user_name user_screen_name  ...  \\\n",
       "0                                             snarke           snarke  ...   \n",
       "1                              Rana Abtar - رنا أبتر        Ranaabtar  ...   \n",
       "2  Change Illinois | Biden will increase taxes by...   changeillinois  ...   \n",
       "\n",
       "       user_location        lat        long        city        country  \\\n",
       "0           Portland  45.520247 -122.674195    Portland  United States   \n",
       "1      Washington DC  38.894992  -77.036558  Washington  United States   \n",
       "2  Chicago, Illinois  41.875562  -87.624421     Chicago  United States   \n",
       "\n",
       "       continent                 state state_code  \\\n",
       "0  North America                Oregon         OR   \n",
       "1  North America  District of Columbia         DC   \n",
       "2  North America              Illinois         IL   \n",
       "\n",
       "                    collected_at hashtag  \n",
       "0  2020-10-21 00:00:00.746433060   Trump  \n",
       "1  2020-10-21 00:00:01.492866121   Trump  \n",
       "2  2020-10-21 00:00:04.105381834   Trump  \n",
       "\n",
       "[3 rows x 23 columns]"
      ]
     },
     "execution_count": 25,
     "metadata": {},
     "output_type": "execute_result"
    }
   ],
   "source": [
    "trump_data_df.head(3)"
   ]
  },
  {
   "cell_type": "code",
   "execution_count": 26,
   "metadata": {},
   "outputs": [
    {
     "data": {
      "text/html": [
       "<div>\n",
       "<style scoped>\n",
       "    .dataframe tbody tr th:only-of-type {\n",
       "        vertical-align: middle;\n",
       "    }\n",
       "\n",
       "    .dataframe tbody tr th {\n",
       "        vertical-align: top;\n",
       "    }\n",
       "\n",
       "    .dataframe thead th {\n",
       "        text-align: right;\n",
       "    }\n",
       "</style>\n",
       "<table border=\"1\" class=\"dataframe\">\n",
       "  <thead>\n",
       "    <tr style=\"text-align: right;\">\n",
       "      <th></th>\n",
       "      <th>id</th>\n",
       "      <th>created_at</th>\n",
       "      <th>tweet_id</th>\n",
       "      <th>tweet</th>\n",
       "      <th>likes</th>\n",
       "      <th>retweet_count</th>\n",
       "      <th>source</th>\n",
       "      <th>user_id</th>\n",
       "      <th>user_name</th>\n",
       "      <th>user_screen_name</th>\n",
       "      <th>...</th>\n",
       "      <th>user_location</th>\n",
       "      <th>lat</th>\n",
       "      <th>long</th>\n",
       "      <th>city</th>\n",
       "      <th>country</th>\n",
       "      <th>continent</th>\n",
       "      <th>state</th>\n",
       "      <th>state_code</th>\n",
       "      <th>collected_at</th>\n",
       "      <th>hashtag</th>\n",
       "    </tr>\n",
       "  </thead>\n",
       "  <tbody>\n",
       "    <tr>\n",
       "      <th>0</th>\n",
       "      <td>2</td>\n",
       "      <td>2020-10-15 00:00:02</td>\n",
       "      <td>1.316529e+18</td>\n",
       "      <td>#Trump: As a student I used to hear for years,...</td>\n",
       "      <td>2.0</td>\n",
       "      <td>1.0</td>\n",
       "      <td>Twitter Web App</td>\n",
       "      <td>8436472.0</td>\n",
       "      <td>snarke</td>\n",
       "      <td>snarke</td>\n",
       "      <td>...</td>\n",
       "      <td>Portland</td>\n",
       "      <td>45.520247</td>\n",
       "      <td>-122.674195</td>\n",
       "      <td>Portland</td>\n",
       "      <td>United States</td>\n",
       "      <td>North America</td>\n",
       "      <td>Oregon</td>\n",
       "      <td>OR</td>\n",
       "      <td>2020-10-21 00:00:00.746433060</td>\n",
       "      <td>Trump</td>\n",
       "    </tr>\n",
       "    <tr>\n",
       "      <th>1</th>\n",
       "      <td>4</td>\n",
       "      <td>2020-10-15 00:00:08</td>\n",
       "      <td>1.316529e+18</td>\n",
       "      <td>You get a tie! And you get a tie! #Trump ‘s ra...</td>\n",
       "      <td>4.0</td>\n",
       "      <td>3.0</td>\n",
       "      <td>Twitter for iPhone</td>\n",
       "      <td>47413798.0</td>\n",
       "      <td>Rana Abtar - رنا أبتر</td>\n",
       "      <td>Ranaabtar</td>\n",
       "      <td>...</td>\n",
       "      <td>Washington DC</td>\n",
       "      <td>38.894992</td>\n",
       "      <td>-77.036558</td>\n",
       "      <td>Washington</td>\n",
       "      <td>United States</td>\n",
       "      <td>North America</td>\n",
       "      <td>District of Columbia</td>\n",
       "      <td>DC</td>\n",
       "      <td>2020-10-21 00:00:01.492866121</td>\n",
       "      <td>Trump</td>\n",
       "    </tr>\n",
       "    <tr>\n",
       "      <th>2</th>\n",
       "      <td>11</td>\n",
       "      <td>2020-10-15 00:00:25</td>\n",
       "      <td>1.316529e+18</td>\n",
       "      <td>In 2020, #NYPost is being #censorship #CENSORE...</td>\n",
       "      <td>0.0</td>\n",
       "      <td>0.0</td>\n",
       "      <td>Twitter for iPhone</td>\n",
       "      <td>19940334.0</td>\n",
       "      <td>Change Illinois | Biden will increase taxes by...</td>\n",
       "      <td>changeillinois</td>\n",
       "      <td>...</td>\n",
       "      <td>Chicago, Illinois</td>\n",
       "      <td>41.875562</td>\n",
       "      <td>-87.624421</td>\n",
       "      <td>Chicago</td>\n",
       "      <td>United States</td>\n",
       "      <td>North America</td>\n",
       "      <td>Illinois</td>\n",
       "      <td>IL</td>\n",
       "      <td>2020-10-21 00:00:04.105381834</td>\n",
       "      <td>Trump</td>\n",
       "    </tr>\n",
       "  </tbody>\n",
       "</table>\n",
       "<p>3 rows × 23 columns</p>\n",
       "</div>"
      ],
      "text/plain": [
       "   id           created_at      tweet_id  \\\n",
       "0   2  2020-10-15 00:00:02  1.316529e+18   \n",
       "1   4  2020-10-15 00:00:08  1.316529e+18   \n",
       "2  11  2020-10-15 00:00:25  1.316529e+18   \n",
       "\n",
       "                                               tweet  likes  retweet_count  \\\n",
       "0  #Trump: As a student I used to hear for years,...    2.0            1.0   \n",
       "1  You get a tie! And you get a tie! #Trump ‘s ra...    4.0            3.0   \n",
       "2  In 2020, #NYPost is being #censorship #CENSORE...    0.0            0.0   \n",
       "\n",
       "               source     user_id  \\\n",
       "0     Twitter Web App   8436472.0   \n",
       "1  Twitter for iPhone  47413798.0   \n",
       "2  Twitter for iPhone  19940334.0   \n",
       "\n",
       "                                           user_name user_screen_name  ...  \\\n",
       "0                                             snarke           snarke  ...   \n",
       "1                              Rana Abtar - رنا أبتر        Ranaabtar  ...   \n",
       "2  Change Illinois | Biden will increase taxes by...   changeillinois  ...   \n",
       "\n",
       "       user_location        lat        long        city        country  \\\n",
       "0           Portland  45.520247 -122.674195    Portland  United States   \n",
       "1      Washington DC  38.894992  -77.036558  Washington  United States   \n",
       "2  Chicago, Illinois  41.875562  -87.624421     Chicago  United States   \n",
       "\n",
       "       continent                 state state_code  \\\n",
       "0  North America                Oregon         OR   \n",
       "1  North America  District of Columbia         DC   \n",
       "2  North America              Illinois         IL   \n",
       "\n",
       "                    collected_at hashtag  \n",
       "0  2020-10-21 00:00:00.746433060   Trump  \n",
       "1  2020-10-21 00:00:01.492866121   Trump  \n",
       "2  2020-10-21 00:00:04.105381834   Trump  \n",
       "\n",
       "[3 rows x 23 columns]"
      ]
     },
     "execution_count": 26,
     "metadata": {},
     "output_type": "execute_result"
    }
   ],
   "source": [
    "trump_data_df = trump_data_df.rename(columns = {'index': 'id'}, inplace = False)\n",
    "trump_data_df.head(3)"
   ]
  },
  {
   "cell_type": "code",
   "execution_count": 27,
   "metadata": {},
   "outputs": [
    {
     "data": {
      "text/html": [
       "<div>\n",
       "<style scoped>\n",
       "    .dataframe tbody tr th:only-of-type {\n",
       "        vertical-align: middle;\n",
       "    }\n",
       "\n",
       "    .dataframe tbody tr th {\n",
       "        vertical-align: top;\n",
       "    }\n",
       "\n",
       "    .dataframe thead th {\n",
       "        text-align: right;\n",
       "    }\n",
       "</style>\n",
       "<table border=\"1\" class=\"dataframe\">\n",
       "  <thead>\n",
       "    <tr style=\"text-align: right;\">\n",
       "      <th></th>\n",
       "      <th>id</th>\n",
       "      <th>created_at</th>\n",
       "      <th>tweet_id</th>\n",
       "      <th>tweet</th>\n",
       "      <th>likes</th>\n",
       "      <th>retweet_count</th>\n",
       "      <th>source</th>\n",
       "      <th>user_id</th>\n",
       "      <th>user_name</th>\n",
       "      <th>user_screen_name</th>\n",
       "      <th>...</th>\n",
       "      <th>user_location</th>\n",
       "      <th>lat</th>\n",
       "      <th>long</th>\n",
       "      <th>city</th>\n",
       "      <th>country</th>\n",
       "      <th>continent</th>\n",
       "      <th>state</th>\n",
       "      <th>state_code</th>\n",
       "      <th>collected_at</th>\n",
       "      <th>hashtag</th>\n",
       "    </tr>\n",
       "  </thead>\n",
       "  <tbody>\n",
       "    <tr>\n",
       "      <th>0</th>\n",
       "      <td>6</td>\n",
       "      <td>2020-10-15 00:00:25</td>\n",
       "      <td>1.316529e+18</td>\n",
       "      <td>In 2020, #NYPost is being #censorship #CENSORE...</td>\n",
       "      <td>0.0</td>\n",
       "      <td>0.0</td>\n",
       "      <td>Twitter for iPhone</td>\n",
       "      <td>1.994033e+07</td>\n",
       "      <td>Change Illinois | Biden will increase taxes by...</td>\n",
       "      <td>changeillinois</td>\n",
       "      <td>...</td>\n",
       "      <td>Chicago, Illinois</td>\n",
       "      <td>41.875562</td>\n",
       "      <td>-87.624421</td>\n",
       "      <td>Chicago</td>\n",
       "      <td>United States</td>\n",
       "      <td>North America</td>\n",
       "      <td>Illinois</td>\n",
       "      <td>IL</td>\n",
       "      <td>2020-10-21 00:00:03.106963698</td>\n",
       "      <td>Biden</td>\n",
       "    </tr>\n",
       "    <tr>\n",
       "      <th>1</th>\n",
       "      <td>17</td>\n",
       "      <td>2020-10-15 00:01:23</td>\n",
       "      <td>1.316530e+18</td>\n",
       "      <td>Comments on this? \"Do Democrats Understand how...</td>\n",
       "      <td>0.0</td>\n",
       "      <td>0.0</td>\n",
       "      <td>Twitter Web App</td>\n",
       "      <td>1.016593e+08</td>\n",
       "      <td>John Ubaldi</td>\n",
       "      <td>ubaldireports</td>\n",
       "      <td>...</td>\n",
       "      <td>Tampa, Florida</td>\n",
       "      <td>27.947760</td>\n",
       "      <td>-82.458444</td>\n",
       "      <td>Tampa</td>\n",
       "      <td>United States</td>\n",
       "      <td>North America</td>\n",
       "      <td>Florida</td>\n",
       "      <td>FL</td>\n",
       "      <td>2020-10-21 00:00:08.803063811</td>\n",
       "      <td>Biden</td>\n",
       "    </tr>\n",
       "    <tr>\n",
       "      <th>2</th>\n",
       "      <td>25</td>\n",
       "      <td>2020-10-15 00:01:57</td>\n",
       "      <td>1.316530e+18</td>\n",
       "      <td>@RealJamesWoods #BidenCrimeFamily #JoeBiden #H...</td>\n",
       "      <td>0.0</td>\n",
       "      <td>0.0</td>\n",
       "      <td>Twitter for Android</td>\n",
       "      <td>1.300837e+18</td>\n",
       "      <td>Sam KEYS</td>\n",
       "      <td>SamKEYS65729181</td>\n",
       "      <td>...</td>\n",
       "      <td>Los Angeles, CA</td>\n",
       "      <td>34.053691</td>\n",
       "      <td>-118.242766</td>\n",
       "      <td>Los Angeles</td>\n",
       "      <td>United States</td>\n",
       "      <td>North America</td>\n",
       "      <td>California</td>\n",
       "      <td>CA</td>\n",
       "      <td>2020-10-21 00:00:12.945682075</td>\n",
       "      <td>Biden</td>\n",
       "    </tr>\n",
       "  </tbody>\n",
       "</table>\n",
       "<p>3 rows × 23 columns</p>\n",
       "</div>"
      ],
      "text/plain": [
       "   id           created_at      tweet_id  \\\n",
       "0   6  2020-10-15 00:00:25  1.316529e+18   \n",
       "1  17  2020-10-15 00:01:23  1.316530e+18   \n",
       "2  25  2020-10-15 00:01:57  1.316530e+18   \n",
       "\n",
       "                                               tweet  likes  retweet_count  \\\n",
       "0  In 2020, #NYPost is being #censorship #CENSORE...    0.0            0.0   \n",
       "1  Comments on this? \"Do Democrats Understand how...    0.0            0.0   \n",
       "2  @RealJamesWoods #BidenCrimeFamily #JoeBiden #H...    0.0            0.0   \n",
       "\n",
       "                source       user_id  \\\n",
       "0   Twitter for iPhone  1.994033e+07   \n",
       "1      Twitter Web App  1.016593e+08   \n",
       "2  Twitter for Android  1.300837e+18   \n",
       "\n",
       "                                           user_name user_screen_name  ...  \\\n",
       "0  Change Illinois | Biden will increase taxes by...   changeillinois  ...   \n",
       "1                                        John Ubaldi    ubaldireports  ...   \n",
       "2                                           Sam KEYS  SamKEYS65729181  ...   \n",
       "\n",
       "       user_location        lat        long         city        country  \\\n",
       "0  Chicago, Illinois  41.875562  -87.624421      Chicago  United States   \n",
       "1     Tampa, Florida  27.947760  -82.458444        Tampa  United States   \n",
       "2    Los Angeles, CA  34.053691 -118.242766  Los Angeles  United States   \n",
       "\n",
       "       continent       state state_code                   collected_at hashtag  \n",
       "0  North America    Illinois         IL  2020-10-21 00:00:03.106963698   Biden  \n",
       "1  North America     Florida         FL  2020-10-21 00:00:08.803063811   Biden  \n",
       "2  North America  California         CA  2020-10-21 00:00:12.945682075   Biden  \n",
       "\n",
       "[3 rows x 23 columns]"
      ]
     },
     "execution_count": 27,
     "metadata": {},
     "output_type": "execute_result"
    }
   ],
   "source": [
    "biden_data_df = biden_data_df.rename(columns = {'index': 'id'}, inplace = False)\n",
    "biden_data_df.head(3)"
   ]
  },
  {
   "cell_type": "code",
   "execution_count": 28,
   "metadata": {},
   "outputs": [
    {
     "data": {
      "text/plain": [
       "created_at\n",
       "2020-10-15 00:00:02    1\n",
       "2020-10-15 00:00:08    1\n",
       "2020-10-15 00:00:25    1\n",
       "dtype: int64"
      ]
     },
     "execution_count": 28,
     "metadata": {},
     "output_type": "execute_result"
    }
   ],
   "source": [
    "t_time_series = pd.Series(1, index=trump_data_df['created_at'])\n",
    "t_time_series.head(3)"
   ]
  },
  {
   "cell_type": "code",
   "execution_count": 29,
   "metadata": {},
   "outputs": [
    {
     "data": {
      "text/plain": [
       "created_at\n",
       "2020-10-15 00:00:25    1\n",
       "2020-10-15 00:01:23    1\n",
       "2020-10-15 00:01:57    1\n",
       "dtype: int64"
      ]
     },
     "execution_count": 29,
     "metadata": {},
     "output_type": "execute_result"
    }
   ],
   "source": [
    "b_time_series = pd.Series(1, index=biden_data_df['created_at'])\n",
    "b_time_series.head(3)"
   ]
  },
  {
   "cell_type": "code",
   "execution_count": 30,
   "metadata": {},
   "outputs": [
    {
     "data": {
      "text/plain": [
       "created_at\n",
       "2020-10-15 00:00:00    1063\n",
       "2020-10-15 12:00:00    1535\n",
       "2020-10-16 00:00:00    1912\n",
       "Freq: 12H, dtype: int64"
      ]
     },
     "execution_count": 30,
     "metadata": {},
     "output_type": "execute_result"
    }
   ],
   "source": [
    "# Converting the index as date\n",
    "t_time_series.index = pd.to_datetime(t_time_series.index)\n",
    "trump_df = t_time_series.resample('12H').sum()\n",
    "trump_df.head(3)"
   ]
  },
  {
   "cell_type": "code",
   "execution_count": 31,
   "metadata": {},
   "outputs": [
    {
     "data": {
      "text/plain": [
       "created_at\n",
       "2020-10-15 00:00:00     814\n",
       "2020-10-15 12:00:00    1239\n",
       "2020-10-16 00:00:00    1601\n",
       "Freq: 12H, dtype: int64"
      ]
     },
     "execution_count": 31,
     "metadata": {},
     "output_type": "execute_result"
    }
   ],
   "source": [
    "b_time_series.index = pd.to_datetime(b_time_series.index)\n",
    "biden_df = b_time_series.resample('12H').sum()\n",
    "biden_df.head(3)"
   ]
  },
  {
   "cell_type": "code",
   "execution_count": 32,
   "metadata": {},
   "outputs": [
    {
     "data": {
      "text/html": [
       "<div>\n",
       "<style scoped>\n",
       "    .dataframe tbody tr th:only-of-type {\n",
       "        vertical-align: middle;\n",
       "    }\n",
       "\n",
       "    .dataframe tbody tr th {\n",
       "        vertical-align: top;\n",
       "    }\n",
       "\n",
       "    .dataframe thead th {\n",
       "        text-align: right;\n",
       "    }\n",
       "</style>\n",
       "<table border=\"1\" class=\"dataframe\">\n",
       "  <thead>\n",
       "    <tr style=\"text-align: right;\">\n",
       "      <th></th>\n",
       "      <th>0</th>\n",
       "    </tr>\n",
       "    <tr>\n",
       "      <th>created_at</th>\n",
       "      <th></th>\n",
       "    </tr>\n",
       "  </thead>\n",
       "  <tbody>\n",
       "    <tr>\n",
       "      <th>2020-10-15 00:00:00</th>\n",
       "      <td>1063</td>\n",
       "    </tr>\n",
       "    <tr>\n",
       "      <th>2020-10-15 12:00:00</th>\n",
       "      <td>1535</td>\n",
       "    </tr>\n",
       "    <tr>\n",
       "      <th>2020-10-16 00:00:00</th>\n",
       "      <td>1912</td>\n",
       "    </tr>\n",
       "    <tr>\n",
       "      <th>2020-10-16 12:00:00</th>\n",
       "      <td>1958</td>\n",
       "    </tr>\n",
       "    <tr>\n",
       "      <th>2020-10-17 00:00:00</th>\n",
       "      <td>874</td>\n",
       "    </tr>\n",
       "  </tbody>\n",
       "</table>\n",
       "</div>"
      ],
      "text/plain": [
       "                        0\n",
       "created_at               \n",
       "2020-10-15 00:00:00  1063\n",
       "2020-10-15 12:00:00  1535\n",
       "2020-10-16 00:00:00  1912\n",
       "2020-10-16 12:00:00  1958\n",
       "2020-10-17 00:00:00   874"
      ]
     },
     "execution_count": 32,
     "metadata": {},
     "output_type": "execute_result"
    }
   ],
   "source": [
    "t_time_series_df = pd.DataFrame(trump_df)\n",
    "t_time_series_df.head()"
   ]
  },
  {
   "cell_type": "code",
   "execution_count": 33,
   "metadata": {},
   "outputs": [
    {
     "data": {
      "text/html": [
       "<div>\n",
       "<style scoped>\n",
       "    .dataframe tbody tr th:only-of-type {\n",
       "        vertical-align: middle;\n",
       "    }\n",
       "\n",
       "    .dataframe tbody tr th {\n",
       "        vertical-align: top;\n",
       "    }\n",
       "\n",
       "    .dataframe thead th {\n",
       "        text-align: right;\n",
       "    }\n",
       "</style>\n",
       "<table border=\"1\" class=\"dataframe\">\n",
       "  <thead>\n",
       "    <tr style=\"text-align: right;\">\n",
       "      <th></th>\n",
       "      <th>0</th>\n",
       "    </tr>\n",
       "    <tr>\n",
       "      <th>created_at</th>\n",
       "      <th></th>\n",
       "    </tr>\n",
       "  </thead>\n",
       "  <tbody>\n",
       "    <tr>\n",
       "      <th>2020-10-15 00:00:00</th>\n",
       "      <td>814</td>\n",
       "    </tr>\n",
       "    <tr>\n",
       "      <th>2020-10-15 12:00:00</th>\n",
       "      <td>1239</td>\n",
       "    </tr>\n",
       "    <tr>\n",
       "      <th>2020-10-16 00:00:00</th>\n",
       "      <td>1601</td>\n",
       "    </tr>\n",
       "    <tr>\n",
       "      <th>2020-10-16 12:00:00</th>\n",
       "      <td>1366</td>\n",
       "    </tr>\n",
       "    <tr>\n",
       "      <th>2020-10-17 00:00:00</th>\n",
       "      <td>612</td>\n",
       "    </tr>\n",
       "  </tbody>\n",
       "</table>\n",
       "</div>"
      ],
      "text/plain": [
       "                        0\n",
       "created_at               \n",
       "2020-10-15 00:00:00   814\n",
       "2020-10-15 12:00:00  1239\n",
       "2020-10-16 00:00:00  1601\n",
       "2020-10-16 12:00:00  1366\n",
       "2020-10-17 00:00:00   612"
      ]
     },
     "execution_count": 33,
     "metadata": {},
     "output_type": "execute_result"
    }
   ],
   "source": [
    "b_time_series_df = pd.DataFrame(biden_df)\n",
    "b_time_series_df.head()"
   ]
  },
  {
   "cell_type": "code",
   "execution_count": 34,
   "metadata": {},
   "outputs": [
    {
     "data": {
      "text/html": [
       "<div>\n",
       "<style scoped>\n",
       "    .dataframe tbody tr th:only-of-type {\n",
       "        vertical-align: middle;\n",
       "    }\n",
       "\n",
       "    .dataframe tbody tr th {\n",
       "        vertical-align: top;\n",
       "    }\n",
       "\n",
       "    .dataframe thead th {\n",
       "        text-align: right;\n",
       "    }\n",
       "</style>\n",
       "<table border=\"1\" class=\"dataframe\">\n",
       "  <thead>\n",
       "    <tr style=\"text-align: right;\">\n",
       "      <th></th>\n",
       "      <th>0</th>\n",
       "      <th>0</th>\n",
       "    </tr>\n",
       "    <tr>\n",
       "      <th>created_at</th>\n",
       "      <th></th>\n",
       "      <th></th>\n",
       "    </tr>\n",
       "  </thead>\n",
       "  <tbody>\n",
       "    <tr>\n",
       "      <th>2020-10-15 00:00:00</th>\n",
       "      <td>1063</td>\n",
       "      <td>814</td>\n",
       "    </tr>\n",
       "    <tr>\n",
       "      <th>2020-10-15 12:00:00</th>\n",
       "      <td>1535</td>\n",
       "      <td>1239</td>\n",
       "    </tr>\n",
       "    <tr>\n",
       "      <th>2020-10-16 00:00:00</th>\n",
       "      <td>1912</td>\n",
       "      <td>1601</td>\n",
       "    </tr>\n",
       "    <tr>\n",
       "      <th>2020-10-16 12:00:00</th>\n",
       "      <td>1958</td>\n",
       "      <td>1366</td>\n",
       "    </tr>\n",
       "    <tr>\n",
       "      <th>2020-10-17 00:00:00</th>\n",
       "      <td>874</td>\n",
       "      <td>612</td>\n",
       "    </tr>\n",
       "  </tbody>\n",
       "</table>\n",
       "</div>"
      ],
      "text/plain": [
       "                        0     0\n",
       "created_at                     \n",
       "2020-10-15 00:00:00  1063   814\n",
       "2020-10-15 12:00:00  1535  1239\n",
       "2020-10-16 00:00:00  1912  1601\n",
       "2020-10-16 12:00:00  1958  1366\n",
       "2020-10-17 00:00:00   874   612"
      ]
     },
     "execution_count": 34,
     "metadata": {},
     "output_type": "execute_result"
    }
   ],
   "source": [
    "combined_df = pd.concat([t_time_series_df, b_time_series_df], axis=1, join=\"inner\")\n",
    "combined_df.head()"
   ]
  },
  {
   "cell_type": "code",
   "execution_count": 35,
   "metadata": {},
   "outputs": [
    {
     "data": {
      "text/html": [
       "<div>\n",
       "<style scoped>\n",
       "    .dataframe tbody tr th:only-of-type {\n",
       "        vertical-align: middle;\n",
       "    }\n",
       "\n",
       "    .dataframe tbody tr th {\n",
       "        vertical-align: top;\n",
       "    }\n",
       "\n",
       "    .dataframe thead th {\n",
       "        text-align: right;\n",
       "    }\n",
       "</style>\n",
       "<table border=\"1\" class=\"dataframe\">\n",
       "  <thead>\n",
       "    <tr style=\"text-align: right;\">\n",
       "      <th></th>\n",
       "      <th>trump</th>\n",
       "      <th>biden</th>\n",
       "    </tr>\n",
       "    <tr>\n",
       "      <th>created_at</th>\n",
       "      <th></th>\n",
       "      <th></th>\n",
       "    </tr>\n",
       "  </thead>\n",
       "  <tbody>\n",
       "    <tr>\n",
       "      <th>2020-10-15 00:00:00</th>\n",
       "      <td>1063</td>\n",
       "      <td>814</td>\n",
       "    </tr>\n",
       "    <tr>\n",
       "      <th>2020-10-15 12:00:00</th>\n",
       "      <td>1535</td>\n",
       "      <td>1239</td>\n",
       "    </tr>\n",
       "    <tr>\n",
       "      <th>2020-10-16 00:00:00</th>\n",
       "      <td>1912</td>\n",
       "      <td>1601</td>\n",
       "    </tr>\n",
       "  </tbody>\n",
       "</table>\n",
       "</div>"
      ],
      "text/plain": [
       "                     trump  biden\n",
       "created_at                       \n",
       "2020-10-15 00:00:00   1063    814\n",
       "2020-10-15 12:00:00   1535   1239\n",
       "2020-10-16 00:00:00   1912   1601"
      ]
     },
     "execution_count": 35,
     "metadata": {},
     "output_type": "execute_result"
    }
   ],
   "source": [
    "combined_df.columns = ['trump', 'biden']\n",
    "combined_df.head(3)"
   ]
  },
  {
   "cell_type": "code",
   "execution_count": 36,
   "metadata": {},
   "outputs": [
    {
     "data": {
      "text/plain": [
       "Text(0, 0.5, 'Number of Tweets')"
      ]
     },
     "execution_count": 36,
     "metadata": {},
     "output_type": "execute_result"
    },
    {
     "data": {
      "image/png": "[encoded data removed]",
      "text/plain": [
       "<Figure size 1440x720 with 1 Axes>"
      ]
     },
     "metadata": {
      "needs_background": "light"
     },
     "output_type": "display_data"
    }
   ],
   "source": [
    "#Plotting bar graph to show how many tweets by day\n",
    "combined_df.plot(kind='bar', title='Number of Tweets per Candidate per 12 Hours', figsize=(20,10), width = 0.5)\n",
    "plt.xlabel('Day')\n",
    "plt.ylabel('Number of Tweets')"
   ]
  },
  {
   "cell_type": "code",
   "execution_count": null,
   "metadata": {},
   "outputs": [],
   "source": []
  },
  {
   "cell_type": "code",
   "execution_count": null,
   "metadata": {},
   "outputs": [],
   "source": []
  }
 ],
 "metadata": {
  "kernelspec": {
   "display_name": "Python 3",
   "language": "python",
   "name": "python3"
  },
  "language_info": {
   "codemirror_mode": {
    "name": "ipython",
    "version": 3
   },
   "file_extension": ".py",
   "mimetype": "text/x-python",
   "name": "python",
   "nbconvert_exporter": "python",
   "pygments_lexer": "ipython3",
   "version": "3.8.3-final"
  }
 },
 "nbformat": 4,
 "nbformat_minor": 4
}