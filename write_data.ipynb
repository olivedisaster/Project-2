{
 "cells": [
  {
   "cell_type": "code",
   "execution_count": 87,
   "metadata": {},
   "outputs": [
    {
     "ename": "ModuleNotFoundError",
     "evalue": "No module named 'nltk'",
     "output_type": "error",
     "traceback": [
      "\u001b[0;31m---------------------------------------------------------------------------\u001b[0m",
      "\u001b[0;31mModuleNotFoundError\u001b[0m                       Traceback (most recent call last)",
      "\u001b[0;32m<ipython-input-87-dc4ccabac770>\u001b[0m in \u001b[0;36m<module>\u001b[0;34m\u001b[0m\n\u001b[1;32m      6\u001b[0m \u001b[0;32mimport\u001b[0m \u001b[0mnumpy\u001b[0m \u001b[0;32mas\u001b[0m \u001b[0mnp\u001b[0m\u001b[0;34m\u001b[0m\u001b[0;34m\u001b[0m\u001b[0m\n\u001b[1;32m      7\u001b[0m \u001b[0;34m\u001b[0m\u001b[0m\n\u001b[0;32m----> 8\u001b[0;31m \u001b[0;32mimport\u001b[0m \u001b[0mnltk\u001b[0m\u001b[0;34m\u001b[0m\u001b[0;34m\u001b[0m\u001b[0m\n\u001b[0m\u001b[1;32m      9\u001b[0m \u001b[0;32mfrom\u001b[0m \u001b[0mnltk\u001b[0m\u001b[0;34m.\u001b[0m\u001b[0mcorpus\u001b[0m \u001b[0;32mimport\u001b[0m \u001b[0mstopwords\u001b[0m\u001b[0;34m\u001b[0m\u001b[0;34m\u001b[0m\u001b[0m\n\u001b[1;32m     10\u001b[0m \u001b[0;32mimport\u001b[0m \u001b[0mre\u001b[0m\u001b[0;34m\u001b[0m\u001b[0;34m\u001b[0m\u001b[0m\n",
      "\u001b[0;31mModuleNotFoundError\u001b[0m: No module named 'nltk'"
     ]
    }
   ],
   "source": [
    "# Import Dependencies\n",
    "import pandas as pd\n",
    "from sqlalchemy import create_engine\n",
    "import datetime\n",
    "import matplotlib.pyplot as plt\n",
    "import numpy as np\n",
    "\n",
    "import nltk\n",
    "from nltk.corpus import stopwords\n",
    "import re\n",
    "import networkx\n",
    "from textblob import TextBlob\n",
    "\n",
    "import warnings\n",
    "warnings.filterwarnings(\"ignore\")"
   ]
  },
  {
   "cell_type": "code",
   "execution_count": 95,
   "metadata": {},
   "outputs": [
    {
     "name": "stdout",
     "output_type": "stream",
     "text": [
      "2021-02-10 17:56:36,895 INFO sqlalchemy.engine.base.Engine SELECT CAST('test plain returns' AS VARCHAR(60)) AS anon_1\n"
     ]
    },
    {
     "name": "stderr",
     "output_type": "stream",
     "text": [
      "INFO:sqlalchemy.engine.base.Engine:SELECT CAST('test plain returns' AS VARCHAR(60)) AS anon_1\n"
     ]
    },
    {
     "name": "stdout",
     "output_type": "stream",
     "text": [
      "2021-02-10 17:56:36,897 INFO sqlalchemy.engine.base.Engine ()\n"
     ]
    },
    {
     "name": "stderr",
     "output_type": "stream",
     "text": [
      "INFO:sqlalchemy.engine.base.Engine:()\n"
     ]
    },
    {
     "name": "stdout",
     "output_type": "stream",
     "text": [
      "2021-02-10 17:56:36,905 INFO sqlalchemy.engine.base.Engine SELECT CAST('test unicode returns' AS VARCHAR(60)) AS anon_1\n"
     ]
    },
    {
     "name": "stderr",
     "output_type": "stream",
     "text": [
      "INFO:sqlalchemy.engine.base.Engine:SELECT CAST('test unicode returns' AS VARCHAR(60)) AS anon_1\n"
     ]
    },
    {
     "name": "stdout",
     "output_type": "stream",
     "text": [
      "2021-02-10 17:56:36,907 INFO sqlalchemy.engine.base.Engine ()\n"
     ]
    },
    {
     "name": "stderr",
     "output_type": "stream",
     "text": [
      "INFO:sqlalchemy.engine.base.Engine:()\n"
     ]
    }
   ],
   "source": [
    "# Create engine \n",
    "engine = create_engine(\"sqlite:///data/hashtag2020.db\", echo=True)\n",
    "conn = engine.connect()"
   ]
  },
  {
   "cell_type": "code",
   "execution_count": 96,
   "metadata": {},
   "outputs": [
    {
     "name": "stdout",
     "output_type": "stream",
     "text": [
      "2021-02-10 17:56:37,882 INFO sqlalchemy.engine.base.Engine \n",
      "    CREATE TABLE IF NOT EXISTS tweet_counts (\n",
      "        id integer PRIMARY KEY,\n",
      "        created_at TEXT,\n",
      "        tweet VARCHAR(280),\n",
      "        likes integer,\n",
      "        retweet_count integer,\n",
      "        source VARCHAR(30),\n",
      "        lat integer,\n",
      "        long integer,\n",
      "        city VARCHAR(100),\n",
      "        state_code VARCHAR(5),\n",
      "        hashtag VARCHAR(10),\n",
      "        Date TEXT,\n",
      "        Time TEXT,\n",
      "        polarity integer,\n",
      "        analysis VARCHAR(20)\n",
      "        \n",
      "    )\n",
      "\n"
     ]
    },
    {
     "name": "stderr",
     "output_type": "stream",
     "text": [
      "INFO:sqlalchemy.engine.base.Engine:\n",
      "    CREATE TABLE IF NOT EXISTS tweet_counts (\n",
      "        id integer PRIMARY KEY,\n",
      "        created_at TEXT,\n",
      "        tweet VARCHAR(280),\n",
      "        likes integer,\n",
      "        retweet_count integer,\n",
      "        source VARCHAR(30),\n",
      "        lat integer,\n",
      "        long integer,\n",
      "        city VARCHAR(100),\n",
      "        state_code VARCHAR(5),\n",
      "        hashtag VARCHAR(10),\n",
      "        Date TEXT,\n",
      "        Time TEXT,\n",
      "        polarity integer,\n",
      "        analysis VARCHAR(20)\n",
      "        \n",
      "    )\n",
      "\n"
     ]
    },
    {
     "name": "stdout",
     "output_type": "stream",
     "text": [
      "2021-02-10 17:56:37,885 INFO sqlalchemy.engine.base.Engine ()\n"
     ]
    },
    {
     "name": "stderr",
     "output_type": "stream",
     "text": [
      "INFO:sqlalchemy.engine.base.Engine:()\n"
     ]
    },
    {
     "name": "stdout",
     "output_type": "stream",
     "text": [
      "2021-02-10 17:56:37,891 INFO sqlalchemy.engine.base.Engine COMMIT\n"
     ]
    },
    {
     "name": "stderr",
     "output_type": "stream",
     "text": [
      "INFO:sqlalchemy.engine.base.Engine:COMMIT\n"
     ]
    },
    {
     "data": {
      "text/plain": [
       "<sqlalchemy.engine.result.ResultProxy at 0x7fe85f738b00>"
      ]
     },
     "execution_count": 96,
     "metadata": {},
     "output_type": "execute_result"
    }
   ],
   "source": [
    "#Create the table. If we use automap_base, the table must have a primary key\n",
    "conn.execute(\"\"\"\n",
    "    CREATE TABLE IF NOT EXISTS tweet_counts (\n",
    "        id integer PRIMARY KEY,\n",
    "        created_at TEXT,\n",
    "        tweet VARCHAR(280),\n",
    "        likes integer,\n",
    "        retweet_count integer,\n",
    "        source VARCHAR(30),\n",
    "        lat integer,\n",
    "        long integer,\n",
    "        city VARCHAR(100),\n",
    "        state_code VARCHAR(5),\n",
    "        hashtag VARCHAR(10),\n",
    "        Date TEXT,\n",
    "        Time TEXT,\n",
    "        polarity integer,\n",
    "        analysis VARCHAR(20)\n",
    "        \n",
    "    )\n",
    "\"\"\")"
   ]
  },
  {
   "cell_type": "code",
   "execution_count": 97,
   "metadata": {},
   "outputs": [
    {
     "name": "stdout",
     "output_type": "stream",
     "text": [
      "2021-02-10 17:56:38,917 INFO sqlalchemy.engine.base.Engine \n",
      "    CREATE TABLE IF NOT EXISTS state_avg (\n",
      "        state_code VARCHAR(5) PRIMARY KEY,\n",
      "        BidenAvg integer,\n",
      "        TrumpAvg integer\n",
      "   \n",
      "    )\n",
      "\n"
     ]
    },
    {
     "name": "stderr",
     "output_type": "stream",
     "text": [
      "INFO:sqlalchemy.engine.base.Engine:\n",
      "    CREATE TABLE IF NOT EXISTS state_avg (\n",
      "        state_code VARCHAR(5) PRIMARY KEY,\n",
      "        BidenAvg integer,\n",
      "        TrumpAvg integer\n",
      "   \n",
      "    )\n",
      "\n"
     ]
    },
    {
     "name": "stdout",
     "output_type": "stream",
     "text": [
      "2021-02-10 17:56:38,921 INFO sqlalchemy.engine.base.Engine ()\n"
     ]
    },
    {
     "name": "stderr",
     "output_type": "stream",
     "text": [
      "INFO:sqlalchemy.engine.base.Engine:()\n"
     ]
    },
    {
     "name": "stdout",
     "output_type": "stream",
     "text": [
      "2021-02-10 17:56:38,923 INFO sqlalchemy.engine.base.Engine COMMIT\n"
     ]
    },
    {
     "name": "stderr",
     "output_type": "stream",
     "text": [
      "INFO:sqlalchemy.engine.base.Engine:COMMIT\n"
     ]
    },
    {
     "data": {
      "text/plain": [
       "<sqlalchemy.engine.result.ResultProxy at 0x7fe7ade1c630>"
      ]
     },
     "execution_count": 97,
     "metadata": {},
     "output_type": "execute_result"
    }
   ],
   "source": [
    "conn.execute(\"\"\"\n",
    "    CREATE TABLE IF NOT EXISTS state_avg (\n",
    "        state_code VARCHAR(5) PRIMARY KEY,\n",
    "        BidenAvg integer,\n",
    "        TrumpAvg integer\n",
    "   \n",
    "    )\n",
    "\"\"\")"
   ]
  },
  {
   "cell_type": "code",
   "execution_count": 98,
   "metadata": {},
   "outputs": [
    {
     "name": "stdout",
     "output_type": "stream",
     "text": [
      "2021-02-10 17:56:39,825 INFO sqlalchemy.engine.base.Engine \n",
      "    CREATE TABLE IF NOT EXISTS time_avg (\n",
      "        Date TEXT PRIMARY KEY,\n",
      "        BidenAvg integer,\n",
      "        TrumpAvg integer\n",
      "   \n",
      "    )\n",
      "\n"
     ]
    },
    {
     "name": "stderr",
     "output_type": "stream",
     "text": [
      "INFO:sqlalchemy.engine.base.Engine:\n",
      "    CREATE TABLE IF NOT EXISTS time_avg (\n",
      "        Date TEXT PRIMARY KEY,\n",
      "        BidenAvg integer,\n",
      "        TrumpAvg integer\n",
      "   \n",
      "    )\n",
      "\n"
     ]
    },
    {
     "name": "stdout",
     "output_type": "stream",
     "text": [
      "2021-02-10 17:56:39,828 INFO sqlalchemy.engine.base.Engine ()\n"
     ]
    },
    {
     "name": "stderr",
     "output_type": "stream",
     "text": [
      "INFO:sqlalchemy.engine.base.Engine:()\n"
     ]
    },
    {
     "name": "stdout",
     "output_type": "stream",
     "text": [
      "2021-02-10 17:56:39,831 INFO sqlalchemy.engine.base.Engine COMMIT\n"
     ]
    },
    {
     "name": "stderr",
     "output_type": "stream",
     "text": [
      "INFO:sqlalchemy.engine.base.Engine:COMMIT\n"
     ]
    },
    {
     "data": {
      "text/plain": [
       "<sqlalchemy.engine.result.ResultProxy at 0x7fe7adf789b0>"
      ]
     },
     "execution_count": 98,
     "metadata": {},
     "output_type": "execute_result"
    }
   ],
   "source": [
    "conn.execute(\"\"\"\n",
    "    CREATE TABLE IF NOT EXISTS time_avg (\n",
    "        Date TEXT PRIMARY KEY,\n",
    "        BidenAvg integer,\n",
    "        TrumpAvg integer\n",
    "   \n",
    "    )\n",
    "\"\"\")"
   ]
  },
  {
   "cell_type": "code",
   "execution_count": 99,
   "metadata": {},
   "outputs": [
    {
     "name": "stdout",
     "output_type": "stream",
     "text": [
      "2021-02-10 17:56:40,818 INFO sqlalchemy.engine.base.Engine \n",
      "    CREATE TABLE IF NOT EXISTS sent_count (\n",
      "        count_id integer PRIMARY KEY,\n",
      "        analysis VARCHAR(20),\n",
      "        Biden_Count integer,\n",
      "        Trump_Count integer\n",
      "       \n",
      "    )\n",
      "\n"
     ]
    },
    {
     "name": "stderr",
     "output_type": "stream",
     "text": [
      "INFO:sqlalchemy.engine.base.Engine:\n",
      "    CREATE TABLE IF NOT EXISTS sent_count (\n",
      "        count_id integer PRIMARY KEY,\n",
      "        analysis VARCHAR(20),\n",
      "        Biden_Count integer,\n",
      "        Trump_Count integer\n",
      "       \n",
      "    )\n",
      "\n"
     ]
    },
    {
     "name": "stdout",
     "output_type": "stream",
     "text": [
      "2021-02-10 17:56:40,821 INFO sqlalchemy.engine.base.Engine ()\n"
     ]
    },
    {
     "name": "stderr",
     "output_type": "stream",
     "text": [
      "INFO:sqlalchemy.engine.base.Engine:()\n"
     ]
    },
    {
     "name": "stdout",
     "output_type": "stream",
     "text": [
      "2021-02-10 17:56:40,825 INFO sqlalchemy.engine.base.Engine COMMIT\n"
     ]
    },
    {
     "name": "stderr",
     "output_type": "stream",
     "text": [
      "INFO:sqlalchemy.engine.base.Engine:COMMIT\n"
     ]
    },
    {
     "data": {
      "text/plain": [
       "<sqlalchemy.engine.result.ResultProxy at 0x7fe7a4b65e80>"
      ]
     },
     "execution_count": 99,
     "metadata": {},
     "output_type": "execute_result"
    }
   ],
   "source": [
    "conn.execute(\"\"\"\n",
    "    CREATE TABLE IF NOT EXISTS sent_count (\n",
    "        count_id integer PRIMARY KEY,\n",
    "        analysis VARCHAR(20),\n",
    "        Biden_Count integer,\n",
    "        Trump_Count integer\n",
    "       \n",
    "    )\n",
    "\"\"\")"
   ]
  },
  {
   "cell_type": "code",
   "execution_count": 100,
   "metadata": {},
   "outputs": [
    {
     "name": "stdout",
     "output_type": "stream",
     "text": [
      "2021-02-10 17:56:41,601 INFO sqlalchemy.engine.base.Engine \n",
      "    CREATE TABLE IF NOT EXISTS time_tweets (\n",
      "        id integer PRIMARY KEY,\n",
      "        created_at TEXT,\n",
      "        trump integer,\n",
      "        biden integer\n",
      "        \n",
      "    )\n",
      "\n"
     ]
    },
    {
     "name": "stderr",
     "output_type": "stream",
     "text": [
      "INFO:sqlalchemy.engine.base.Engine:\n",
      "    CREATE TABLE IF NOT EXISTS time_tweets (\n",
      "        id integer PRIMARY KEY,\n",
      "        created_at TEXT,\n",
      "        trump integer,\n",
      "        biden integer\n",
      "        \n",
      "    )\n",
      "\n"
     ]
    },
    {
     "name": "stdout",
     "output_type": "stream",
     "text": [
      "2021-02-10 17:56:41,603 INFO sqlalchemy.engine.base.Engine ()\n"
     ]
    },
    {
     "name": "stderr",
     "output_type": "stream",
     "text": [
      "INFO:sqlalchemy.engine.base.Engine:()\n"
     ]
    },
    {
     "name": "stdout",
     "output_type": "stream",
     "text": [
      "2021-02-10 17:56:41,606 INFO sqlalchemy.engine.base.Engine COMMIT\n"
     ]
    },
    {
     "name": "stderr",
     "output_type": "stream",
     "text": [
      "INFO:sqlalchemy.engine.base.Engine:COMMIT\n"
     ]
    },
    {
     "data": {
      "text/plain": [
       "<sqlalchemy.engine.result.ResultProxy at 0x7fe7ade1cc88>"
      ]
     },
     "execution_count": 100,
     "metadata": {},
     "output_type": "execute_result"
    }
   ],
   "source": [
    "conn.execute(\"\"\"\n",
    "    CREATE TABLE IF NOT EXISTS time_tweets (\n",
    "        id integer PRIMARY KEY,\n",
    "        created_at TEXT,\n",
    "        trump integer,\n",
    "        biden integer\n",
    "        \n",
    "    )\n",
    "\"\"\")"
   ]
  },
  {
   "cell_type": "code",
   "execution_count": 101,
   "metadata": {},
   "outputs": [
    {
     "name": "stdout",
     "output_type": "stream",
     "text": [
      "2021-02-10 17:56:42,314 INFO sqlalchemy.engine.base.Engine \n",
      "    CREATE TABLE IF NOT EXISTS st_tweets (\n",
      "        id integer PRIMARY KEY,\n",
      "        state_code TEXT,\n",
      "        trump integer,\n",
      "        biden integer\n",
      "        \n",
      "    )\n",
      "\n"
     ]
    },
    {
     "name": "stderr",
     "output_type": "stream",
     "text": [
      "INFO:sqlalchemy.engine.base.Engine:\n",
      "    CREATE TABLE IF NOT EXISTS st_tweets (\n",
      "        id integer PRIMARY KEY,\n",
      "        state_code TEXT,\n",
      "        trump integer,\n",
      "        biden integer\n",
      "        \n",
      "    )\n",
      "\n"
     ]
    },
    {
     "name": "stdout",
     "output_type": "stream",
     "text": [
      "2021-02-10 17:56:42,316 INFO sqlalchemy.engine.base.Engine ()\n"
     ]
    },
    {
     "name": "stderr",
     "output_type": "stream",
     "text": [
      "INFO:sqlalchemy.engine.base.Engine:()\n"
     ]
    },
    {
     "name": "stdout",
     "output_type": "stream",
     "text": [
      "2021-02-10 17:56:42,319 INFO sqlalchemy.engine.base.Engine COMMIT\n"
     ]
    },
    {
     "name": "stderr",
     "output_type": "stream",
     "text": [
      "INFO:sqlalchemy.engine.base.Engine:COMMIT\n"
     ]
    },
    {
     "data": {
      "text/plain": [
       "<sqlalchemy.engine.result.ResultProxy at 0x7fe85f738cf8>"
      ]
     },
     "execution_count": 101,
     "metadata": {},
     "output_type": "execute_result"
    }
   ],
   "source": [
    "conn.execute(\"\"\"\n",
    "    CREATE TABLE IF NOT EXISTS st_tweets (\n",
    "        id integer PRIMARY KEY,\n",
    "        state_code TEXT,\n",
    "        trump integer,\n",
    "        biden integer\n",
    "        \n",
    "    )\n",
    "\"\"\")"
   ]
  },
  {
   "cell_type": "code",
   "execution_count": 102,
   "metadata": {},
   "outputs": [],
   "source": [
    "# Read in CSV's and build initial combined dataframe\n",
    "trump_csv_path = \"../hashtag_donaldtrump.csv\"\n",
    "biden_csv_path = \"../hashtag_joebiden.csv\""
   ]
  },
  {
   "cell_type": "code",
   "execution_count": 103,
   "metadata": {},
   "outputs": [],
   "source": [
    "trump_data_df = pd.read_csv(trump_csv_path, lineterminator='\\n')\n",
    "biden_data_df = pd.read_csv(biden_csv_path, lineterminator='\\n')"
   ]
  },
  {
   "cell_type": "code",
   "execution_count": 75,
   "metadata": {},
   "outputs": [],
   "source": [
    "trump_data_df[\"hashtag\"]=\"Trump\"\n",
    "biden_data_df[\"hashtag\"]=\"Biden\""
   ]
  },
  {
   "cell_type": "code",
   "execution_count": 11,
   "metadata": {},
   "outputs": [],
   "source": [
    "tweet_df = pd.concat([trump_data_df, biden_data_df])"
   ]
  },
  {
   "cell_type": "code",
   "execution_count": 12,
   "metadata": {},
   "outputs": [],
   "source": [
    "tweet_df[\"created_at\"]=pd.to_datetime(tweet_df.created_at)"
   ]
  },
  {
   "cell_type": "code",
   "execution_count": 13,
   "metadata": {},
   "outputs": [
    {
     "data": {
      "text/html": [
       "<div>\n",
       "<style scoped>\n",
       "    .dataframe tbody tr th:only-of-type {\n",
       "        vertical-align: middle;\n",
       "    }\n",
       "\n",
       "    .dataframe tbody tr th {\n",
       "        vertical-align: top;\n",
       "    }\n",
       "\n",
       "    .dataframe thead th {\n",
       "        text-align: right;\n",
       "    }\n",
       "</style>\n",
       "<table border=\"1\" class=\"dataframe\">\n",
       "  <thead>\n",
       "    <tr style=\"text-align: right;\">\n",
       "      <th></th>\n",
       "      <th>created_at</th>\n",
       "      <th>tweet_id</th>\n",
       "      <th>tweet</th>\n",
       "      <th>likes</th>\n",
       "      <th>retweet_count</th>\n",
       "      <th>source</th>\n",
       "      <th>user_id</th>\n",
       "      <th>user_name</th>\n",
       "      <th>user_screen_name</th>\n",
       "      <th>user_description</th>\n",
       "      <th>...</th>\n",
       "      <th>user_location</th>\n",
       "      <th>lat</th>\n",
       "      <th>long</th>\n",
       "      <th>city</th>\n",
       "      <th>country</th>\n",
       "      <th>continent</th>\n",
       "      <th>state</th>\n",
       "      <th>state_code</th>\n",
       "      <th>collected_at</th>\n",
       "      <th>hashtag</th>\n",
       "    </tr>\n",
       "  </thead>\n",
       "  <tbody>\n",
       "    <tr>\n",
       "      <th>0</th>\n",
       "      <td>2020-10-15 00:00:01</td>\n",
       "      <td>1.316529e+18</td>\n",
       "      <td>#Elecciones2020 | En #Florida: #JoeBiden dice ...</td>\n",
       "      <td>0.0</td>\n",
       "      <td>0.0</td>\n",
       "      <td>TweetDeck</td>\n",
       "      <td>3.606665e+08</td>\n",
       "      <td>El Sol Latino News</td>\n",
       "      <td>elsollatinonews</td>\n",
       "      <td>🌐 Noticias de interés para latinos de la costa...</td>\n",
       "      <td>...</td>\n",
       "      <td>Philadelphia, PA / Miami, FL</td>\n",
       "      <td>25.774270</td>\n",
       "      <td>-80.193660</td>\n",
       "      <td>NaN</td>\n",
       "      <td>United States of America</td>\n",
       "      <td>North America</td>\n",
       "      <td>Florida</td>\n",
       "      <td>FL</td>\n",
       "      <td>2020-10-21 00:00:00</td>\n",
       "      <td>Trump</td>\n",
       "    </tr>\n",
       "    <tr>\n",
       "      <th>0</th>\n",
       "      <td>2020-10-15 00:00:01</td>\n",
       "      <td>1.316529e+18</td>\n",
       "      <td>#Elecciones2020 | En #Florida: #JoeBiden dice ...</td>\n",
       "      <td>0.0</td>\n",
       "      <td>0.0</td>\n",
       "      <td>TweetDeck</td>\n",
       "      <td>3.606665e+08</td>\n",
       "      <td>El Sol Latino News</td>\n",
       "      <td>elsollatinonews</td>\n",
       "      <td>🌐 Noticias de interés para latinos de la costa...</td>\n",
       "      <td>...</td>\n",
       "      <td>Philadelphia, PA / Miami, FL</td>\n",
       "      <td>25.774270</td>\n",
       "      <td>-80.193660</td>\n",
       "      <td>NaN</td>\n",
       "      <td>United States of America</td>\n",
       "      <td>North America</td>\n",
       "      <td>Florida</td>\n",
       "      <td>FL</td>\n",
       "      <td>2020-10-21 00:00:00</td>\n",
       "      <td>Biden</td>\n",
       "    </tr>\n",
       "    <tr>\n",
       "      <th>1</th>\n",
       "      <td>2020-10-15 00:00:01</td>\n",
       "      <td>1.316529e+18</td>\n",
       "      <td>Usa 2020, Trump contro Facebook e Twitter: cop...</td>\n",
       "      <td>26.0</td>\n",
       "      <td>9.0</td>\n",
       "      <td>Social Mediaset</td>\n",
       "      <td>3.316176e+08</td>\n",
       "      <td>Tgcom24</td>\n",
       "      <td>MediasetTgcom24</td>\n",
       "      <td>Profilo ufficiale di Tgcom24: tutte le notizie...</td>\n",
       "      <td>...</td>\n",
       "      <td>NaN</td>\n",
       "      <td>NaN</td>\n",
       "      <td>NaN</td>\n",
       "      <td>NaN</td>\n",
       "      <td>NaN</td>\n",
       "      <td>NaN</td>\n",
       "      <td>NaN</td>\n",
       "      <td>NaN</td>\n",
       "      <td>2020-10-21 00:00:00.373216530</td>\n",
       "      <td>Trump</td>\n",
       "    </tr>\n",
       "    <tr>\n",
       "      <th>2</th>\n",
       "      <td>2020-10-15 00:00:02</td>\n",
       "      <td>1.316529e+18</td>\n",
       "      <td>#Trump: As a student I used to hear for years,...</td>\n",
       "      <td>2.0</td>\n",
       "      <td>1.0</td>\n",
       "      <td>Twitter Web App</td>\n",
       "      <td>8.436472e+06</td>\n",
       "      <td>snarke</td>\n",
       "      <td>snarke</td>\n",
       "      <td>Will mock for food! Freelance writer, blogger,...</td>\n",
       "      <td>...</td>\n",
       "      <td>Portland</td>\n",
       "      <td>45.520247</td>\n",
       "      <td>-122.674195</td>\n",
       "      <td>Portland</td>\n",
       "      <td>United States of America</td>\n",
       "      <td>North America</td>\n",
       "      <td>Oregon</td>\n",
       "      <td>OR</td>\n",
       "      <td>2020-10-21 00:00:00.746433060</td>\n",
       "      <td>Trump</td>\n",
       "    </tr>\n",
       "    <tr>\n",
       "      <th>3</th>\n",
       "      <td>2020-10-15 00:00:02</td>\n",
       "      <td>1.316529e+18</td>\n",
       "      <td>2 hours since last tweet from #Trump! Maybe he...</td>\n",
       "      <td>0.0</td>\n",
       "      <td>0.0</td>\n",
       "      <td>Trumpytweeter</td>\n",
       "      <td>8.283556e+17</td>\n",
       "      <td>Trumpytweeter</td>\n",
       "      <td>trumpytweeter</td>\n",
       "      <td>If he doesn't tweet for some time, should we b...</td>\n",
       "      <td>...</td>\n",
       "      <td>NaN</td>\n",
       "      <td>NaN</td>\n",
       "      <td>NaN</td>\n",
       "      <td>NaN</td>\n",
       "      <td>NaN</td>\n",
       "      <td>NaN</td>\n",
       "      <td>NaN</td>\n",
       "      <td>NaN</td>\n",
       "      <td>2020-10-21 00:00:01.119649591</td>\n",
       "      <td>Trump</td>\n",
       "    </tr>\n",
       "    <tr>\n",
       "      <th>...</th>\n",
       "      <td>...</td>\n",
       "      <td>...</td>\n",
       "      <td>...</td>\n",
       "      <td>...</td>\n",
       "      <td>...</td>\n",
       "      <td>...</td>\n",
       "      <td>...</td>\n",
       "      <td>...</td>\n",
       "      <td>...</td>\n",
       "      <td>...</td>\n",
       "      <td>...</td>\n",
       "      <td>...</td>\n",
       "      <td>...</td>\n",
       "      <td>...</td>\n",
       "      <td>...</td>\n",
       "      <td>...</td>\n",
       "      <td>...</td>\n",
       "      <td>...</td>\n",
       "      <td>...</td>\n",
       "      <td>...</td>\n",
       "      <td>...</td>\n",
       "    </tr>\n",
       "    <tr>\n",
       "      <th>970917</th>\n",
       "      <td>2020-11-08 23:59:54</td>\n",
       "      <td>1.325589e+18</td>\n",
       "      <td>@sammelbis1998 @iheartmindy @bnorthg First, yo...</td>\n",
       "      <td>0.0</td>\n",
       "      <td>0.0</td>\n",
       "      <td>Twitter for iPad</td>\n",
       "      <td>7.687811e+08</td>\n",
       "      <td>Debra</td>\n",
       "      <td>drdeblk</td>\n",
       "      <td>MD. Autism specialist. Film lover. #DumpTrump2020</td>\n",
       "      <td>...</td>\n",
       "      <td>NaN</td>\n",
       "      <td>NaN</td>\n",
       "      <td>NaN</td>\n",
       "      <td>NaN</td>\n",
       "      <td>NaN</td>\n",
       "      <td>NaN</td>\n",
       "      <td>NaN</td>\n",
       "      <td>NaN</td>\n",
       "      <td>2020-11-09 17:47:56.012674</td>\n",
       "      <td>Trump</td>\n",
       "    </tr>\n",
       "    <tr>\n",
       "      <th>970918</th>\n",
       "      <td>2020-11-08 23:59:55</td>\n",
       "      <td>1.325589e+18</td>\n",
       "      <td>OK just had to do it !\\n#Trump #CatapultTrump ...</td>\n",
       "      <td>105.0</td>\n",
       "      <td>28.0</td>\n",
       "      <td>Twitter Web App</td>\n",
       "      <td>4.519791e+08</td>\n",
       "      <td>Dunken K Bliths</td>\n",
       "      <td>DunkenKBliths</td>\n",
       "      <td>\"Tesla owner's will be followed back\"\\n\\n#Mach...</td>\n",
       "      <td>...</td>\n",
       "      <td>✔ Official Twitter Account</td>\n",
       "      <td>NaN</td>\n",
       "      <td>NaN</td>\n",
       "      <td>NaN</td>\n",
       "      <td>NaN</td>\n",
       "      <td>NaN</td>\n",
       "      <td>NaN</td>\n",
       "      <td>NaN</td>\n",
       "      <td>2020-11-09 17:47:55.807500</td>\n",
       "      <td>Trump</td>\n",
       "    </tr>\n",
       "    <tr>\n",
       "      <th>922910</th>\n",
       "      <td>2020-11-08 23:59:56</td>\n",
       "      <td>1.325589e+18</td>\n",
       "      <td>@nbcbayarea Who doesn’t like dogs or any kind ...</td>\n",
       "      <td>1.0</td>\n",
       "      <td>1.0</td>\n",
       "      <td>Twitter for iPhone</td>\n",
       "      <td>1.182639e+08</td>\n",
       "      <td>Dianna Maria</td>\n",
       "      <td>DiannaMaria</td>\n",
       "      <td>~ I am a very proud mom of a sweet, kind and c...</td>\n",
       "      <td>...</td>\n",
       "      <td>United States</td>\n",
       "      <td>39.783730</td>\n",
       "      <td>-100.445882</td>\n",
       "      <td>NaN</td>\n",
       "      <td>United States</td>\n",
       "      <td>North America</td>\n",
       "      <td>NaN</td>\n",
       "      <td>NaN</td>\n",
       "      <td>2020-11-09 17:46:06.939099</td>\n",
       "      <td>Trump</td>\n",
       "    </tr>\n",
       "    <tr>\n",
       "      <th>737089</th>\n",
       "      <td>2020-11-08 23:59:57</td>\n",
       "      <td>1.325589e+18</td>\n",
       "      <td>#JoeBiden 😂😂😂😂😂😂😂😂😂😂😂😂😂😂😂😂😂😂😂😂 https://t.co/Ym...</td>\n",
       "      <td>0.0</td>\n",
       "      <td>0.0</td>\n",
       "      <td>Twitter for iPhone</td>\n",
       "      <td>1.148479e+08</td>\n",
       "      <td>Nataša</td>\n",
       "      <td>PewPeeew</td>\n",
       "      <td>My brain consists of coping mechanisms and vin...</td>\n",
       "      <td>...</td>\n",
       "      <td>Deutschland</td>\n",
       "      <td>51.083420</td>\n",
       "      <td>10.423447</td>\n",
       "      <td>NaN</td>\n",
       "      <td>Germany</td>\n",
       "      <td>Europe</td>\n",
       "      <td>NaN</td>\n",
       "      <td>NaN</td>\n",
       "      <td>2020-11-09 18:26:04.550843</td>\n",
       "      <td>Biden</td>\n",
       "    </tr>\n",
       "    <tr>\n",
       "      <th>776885</th>\n",
       "      <td>2020-11-08 23:59:58</td>\n",
       "      <td>1.325589e+18</td>\n",
       "      <td>Ik moet zeggen dat ik #Biden \"the lesser of tw...</td>\n",
       "      <td>0.0</td>\n",
       "      <td>0.0</td>\n",
       "      <td>Twitter for Android</td>\n",
       "      <td>5.863863e+08</td>\n",
       "      <td>Job</td>\n",
       "      <td>_JobO__</td>\n",
       "      <td>-voeg hier uw interessante bio toe-</td>\n",
       "      <td>...</td>\n",
       "      <td>NaN</td>\n",
       "      <td>NaN</td>\n",
       "      <td>NaN</td>\n",
       "      <td>NaN</td>\n",
       "      <td>NaN</td>\n",
       "      <td>NaN</td>\n",
       "      <td>NaN</td>\n",
       "      <td>NaN</td>\n",
       "      <td>2020-11-09 18:32:45.747707</td>\n",
       "      <td>Biden</td>\n",
       "    </tr>\n",
       "  </tbody>\n",
       "</table>\n",
       "<p>1747805 rows × 22 columns</p>\n",
       "</div>"
      ],
      "text/plain": [
       "                created_at      tweet_id  \\\n",
       "0      2020-10-15 00:00:01  1.316529e+18   \n",
       "0      2020-10-15 00:00:01  1.316529e+18   \n",
       "1      2020-10-15 00:00:01  1.316529e+18   \n",
       "2      2020-10-15 00:00:02  1.316529e+18   \n",
       "3      2020-10-15 00:00:02  1.316529e+18   \n",
       "...                    ...           ...   \n",
       "970917 2020-11-08 23:59:54  1.325589e+18   \n",
       "970918 2020-11-08 23:59:55  1.325589e+18   \n",
       "922910 2020-11-08 23:59:56  1.325589e+18   \n",
       "737089 2020-11-08 23:59:57  1.325589e+18   \n",
       "776885 2020-11-08 23:59:58  1.325589e+18   \n",
       "\n",
       "                                                    tweet  likes  \\\n",
       "0       #Elecciones2020 | En #Florida: #JoeBiden dice ...    0.0   \n",
       "0       #Elecciones2020 | En #Florida: #JoeBiden dice ...    0.0   \n",
       "1       Usa 2020, Trump contro Facebook e Twitter: cop...   26.0   \n",
       "2       #Trump: As a student I used to hear for years,...    2.0   \n",
       "3       2 hours since last tweet from #Trump! Maybe he...    0.0   \n",
       "...                                                   ...    ...   \n",
       "970917  @sammelbis1998 @iheartmindy @bnorthg First, yo...    0.0   \n",
       "970918  OK just had to do it !\\n#Trump #CatapultTrump ...  105.0   \n",
       "922910  @nbcbayarea Who doesn’t like dogs or any kind ...    1.0   \n",
       "737089  #JoeBiden 😂😂😂😂😂😂😂😂😂😂😂😂😂😂😂😂😂😂😂😂 https://t.co/Ym...    0.0   \n",
       "776885  Ik moet zeggen dat ik #Biden \"the lesser of tw...    0.0   \n",
       "\n",
       "        retweet_count               source       user_id           user_name  \\\n",
       "0                 0.0            TweetDeck  3.606665e+08  El Sol Latino News   \n",
       "0                 0.0            TweetDeck  3.606665e+08  El Sol Latino News   \n",
       "1                 9.0     Social Mediaset   3.316176e+08             Tgcom24   \n",
       "2                 1.0      Twitter Web App  8.436472e+06              snarke   \n",
       "3                 0.0        Trumpytweeter  8.283556e+17       Trumpytweeter   \n",
       "...               ...                  ...           ...                 ...   \n",
       "970917            0.0     Twitter for iPad  7.687811e+08               Debra   \n",
       "970918           28.0      Twitter Web App  4.519791e+08     Dunken K Bliths   \n",
       "922910            1.0   Twitter for iPhone  1.182639e+08        Dianna Maria   \n",
       "737089            0.0   Twitter for iPhone  1.148479e+08              Nataša   \n",
       "776885            0.0  Twitter for Android  5.863863e+08                 Job   \n",
       "\n",
       "       user_screen_name                                   user_description  \\\n",
       "0       elsollatinonews  🌐 Noticias de interés para latinos de la costa...   \n",
       "0       elsollatinonews  🌐 Noticias de interés para latinos de la costa...   \n",
       "1       MediasetTgcom24  Profilo ufficiale di Tgcom24: tutte le notizie...   \n",
       "2                snarke  Will mock for food! Freelance writer, blogger,...   \n",
       "3         trumpytweeter  If he doesn't tweet for some time, should we b...   \n",
       "...                 ...                                                ...   \n",
       "970917          drdeblk  MD. Autism specialist. Film lover. #DumpTrump2020   \n",
       "970918    DunkenKBliths  \"Tesla owner's will be followed back\"\\n\\n#Mach...   \n",
       "922910      DiannaMaria  ~ I am a very proud mom of a sweet, kind and c...   \n",
       "737089         PewPeeew  My brain consists of coping mechanisms and vin...   \n",
       "776885          _JobO__                -voeg hier uw interessante bio toe-   \n",
       "\n",
       "        ...                 user_location        lat        long      city  \\\n",
       "0       ...  Philadelphia, PA / Miami, FL  25.774270  -80.193660       NaN   \n",
       "0       ...  Philadelphia, PA / Miami, FL  25.774270  -80.193660       NaN   \n",
       "1       ...                           NaN        NaN         NaN       NaN   \n",
       "2       ...                      Portland  45.520247 -122.674195  Portland   \n",
       "3       ...                           NaN        NaN         NaN       NaN   \n",
       "...     ...                           ...        ...         ...       ...   \n",
       "970917  ...                           NaN        NaN         NaN       NaN   \n",
       "970918  ...    ✔ Official Twitter Account        NaN         NaN       NaN   \n",
       "922910  ...                 United States  39.783730 -100.445882       NaN   \n",
       "737089  ...                   Deutschland  51.083420   10.423447       NaN   \n",
       "776885  ...                           NaN        NaN         NaN       NaN   \n",
       "\n",
       "                         country      continent    state state_code  \\\n",
       "0       United States of America  North America  Florida         FL   \n",
       "0       United States of America  North America  Florida         FL   \n",
       "1                            NaN            NaN      NaN        NaN   \n",
       "2       United States of America  North America   Oregon         OR   \n",
       "3                            NaN            NaN      NaN        NaN   \n",
       "...                          ...            ...      ...        ...   \n",
       "970917                       NaN            NaN      NaN        NaN   \n",
       "970918                       NaN            NaN      NaN        NaN   \n",
       "922910             United States  North America      NaN        NaN   \n",
       "737089                   Germany         Europe      NaN        NaN   \n",
       "776885                       NaN            NaN      NaN        NaN   \n",
       "\n",
       "                         collected_at hashtag  \n",
       "0                 2020-10-21 00:00:00   Trump  \n",
       "0                 2020-10-21 00:00:00   Biden  \n",
       "1       2020-10-21 00:00:00.373216530   Trump  \n",
       "2       2020-10-21 00:00:00.746433060   Trump  \n",
       "3       2020-10-21 00:00:01.119649591   Trump  \n",
       "...                               ...     ...  \n",
       "970917     2020-11-09 17:47:56.012674   Trump  \n",
       "970918     2020-11-09 17:47:55.807500   Trump  \n",
       "922910     2020-11-09 17:46:06.939099   Trump  \n",
       "737089     2020-11-09 18:26:04.550843   Biden  \n",
       "776885     2020-11-09 18:32:45.747707   Biden  \n",
       "\n",
       "[1747805 rows x 22 columns]"
      ]
     },
     "execution_count": 13,
     "metadata": {},
     "output_type": "execute_result"
    }
   ],
   "source": [
    "tweet_df.sort_values(by = 'created_at')"
   ]
  },
  {
   "cell_type": "code",
   "execution_count": 14,
   "metadata": {},
   "outputs": [],
   "source": [
    "usa = {\"United States of America\" : \"United States\"}\n",
    "tweet_df['country'].replace(usa, inplace=True)"
   ]
  },
  {
   "cell_type": "code",
   "execution_count": 15,
   "metadata": {},
   "outputs": [],
   "source": [
    "clean_df = tweet_df.dropna(how='any')"
   ]
  },
  {
   "cell_type": "code",
   "execution_count": 16,
   "metadata": {},
   "outputs": [],
   "source": [
    "# Filter to data for United States only\n",
    "clean_df = clean_df.loc[clean_df['country']== 'United States']"
   ]
  },
  {
   "cell_type": "code",
   "execution_count": 17,
   "metadata": {},
   "outputs": [
    {
     "name": "stdout",
     "output_type": "stream",
     "text": [
      "Count of duplicates: 21056\n"
     ]
    }
   ],
   "source": [
    "print(\"Count of duplicates: {}\".format(clean_df.duplicated(subset=[\"tweet\"]).sum()))"
   ]
  },
  {
   "cell_type": "code",
   "execution_count": 18,
   "metadata": {},
   "outputs": [
    {
     "name": "stdout",
     "output_type": "stream",
     "text": [
      "Original size of df: 182384\n",
      "No duplicates size of df : 141640\n"
     ]
    }
   ],
   "source": [
    "# Remove duplicate tweets, leaving only those with either hashtag not both\n",
    "print(\"Original size of df: {}\".format(len(clean_df)))\n",
    "clean_df.drop_duplicates(subset=[\"tweet\"], inplace=True, keep=False)\n",
    "print(\"No duplicates size of df : {}\".format(len(clean_df)))"
   ]
  },
  {
   "cell_type": "code",
   "execution_count": 19,
   "metadata": {},
   "outputs": [],
   "source": [
    "clean_df.reset_index(inplace=True)"
   ]
  },
  {
   "cell_type": "code",
   "execution_count": 20,
   "metadata": {},
   "outputs": [],
   "source": [
    "clean_df['Date'] = clean_df['created_at'].dt.strftime('%m/%d/%Y')\n",
    "clean_df['Time'] = clean_df['created_at'].dt.strftime('%H:%M:%S')"
   ]
  },
  {
   "cell_type": "code",
   "execution_count": 21,
   "metadata": {},
   "outputs": [],
   "source": [
    "# Setting id column to use as primary key\n",
    "clean_df = clean_df.rename(columns = {'index': 'id'}, inplace = False)"
   ]
  },
  {
   "cell_type": "code",
   "execution_count": 22,
   "metadata": {},
   "outputs": [],
   "source": [
    "clean_df = clean_df[['id', 'created_at', 'tweet', 'likes', 'retweet_count', 'source', 'lat', 'long', 'city','state_code','hashtag', 'Date', 'Time']]"
   ]
  },
  {
   "cell_type": "code",
   "execution_count": 23,
   "metadata": {},
   "outputs": [],
   "source": [
    "clean_df = clean_df[['created_at', 'tweet', 'likes', 'retweet_count', 'source', 'lat', 'long', 'city','state_code','hashtag', 'Date', 'Time']]"
   ]
  },
  {
   "cell_type": "code",
   "execution_count": 24,
   "metadata": {},
   "outputs": [],
   "source": [
    "clean_df.reset_index(inplace=True)"
   ]
  },
  {
   "cell_type": "code",
   "execution_count": 25,
   "metadata": {},
   "outputs": [
    {
     "data": {
      "text/html": [
       "<div>\n",
       "<style scoped>\n",
       "    .dataframe tbody tr th:only-of-type {\n",
       "        vertical-align: middle;\n",
       "    }\n",
       "\n",
       "    .dataframe tbody tr th {\n",
       "        vertical-align: top;\n",
       "    }\n",
       "\n",
       "    .dataframe thead th {\n",
       "        text-align: right;\n",
       "    }\n",
       "</style>\n",
       "<table border=\"1\" class=\"dataframe\">\n",
       "  <thead>\n",
       "    <tr style=\"text-align: right;\">\n",
       "      <th></th>\n",
       "      <th>id</th>\n",
       "      <th>created_at</th>\n",
       "      <th>tweet</th>\n",
       "      <th>likes</th>\n",
       "      <th>retweet_count</th>\n",
       "      <th>source</th>\n",
       "      <th>lat</th>\n",
       "      <th>long</th>\n",
       "      <th>city</th>\n",
       "      <th>state_code</th>\n",
       "      <th>hashtag</th>\n",
       "      <th>Date</th>\n",
       "      <th>Time</th>\n",
       "    </tr>\n",
       "  </thead>\n",
       "  <tbody>\n",
       "    <tr>\n",
       "      <th>0</th>\n",
       "      <td>0</td>\n",
       "      <td>2020-10-15 00:00:02</td>\n",
       "      <td>#Trump: As a student I used to hear for years,...</td>\n",
       "      <td>2.0</td>\n",
       "      <td>1.0</td>\n",
       "      <td>Twitter Web App</td>\n",
       "      <td>45.520247</td>\n",
       "      <td>-122.674195</td>\n",
       "      <td>Portland</td>\n",
       "      <td>OR</td>\n",
       "      <td>Trump</td>\n",
       "      <td>10/15/2020</td>\n",
       "      <td>00:00:02</td>\n",
       "    </tr>\n",
       "    <tr>\n",
       "      <th>1</th>\n",
       "      <td>1</td>\n",
       "      <td>2020-10-15 00:00:08</td>\n",
       "      <td>You get a tie! And you get a tie! #Trump ‘s ra...</td>\n",
       "      <td>4.0</td>\n",
       "      <td>3.0</td>\n",
       "      <td>Twitter for iPhone</td>\n",
       "      <td>38.894992</td>\n",
       "      <td>-77.036558</td>\n",
       "      <td>Washington</td>\n",
       "      <td>DC</td>\n",
       "      <td>Trump</td>\n",
       "      <td>10/15/2020</td>\n",
       "      <td>00:00:08</td>\n",
       "    </tr>\n",
       "    <tr>\n",
       "      <th>2</th>\n",
       "      <td>2</td>\n",
       "      <td>2020-10-15 00:00:26</td>\n",
       "      <td>#Trump #PresidentTrump #Trump2020LandslideVict...</td>\n",
       "      <td>3.0</td>\n",
       "      <td>5.0</td>\n",
       "      <td>Twitter for Android</td>\n",
       "      <td>32.717421</td>\n",
       "      <td>-117.162771</td>\n",
       "      <td>San Diego</td>\n",
       "      <td>CA</td>\n",
       "      <td>Trump</td>\n",
       "      <td>10/15/2020</td>\n",
       "      <td>00:00:26</td>\n",
       "    </tr>\n",
       "    <tr>\n",
       "      <th>3</th>\n",
       "      <td>3</td>\n",
       "      <td>2020-10-15 00:01:14</td>\n",
       "      <td>#Trump: Nobody likes to tell you this, but som...</td>\n",
       "      <td>1.0</td>\n",
       "      <td>1.0</td>\n",
       "      <td>Twitter Web App</td>\n",
       "      <td>45.520247</td>\n",
       "      <td>-122.674195</td>\n",
       "      <td>Portland</td>\n",
       "      <td>OR</td>\n",
       "      <td>Trump</td>\n",
       "      <td>10/15/2020</td>\n",
       "      <td>00:01:14</td>\n",
       "    </tr>\n",
       "    <tr>\n",
       "      <th>4</th>\n",
       "      <td>4</td>\n",
       "      <td>2020-10-15 00:01:30</td>\n",
       "      <td>@karatblood @KazePlays_JC Grab @realDonaldTrum...</td>\n",
       "      <td>2.0</td>\n",
       "      <td>0.0</td>\n",
       "      <td>Twitter for iPhone</td>\n",
       "      <td>41.882823</td>\n",
       "      <td>-87.686307</td>\n",
       "      <td>Chicago</td>\n",
       "      <td>IL</td>\n",
       "      <td>Trump</td>\n",
       "      <td>10/15/2020</td>\n",
       "      <td>00:01:30</td>\n",
       "    </tr>\n",
       "  </tbody>\n",
       "</table>\n",
       "</div>"
      ],
      "text/plain": [
       "   id          created_at                                              tweet  \\\n",
       "0   0 2020-10-15 00:00:02  #Trump: As a student I used to hear for years,...   \n",
       "1   1 2020-10-15 00:00:08  You get a tie! And you get a tie! #Trump ‘s ra...   \n",
       "2   2 2020-10-15 00:00:26  #Trump #PresidentTrump #Trump2020LandslideVict...   \n",
       "3   3 2020-10-15 00:01:14  #Trump: Nobody likes to tell you this, but som...   \n",
       "4   4 2020-10-15 00:01:30  @karatblood @KazePlays_JC Grab @realDonaldTrum...   \n",
       "\n",
       "   likes  retweet_count               source        lat        long  \\\n",
       "0    2.0            1.0      Twitter Web App  45.520247 -122.674195   \n",
       "1    4.0            3.0   Twitter for iPhone  38.894992  -77.036558   \n",
       "2    3.0            5.0  Twitter for Android  32.717421 -117.162771   \n",
       "3    1.0            1.0      Twitter Web App  45.520247 -122.674195   \n",
       "4    2.0            0.0   Twitter for iPhone  41.882823  -87.686307   \n",
       "\n",
       "         city state_code hashtag        Date      Time  \n",
       "0    Portland         OR   Trump  10/15/2020  00:00:02  \n",
       "1  Washington         DC   Trump  10/15/2020  00:00:08  \n",
       "2   San Diego         CA   Trump  10/15/2020  00:00:26  \n",
       "3    Portland         OR   Trump  10/15/2020  00:01:14  \n",
       "4     Chicago         IL   Trump  10/15/2020  00:01:30  "
      ]
     },
     "execution_count": 25,
     "metadata": {},
     "output_type": "execute_result"
    }
   ],
   "source": [
    "clean_df = clean_df.rename(columns = {'index': 'id'}, inplace = False)\n",
    "clean_df.head()"
   ]
  },
  {
   "cell_type": "code",
   "execution_count": 26,
   "metadata": {},
   "outputs": [
    {
     "data": {
      "text/plain": [
       "2047      1\n",
       "34106     1\n",
       "136552    1\n",
       "44351     1\n",
       "42302     1\n",
       "         ..\n",
       "125672    1\n",
       "123625    1\n",
       "129770    1\n",
       "127723    1\n",
       "0         1\n",
       "Name: id, Length: 141640, dtype: int64"
      ]
     },
     "execution_count": 26,
     "metadata": {},
     "output_type": "execute_result"
    }
   ],
   "source": [
    "clean_df['id'].value_counts()"
   ]
  },
  {
   "cell_type": "code",
   "execution_count": 27,
   "metadata": {},
   "outputs": [],
   "source": [
    "# Sentiment Analysis - code created by Try Suharso https://www.kaggle.com/trysuharso (2020) Pandas, NLTK, Re, TextBlob, Networkx. [Source code]. https://www.kaggle.com/trysuharso/us-election-2020-twitter-analysis"
   ]
  },
  {
   "cell_type": "code",
   "execution_count": 28,
   "metadata": {},
   "outputs": [],
   "source": [
    "#cleaning the tweets\n",
    "def clean_tweets(tweet):\n",
    " \n",
    "    tweet = re.sub(r':', '', str(tweet))\n",
    "    tweet = re.sub(r'‚Ä¶', '', str(tweet))\n",
    "    tweet = re.sub('@[A-Za-z0–9]+', '', str(tweet))               \n",
    "    tweet = re.sub('#', '', str(tweet)) # Removing '#' hash tag\n",
    "    tweet = re.sub('https?:\\/\\/\\S+', '', str(tweet)) # Removing hyperlink\n",
    "    #replace consecutive non-ASCII characters with a space\n",
    "    tweet = re.sub(r'[^\\x00-\\x7F]+',' ',str(tweet))\n",
    "    tweet = str(tweet).lower()\n",
    "    tweet = re.sub('\\[.*?\\]', '', tweet)\n",
    "    tweet = re.sub('https?://\\S+|www\\.\\S+', '', tweet)\n",
    "    tweet = re.sub('<.*?>+', '', tweet)\n",
    "    tweet = re.sub('\\n', '', tweet)\n",
    "    tweet = re.sub('\\w*\\d\\w*', '', tweet)\n",
    "    tweet = re.sub(r'#','',tweet)\n",
    "    tweet = re.sub(r'RT[\\s]+','',tweet)\n",
    "    tweet = re.sub(r'[^\\w]', ' ', tweet)\n",
    "    tweet = re.sub('https', '', tweet)\n",
    "    tweet = re.sub('https ', '', tweet)\n",
    "    tweet = re.sub('co', '', tweet)\n",
    "\n",
    "    return tweet"
   ]
  },
  {
   "cell_type": "code",
   "execution_count": 29,
   "metadata": {},
   "outputs": [],
   "source": [
    "# Determine subjectivity, polarity, sentiment values of each tweet \n",
    "# ALLOW SEVERAL MINUTES TO COMPLETE\n",
    "def getSubjectivity(tweet):\n",
    "    try:\n",
    "        return TextBlob(tweet).sentiment.subjectivity\n",
    "    except:\n",
    "        return None\n",
    "\n",
    "\n",
    "# Create a function to get the polarity\n",
    "def getPolarity(tweet):\n",
    "    try:\n",
    "        return  TextBlob(tweet).sentiment.polarity\n",
    "    except:\n",
    "        return None\n",
    "\n",
    "def sentiment_calc(tweet):\n",
    "    try:\n",
    "        return TextBlob(tweet).sentiment\n",
    "    except:\n",
    "        return None\n",
    "\n",
    "# Add sentiment analysis value columns to df\n",
    "clean_df['edited_tweet'] = clean_df['tweet'].apply(clean_tweets)\n",
    "clean_df['subjectivity'] = clean_df['edited_tweet'].apply(getSubjectivity)\n",
    "clean_df['polarity'] = clean_df['edited_tweet'].apply(getPolarity)\n",
    "clean_df['sentiment'] = clean_df['edited_tweet'].apply(sentiment_calc)\n",
    "\n",
    "# Assign sentiment analysis category based on polarity value and add to df\n",
    "def getAnalysis(score):\n",
    "    if score < 0:\n",
    "      return 'Negative'\n",
    "    elif score == 0:\n",
    "      return 'Neutral'\n",
    "    else:\n",
    "      return 'Positive'\n",
    "\n",
    "clean_df['analysis'] = clean_df['polarity'].apply(getAnalysis)"
   ]
  },
  {
   "cell_type": "code",
   "execution_count": 30,
   "metadata": {},
   "outputs": [
    {
     "data": {
      "text/html": [
       "<div>\n",
       "<style scoped>\n",
       "    .dataframe tbody tr th:only-of-type {\n",
       "        vertical-align: middle;\n",
       "    }\n",
       "\n",
       "    .dataframe tbody tr th {\n",
       "        vertical-align: top;\n",
       "    }\n",
       "\n",
       "    .dataframe thead th {\n",
       "        text-align: right;\n",
       "    }\n",
       "</style>\n",
       "<table border=\"1\" class=\"dataframe\">\n",
       "  <thead>\n",
       "    <tr style=\"text-align: right;\">\n",
       "      <th></th>\n",
       "      <th>id</th>\n",
       "      <th>created_at</th>\n",
       "      <th>tweet</th>\n",
       "      <th>likes</th>\n",
       "      <th>retweet_count</th>\n",
       "      <th>source</th>\n",
       "      <th>lat</th>\n",
       "      <th>long</th>\n",
       "      <th>city</th>\n",
       "      <th>state_code</th>\n",
       "      <th>hashtag</th>\n",
       "      <th>Date</th>\n",
       "      <th>Time</th>\n",
       "      <th>edited_tweet</th>\n",
       "      <th>subjectivity</th>\n",
       "      <th>polarity</th>\n",
       "      <th>sentiment</th>\n",
       "      <th>analysis</th>\n",
       "    </tr>\n",
       "  </thead>\n",
       "  <tbody>\n",
       "    <tr>\n",
       "      <th>0</th>\n",
       "      <td>0</td>\n",
       "      <td>2020-10-15 00:00:02</td>\n",
       "      <td>#Trump: As a student I used to hear for years,...</td>\n",
       "      <td>2.0</td>\n",
       "      <td>1.0</td>\n",
       "      <td>Twitter Web App</td>\n",
       "      <td>45.520247</td>\n",
       "      <td>-122.674195</td>\n",
       "      <td>Portland</td>\n",
       "      <td>OR</td>\n",
       "      <td>Trump</td>\n",
       "      <td>10/15/2020</td>\n",
       "      <td>00:00:02</td>\n",
       "      <td>trump as a student i used to hear for years  f...</td>\n",
       "      <td>0.333333</td>\n",
       "      <td>0.333333</td>\n",
       "      <td>(0.3333333333333333, 0.3333333333333333)</td>\n",
       "      <td>Positive</td>\n",
       "    </tr>\n",
       "    <tr>\n",
       "      <th>1</th>\n",
       "      <td>1</td>\n",
       "      <td>2020-10-15 00:00:08</td>\n",
       "      <td>You get a tie! And you get a tie! #Trump ‘s ra...</td>\n",
       "      <td>4.0</td>\n",
       "      <td>3.0</td>\n",
       "      <td>Twitter for iPhone</td>\n",
       "      <td>38.894992</td>\n",
       "      <td>-77.036558</td>\n",
       "      <td>Washington</td>\n",
       "      <td>DC</td>\n",
       "      <td>Trump</td>\n",
       "      <td>10/15/2020</td>\n",
       "      <td>00:00:08</td>\n",
       "      <td>you get a tie  and you get a tie  trump  s ral...</td>\n",
       "      <td>0.000000</td>\n",
       "      <td>0.000000</td>\n",
       "      <td>(0.0, 0.0)</td>\n",
       "      <td>Neutral</td>\n",
       "    </tr>\n",
       "    <tr>\n",
       "      <th>2</th>\n",
       "      <td>2</td>\n",
       "      <td>2020-10-15 00:00:26</td>\n",
       "      <td>#Trump #PresidentTrump #Trump2020LandslideVict...</td>\n",
       "      <td>3.0</td>\n",
       "      <td>5.0</td>\n",
       "      <td>Twitter for Android</td>\n",
       "      <td>32.717421</td>\n",
       "      <td>-117.162771</td>\n",
       "      <td>San Diego</td>\n",
       "      <td>CA</td>\n",
       "      <td>Trump</td>\n",
       "      <td>10/15/2020</td>\n",
       "      <td>00:00:26</td>\n",
       "      <td>trump presidenttrump   maga kag  america ameri...</td>\n",
       "      <td>0.750000</td>\n",
       "      <td>0.500000</td>\n",
       "      <td>(0.5, 0.75)</td>\n",
       "      <td>Positive</td>\n",
       "    </tr>\n",
       "    <tr>\n",
       "      <th>3</th>\n",
       "      <td>3</td>\n",
       "      <td>2020-10-15 00:01:14</td>\n",
       "      <td>#Trump: Nobody likes to tell you this, but som...</td>\n",
       "      <td>1.0</td>\n",
       "      <td>1.0</td>\n",
       "      <td>Twitter Web App</td>\n",
       "      <td>45.520247</td>\n",
       "      <td>-122.674195</td>\n",
       "      <td>Portland</td>\n",
       "      <td>OR</td>\n",
       "      <td>Trump</td>\n",
       "      <td>10/15/2020</td>\n",
       "      <td>00:01:14</td>\n",
       "      <td>trump nobody likes to tell you this  but some ...</td>\n",
       "      <td>0.595238</td>\n",
       "      <td>0.261905</td>\n",
       "      <td>(0.2619047619047619, 0.5952380952380952)</td>\n",
       "      <td>Positive</td>\n",
       "    </tr>\n",
       "    <tr>\n",
       "      <th>4</th>\n",
       "      <td>4</td>\n",
       "      <td>2020-10-15 00:01:30</td>\n",
       "      <td>@karatblood @KazePlays_JC Grab @realDonaldTrum...</td>\n",
       "      <td>2.0</td>\n",
       "      <td>0.0</td>\n",
       "      <td>Twitter for iPhone</td>\n",
       "      <td>41.882823</td>\n",
       "      <td>-87.686307</td>\n",
       "      <td>Chicago</td>\n",
       "      <td>IL</td>\n",
       "      <td>Trump</td>\n",
       "      <td>10/15/2020</td>\n",
       "      <td>00:01:30</td>\n",
       "      <td>_jc grab  by the balls  amp  chuck the bastar...</td>\n",
       "      <td>1.000000</td>\n",
       "      <td>0.000000</td>\n",
       "      <td>(0.0, 1.0)</td>\n",
       "      <td>Neutral</td>\n",
       "    </tr>\n",
       "  </tbody>\n",
       "</table>\n",
       "</div>"
      ],
      "text/plain": [
       "   id          created_at                                              tweet  \\\n",
       "0   0 2020-10-15 00:00:02  #Trump: As a student I used to hear for years,...   \n",
       "1   1 2020-10-15 00:00:08  You get a tie! And you get a tie! #Trump ‘s ra...   \n",
       "2   2 2020-10-15 00:00:26  #Trump #PresidentTrump #Trump2020LandslideVict...   \n",
       "3   3 2020-10-15 00:01:14  #Trump: Nobody likes to tell you this, but som...   \n",
       "4   4 2020-10-15 00:01:30  @karatblood @KazePlays_JC Grab @realDonaldTrum...   \n",
       "\n",
       "   likes  retweet_count               source        lat        long  \\\n",
       "0    2.0            1.0      Twitter Web App  45.520247 -122.674195   \n",
       "1    4.0            3.0   Twitter for iPhone  38.894992  -77.036558   \n",
       "2    3.0            5.0  Twitter for Android  32.717421 -117.162771   \n",
       "3    1.0            1.0      Twitter Web App  45.520247 -122.674195   \n",
       "4    2.0            0.0   Twitter for iPhone  41.882823  -87.686307   \n",
       "\n",
       "         city state_code hashtag        Date      Time  \\\n",
       "0    Portland         OR   Trump  10/15/2020  00:00:02   \n",
       "1  Washington         DC   Trump  10/15/2020  00:00:08   \n",
       "2   San Diego         CA   Trump  10/15/2020  00:00:26   \n",
       "3    Portland         OR   Trump  10/15/2020  00:01:14   \n",
       "4     Chicago         IL   Trump  10/15/2020  00:01:30   \n",
       "\n",
       "                                        edited_tweet  subjectivity  polarity  \\\n",
       "0  trump as a student i used to hear for years  f...      0.333333  0.333333   \n",
       "1  you get a tie  and you get a tie  trump  s ral...      0.000000  0.000000   \n",
       "2  trump presidenttrump   maga kag  america ameri...      0.750000  0.500000   \n",
       "3  trump nobody likes to tell you this  but some ...      0.595238  0.261905   \n",
       "4   _jc grab  by the balls  amp  chuck the bastar...      1.000000  0.000000   \n",
       "\n",
       "                                  sentiment  analysis  \n",
       "0  (0.3333333333333333, 0.3333333333333333)  Positive  \n",
       "1                                (0.0, 0.0)   Neutral  \n",
       "2                               (0.5, 0.75)  Positive  \n",
       "3  (0.2619047619047619, 0.5952380952380952)  Positive  \n",
       "4                                (0.0, 1.0)   Neutral  "
      ]
     },
     "execution_count": 30,
     "metadata": {},
     "output_type": "execute_result"
    }
   ],
   "source": [
    "clean_df.head()"
   ]
  },
  {
   "cell_type": "code",
   "execution_count": 31,
   "metadata": {},
   "outputs": [],
   "source": [
    "# Creating dataframe for polarity average by state\n",
    "biden=clean_df[clean_df['hashtag']=='Biden']\n",
    "trump=clean_df[clean_df['hashtag']=='Trump']"
   ]
  },
  {
   "cell_type": "code",
   "execution_count": 32,
   "metadata": {},
   "outputs": [],
   "source": [
    "biden['Pol_Avg'] = biden.groupby('state_code').polarity.transform('mean')\n",
    "trump['Pol_Avg'] = trump.groupby('state_code').polarity.transform('mean')\n"
   ]
  },
  {
   "cell_type": "code",
   "execution_count": 33,
   "metadata": {},
   "outputs": [],
   "source": [
    "biden = biden[['state_code','lat', 'long', 'hashtag','Pol_Avg' ]]\n",
    "trump = trump[['state_code','lat', 'long', 'hashtag','Pol_Avg' ]]"
   ]
  },
  {
   "cell_type": "code",
   "execution_count": 34,
   "metadata": {},
   "outputs": [],
   "source": [
    "biden = biden.drop_duplicates(subset=['state_code'], keep='first')\n",
    "trump = trump.drop_duplicates(subset=['state_code'], keep='first')"
   ]
  },
  {
   "cell_type": "code",
   "execution_count": 35,
   "metadata": {},
   "outputs": [],
   "source": [
    "biden['analysis'] = biden['Pol_Avg'].apply(getAnalysis)\n",
    "trump['analysis'] = trump['Pol_Avg'].apply(getAnalysis)"
   ]
  },
  {
   "cell_type": "code",
   "execution_count": 36,
   "metadata": {},
   "outputs": [
    {
     "data": {
      "text/plain": [
       "Positive    52\n",
       "Name: analysis, dtype: int64"
      ]
     },
     "execution_count": 36,
     "metadata": {},
     "output_type": "execute_result"
    }
   ],
   "source": [
    "biden['analysis'].value_counts()"
   ]
  },
  {
   "cell_type": "code",
   "execution_count": 37,
   "metadata": {},
   "outputs": [
    {
     "data": {
      "text/plain": [
       "Positive    46\n",
       "Negative     5\n",
       "Name: analysis, dtype: int64"
      ]
     },
     "execution_count": 37,
     "metadata": {},
     "output_type": "execute_result"
    }
   ],
   "source": [
    "trump['analysis'].value_counts()"
   ]
  },
  {
   "cell_type": "code",
   "execution_count": 38,
   "metadata": {},
   "outputs": [
    {
     "data": {
      "text/html": [
       "<div>\n",
       "<style scoped>\n",
       "    .dataframe tbody tr th:only-of-type {\n",
       "        vertical-align: middle;\n",
       "    }\n",
       "\n",
       "    .dataframe tbody tr th {\n",
       "        vertical-align: top;\n",
       "    }\n",
       "\n",
       "    .dataframe thead th {\n",
       "        text-align: right;\n",
       "    }\n",
       "</style>\n",
       "<table border=\"1\" class=\"dataframe\">\n",
       "  <thead>\n",
       "    <tr style=\"text-align: right;\">\n",
       "      <th></th>\n",
       "      <th>state_code</th>\n",
       "      <th>lat</th>\n",
       "      <th>long</th>\n",
       "      <th>hashtag</th>\n",
       "      <th>Pol_Avg</th>\n",
       "      <th>analysis</th>\n",
       "    </tr>\n",
       "  </thead>\n",
       "  <tbody>\n",
       "    <tr>\n",
       "      <th>75874</th>\n",
       "      <td>CA</td>\n",
       "      <td>34.053691</td>\n",
       "      <td>-118.242766</td>\n",
       "      <td>Biden</td>\n",
       "      <td>0.099392</td>\n",
       "      <td>Positive</td>\n",
       "    </tr>\n",
       "    <tr>\n",
       "      <th>75875</th>\n",
       "      <td>NY</td>\n",
       "      <td>40.712728</td>\n",
       "      <td>-74.006015</td>\n",
       "      <td>Biden</td>\n",
       "      <td>0.103448</td>\n",
       "      <td>Positive</td>\n",
       "    </tr>\n",
       "    <tr>\n",
       "      <th>75876</th>\n",
       "      <td>MN</td>\n",
       "      <td>44.977300</td>\n",
       "      <td>-93.265469</td>\n",
       "      <td>Biden</td>\n",
       "      <td>0.083951</td>\n",
       "      <td>Positive</td>\n",
       "    </tr>\n",
       "    <tr>\n",
       "      <th>75878</th>\n",
       "      <td>IN</td>\n",
       "      <td>39.768333</td>\n",
       "      <td>-86.158350</td>\n",
       "      <td>Biden</td>\n",
       "      <td>0.115800</td>\n",
       "      <td>Positive</td>\n",
       "    </tr>\n",
       "    <tr>\n",
       "      <th>75879</th>\n",
       "      <td>FL</td>\n",
       "      <td>26.358688</td>\n",
       "      <td>-80.083098</td>\n",
       "      <td>Biden</td>\n",
       "      <td>0.104468</td>\n",
       "      <td>Positive</td>\n",
       "    </tr>\n",
       "  </tbody>\n",
       "</table>\n",
       "</div>"
      ],
      "text/plain": [
       "      state_code        lat        long hashtag   Pol_Avg  analysis\n",
       "75874         CA  34.053691 -118.242766   Biden  0.099392  Positive\n",
       "75875         NY  40.712728  -74.006015   Biden  0.103448  Positive\n",
       "75876         MN  44.977300  -93.265469   Biden  0.083951  Positive\n",
       "75878         IN  39.768333  -86.158350   Biden  0.115800  Positive\n",
       "75879         FL  26.358688  -80.083098   Biden  0.104468  Positive"
      ]
     },
     "execution_count": 38,
     "metadata": {},
     "output_type": "execute_result"
    }
   ],
   "source": [
    "biden.head()"
   ]
  },
  {
   "cell_type": "code",
   "execution_count": 39,
   "metadata": {},
   "outputs": [],
   "source": [
    "biden = biden.rename(columns = {'Pol_Avg': 'BidenAvg'}, inplace = False).reset_index()\n",
    "trump = trump.rename(columns = {'Pol_Avg': 'TrumpAvg'}, inplace = False).reset_index()"
   ]
  },
  {
   "cell_type": "code",
   "execution_count": 40,
   "metadata": {},
   "outputs": [],
   "source": [
    "biden = biden[['state_code', 'BidenAvg']]\n",
    "trump = trump[['state_code', 'TrumpAvg']]"
   ]
  },
  {
   "cell_type": "code",
   "execution_count": 41,
   "metadata": {},
   "outputs": [],
   "source": [
    "state_avg = pd.merge(biden, trump, on=\"state_code\", how=\"left\")"
   ]
  },
  {
   "cell_type": "code",
   "execution_count": 42,
   "metadata": {},
   "outputs": [],
   "source": [
    "state_avg = state_avg.reset_index(drop=True)"
   ]
  },
  {
   "cell_type": "code",
   "execution_count": 43,
   "metadata": {},
   "outputs": [
    {
     "data": {
      "text/html": [
       "<div>\n",
       "<style scoped>\n",
       "    .dataframe tbody tr th:only-of-type {\n",
       "        vertical-align: middle;\n",
       "    }\n",
       "\n",
       "    .dataframe tbody tr th {\n",
       "        vertical-align: top;\n",
       "    }\n",
       "\n",
       "    .dataframe thead th {\n",
       "        text-align: right;\n",
       "    }\n",
       "</style>\n",
       "<table border=\"1\" class=\"dataframe\">\n",
       "  <thead>\n",
       "    <tr style=\"text-align: right;\">\n",
       "      <th></th>\n",
       "      <th>state_code</th>\n",
       "      <th>BidenAvg</th>\n",
       "      <th>TrumpAvg</th>\n",
       "    </tr>\n",
       "  </thead>\n",
       "  <tbody>\n",
       "    <tr>\n",
       "      <th>0</th>\n",
       "      <td>CA</td>\n",
       "      <td>0.099392</td>\n",
       "      <td>0.037021</td>\n",
       "    </tr>\n",
       "    <tr>\n",
       "      <th>1</th>\n",
       "      <td>NY</td>\n",
       "      <td>0.103448</td>\n",
       "      <td>0.041554</td>\n",
       "    </tr>\n",
       "    <tr>\n",
       "      <th>2</th>\n",
       "      <td>MN</td>\n",
       "      <td>0.083951</td>\n",
       "      <td>0.013977</td>\n",
       "    </tr>\n",
       "    <tr>\n",
       "      <th>3</th>\n",
       "      <td>IN</td>\n",
       "      <td>0.115800</td>\n",
       "      <td>-0.008091</td>\n",
       "    </tr>\n",
       "    <tr>\n",
       "      <th>4</th>\n",
       "      <td>FL</td>\n",
       "      <td>0.104468</td>\n",
       "      <td>0.047393</td>\n",
       "    </tr>\n",
       "  </tbody>\n",
       "</table>\n",
       "</div>"
      ],
      "text/plain": [
       "  state_code  BidenAvg  TrumpAvg\n",
       "0         CA  0.099392  0.037021\n",
       "1         NY  0.103448  0.041554\n",
       "2         MN  0.083951  0.013977\n",
       "3         IN  0.115800 -0.008091\n",
       "4         FL  0.104468  0.047393"
      ]
     },
     "execution_count": 43,
     "metadata": {},
     "output_type": "execute_result"
    }
   ],
   "source": [
    "state_avg.head()"
   ]
  },
  {
   "cell_type": "code",
   "execution_count": 44,
   "metadata": {},
   "outputs": [],
   "source": [
    "# Sentiment by date"
   ]
  },
  {
   "cell_type": "code",
   "execution_count": 45,
   "metadata": {},
   "outputs": [],
   "source": [
    "biden1=clean_df[clean_df['hashtag']=='Biden']\n",
    "trump1=clean_df[clean_df['hashtag']=='Trump']"
   ]
  },
  {
   "cell_type": "code",
   "execution_count": 46,
   "metadata": {},
   "outputs": [],
   "source": [
    "biden1['Pol_Avg'] = biden1.groupby('Date').polarity.transform('mean')\n",
    "trump1['Pol_Avg'] = trump1.groupby('Date').polarity.transform('mean')"
   ]
  },
  {
   "cell_type": "code",
   "execution_count": 47,
   "metadata": {},
   "outputs": [
    {
     "data": {
      "text/html": [
       "<div>\n",
       "<style scoped>\n",
       "    .dataframe tbody tr th:only-of-type {\n",
       "        vertical-align: middle;\n",
       "    }\n",
       "\n",
       "    .dataframe tbody tr th {\n",
       "        vertical-align: top;\n",
       "    }\n",
       "\n",
       "    .dataframe thead th {\n",
       "        text-align: right;\n",
       "    }\n",
       "</style>\n",
       "<table border=\"1\" class=\"dataframe\">\n",
       "  <thead>\n",
       "    <tr style=\"text-align: right;\">\n",
       "      <th></th>\n",
       "      <th>id</th>\n",
       "      <th>created_at</th>\n",
       "      <th>tweet</th>\n",
       "      <th>likes</th>\n",
       "      <th>retweet_count</th>\n",
       "      <th>source</th>\n",
       "      <th>lat</th>\n",
       "      <th>long</th>\n",
       "      <th>city</th>\n",
       "      <th>state_code</th>\n",
       "      <th>hashtag</th>\n",
       "      <th>Date</th>\n",
       "      <th>Time</th>\n",
       "      <th>edited_tweet</th>\n",
       "      <th>subjectivity</th>\n",
       "      <th>polarity</th>\n",
       "      <th>sentiment</th>\n",
       "      <th>analysis</th>\n",
       "      <th>Pol_Avg</th>\n",
       "    </tr>\n",
       "  </thead>\n",
       "  <tbody>\n",
       "    <tr>\n",
       "      <th>75874</th>\n",
       "      <td>75874</td>\n",
       "      <td>2020-10-15 00:01:57</td>\n",
       "      <td>@RealJamesWoods #BidenCrimeFamily #JoeBiden #H...</td>\n",
       "      <td>0.0</td>\n",
       "      <td>0.0</td>\n",
       "      <td>Twitter for Android</td>\n",
       "      <td>34.053691</td>\n",
       "      <td>-118.242766</td>\n",
       "      <td>Los Angeles</td>\n",
       "      <td>CA</td>\n",
       "      <td>Biden</td>\n",
       "      <td>10/15/2020</td>\n",
       "      <td>00:01:57</td>\n",
       "      <td>bidencrimefamily joebiden hunterbiden hunterb...</td>\n",
       "      <td>0.000000</td>\n",
       "      <td>0.000000</td>\n",
       "      <td>(0.0, 0.0)</td>\n",
       "      <td>Neutral</td>\n",
       "      <td>0.060676</td>\n",
       "    </tr>\n",
       "    <tr>\n",
       "      <th>75875</th>\n",
       "      <td>75875</td>\n",
       "      <td>2020-10-15 00:02:06</td>\n",
       "      <td>Come on @ABC PLEASE DO THE RIGHT THING. Move t...</td>\n",
       "      <td>0.0</td>\n",
       "      <td>0.0</td>\n",
       "      <td>Twitter Web App</td>\n",
       "      <td>40.712728</td>\n",
       "      <td>-74.006015</td>\n",
       "      <td>New York</td>\n",
       "      <td>NY</td>\n",
       "      <td>Biden</td>\n",
       "      <td>10/15/2020</td>\n",
       "      <td>00:02:06</td>\n",
       "      <td>me on  please do the right thing  move the bid...</td>\n",
       "      <td>0.178571</td>\n",
       "      <td>0.078571</td>\n",
       "      <td>(0.07857142857142857, 0.17857142857142858)</td>\n",
       "      <td>Positive</td>\n",
       "      <td>0.060676</td>\n",
       "    </tr>\n",
       "    <tr>\n",
       "      <th>75876</th>\n",
       "      <td>75876</td>\n",
       "      <td>2020-10-15 00:02:23</td>\n",
       "      <td>#realDonaldTrump addresses #JoeBiden and #Hunt...</td>\n",
       "      <td>0.0</td>\n",
       "      <td>1.0</td>\n",
       "      <td>Twitter for iPhone</td>\n",
       "      <td>44.977300</td>\n",
       "      <td>-93.265469</td>\n",
       "      <td>Minneapolis</td>\n",
       "      <td>MN</td>\n",
       "      <td>Biden</td>\n",
       "      <td>10/15/2020</td>\n",
       "      <td>00:02:23</td>\n",
       "      <td>realdonaldtrump addresses joebiden and hunterb...</td>\n",
       "      <td>0.500000</td>\n",
       "      <td>0.500000</td>\n",
       "      <td>(0.5, 0.5)</td>\n",
       "      <td>Positive</td>\n",
       "      <td>0.060676</td>\n",
       "    </tr>\n",
       "    <tr>\n",
       "      <th>75877</th>\n",
       "      <td>75877</td>\n",
       "      <td>2020-10-15 00:03:17</td>\n",
       "      <td>Hunter #Biden introduced his father, then-Vice...</td>\n",
       "      <td>1.0</td>\n",
       "      <td>0.0</td>\n",
       "      <td>Twitter for Android</td>\n",
       "      <td>40.712728</td>\n",
       "      <td>-74.006015</td>\n",
       "      <td>New York</td>\n",
       "      <td>NY</td>\n",
       "      <td>Biden</td>\n",
       "      <td>10/15/2020</td>\n",
       "      <td>00:03:17</td>\n",
       "      <td>hunter biden introduced his father  then vice ...</td>\n",
       "      <td>0.322222</td>\n",
       "      <td>0.044444</td>\n",
       "      <td>(0.044444444444444446, 0.32222222222222224)</td>\n",
       "      <td>Positive</td>\n",
       "      <td>0.060676</td>\n",
       "    </tr>\n",
       "    <tr>\n",
       "      <th>75878</th>\n",
       "      <td>75878</td>\n",
       "      <td>2020-10-15 00:03:24</td>\n",
       "      <td>This is from the same night I met the cast of ...</td>\n",
       "      <td>0.0</td>\n",
       "      <td>0.0</td>\n",
       "      <td>Twitter for iPhone</td>\n",
       "      <td>39.768333</td>\n",
       "      <td>-86.158350</td>\n",
       "      <td>Indianapolis</td>\n",
       "      <td>IN</td>\n",
       "      <td>Biden</td>\n",
       "      <td>10/15/2020</td>\n",
       "      <td>00:03:24</td>\n",
       "      <td>this is from the same night i met the cast of ...</td>\n",
       "      <td>0.125000</td>\n",
       "      <td>0.000000</td>\n",
       "      <td>(0.0, 0.125)</td>\n",
       "      <td>Neutral</td>\n",
       "      <td>0.060676</td>\n",
       "    </tr>\n",
       "  </tbody>\n",
       "</table>\n",
       "</div>"
      ],
      "text/plain": [
       "          id          created_at  \\\n",
       "75874  75874 2020-10-15 00:01:57   \n",
       "75875  75875 2020-10-15 00:02:06   \n",
       "75876  75876 2020-10-15 00:02:23   \n",
       "75877  75877 2020-10-15 00:03:17   \n",
       "75878  75878 2020-10-15 00:03:24   \n",
       "\n",
       "                                                   tweet  likes  \\\n",
       "75874  @RealJamesWoods #BidenCrimeFamily #JoeBiden #H...    0.0   \n",
       "75875  Come on @ABC PLEASE DO THE RIGHT THING. Move t...    0.0   \n",
       "75876  #realDonaldTrump addresses #JoeBiden and #Hunt...    0.0   \n",
       "75877  Hunter #Biden introduced his father, then-Vice...    1.0   \n",
       "75878  This is from the same night I met the cast of ...    0.0   \n",
       "\n",
       "       retweet_count               source        lat        long  \\\n",
       "75874            0.0  Twitter for Android  34.053691 -118.242766   \n",
       "75875            0.0      Twitter Web App  40.712728  -74.006015   \n",
       "75876            1.0   Twitter for iPhone  44.977300  -93.265469   \n",
       "75877            0.0  Twitter for Android  40.712728  -74.006015   \n",
       "75878            0.0   Twitter for iPhone  39.768333  -86.158350   \n",
       "\n",
       "               city state_code hashtag        Date      Time  \\\n",
       "75874   Los Angeles         CA   Biden  10/15/2020  00:01:57   \n",
       "75875      New York         NY   Biden  10/15/2020  00:02:06   \n",
       "75876   Minneapolis         MN   Biden  10/15/2020  00:02:23   \n",
       "75877      New York         NY   Biden  10/15/2020  00:03:17   \n",
       "75878  Indianapolis         IN   Biden  10/15/2020  00:03:24   \n",
       "\n",
       "                                            edited_tweet  subjectivity  \\\n",
       "75874   bidencrimefamily joebiden hunterbiden hunterb...      0.000000   \n",
       "75875  me on  please do the right thing  move the bid...      0.178571   \n",
       "75876  realdonaldtrump addresses joebiden and hunterb...      0.500000   \n",
       "75877  hunter biden introduced his father  then vice ...      0.322222   \n",
       "75878  this is from the same night i met the cast of ...      0.125000   \n",
       "\n",
       "       polarity                                    sentiment  analysis  \\\n",
       "75874  0.000000                                   (0.0, 0.0)   Neutral   \n",
       "75875  0.078571   (0.07857142857142857, 0.17857142857142858)  Positive   \n",
       "75876  0.500000                                   (0.5, 0.5)  Positive   \n",
       "75877  0.044444  (0.044444444444444446, 0.32222222222222224)  Positive   \n",
       "75878  0.000000                                 (0.0, 0.125)   Neutral   \n",
       "\n",
       "        Pol_Avg  \n",
       "75874  0.060676  \n",
       "75875  0.060676  \n",
       "75876  0.060676  \n",
       "75877  0.060676  \n",
       "75878  0.060676  "
      ]
     },
     "execution_count": 47,
     "metadata": {},
     "output_type": "execute_result"
    }
   ],
   "source": [
    "biden1.head()"
   ]
  },
  {
   "cell_type": "code",
   "execution_count": 48,
   "metadata": {},
   "outputs": [],
   "source": [
    "biden1 = biden1.drop_duplicates(subset=['Date'], keep='first')\n",
    "trump1 = trump1.drop_duplicates(subset=['Date'], keep='first')"
   ]
  },
  {
   "cell_type": "code",
   "execution_count": 49,
   "metadata": {},
   "outputs": [],
   "source": [
    "biden1 = biden1.rename(columns = {'Pol_Avg': 'BidenAvg'}, inplace = False).reset_index()\n",
    "trump1 = trump1.rename(columns = {'Pol_Avg': 'TrumpAvg'}, inplace = False).reset_index()"
   ]
  },
  {
   "cell_type": "code",
   "execution_count": 50,
   "metadata": {},
   "outputs": [],
   "source": [
    "biden1 = biden1[['Date', 'BidenAvg']]\n",
    "trump1 = trump1[['Date', 'TrumpAvg']]"
   ]
  },
  {
   "cell_type": "code",
   "execution_count": 51,
   "metadata": {},
   "outputs": [],
   "source": [
    "time_avg = pd.merge(biden1, trump1, on=\"Date\", how=\"left\")"
   ]
  },
  {
   "cell_type": "code",
   "execution_count": 52,
   "metadata": {},
   "outputs": [],
   "source": [
    "time_avg = time_avg.reset_index(drop=True)"
   ]
  },
  {
   "cell_type": "code",
   "execution_count": 53,
   "metadata": {},
   "outputs": [
    {
     "data": {
      "text/html": [
       "<div>\n",
       "<style scoped>\n",
       "    .dataframe tbody tr th:only-of-type {\n",
       "        vertical-align: middle;\n",
       "    }\n",
       "\n",
       "    .dataframe tbody tr th {\n",
       "        vertical-align: top;\n",
       "    }\n",
       "\n",
       "    .dataframe thead th {\n",
       "        text-align: right;\n",
       "    }\n",
       "</style>\n",
       "<table border=\"1\" class=\"dataframe\">\n",
       "  <thead>\n",
       "    <tr style=\"text-align: right;\">\n",
       "      <th></th>\n",
       "      <th>Date</th>\n",
       "      <th>BidenAvg</th>\n",
       "      <th>TrumpAvg</th>\n",
       "    </tr>\n",
       "  </thead>\n",
       "  <tbody>\n",
       "    <tr>\n",
       "      <th>0</th>\n",
       "      <td>10/15/2020</td>\n",
       "      <td>0.060676</td>\n",
       "      <td>0.025188</td>\n",
       "    </tr>\n",
       "    <tr>\n",
       "      <th>1</th>\n",
       "      <td>10/16/2020</td>\n",
       "      <td>0.098555</td>\n",
       "      <td>0.034679</td>\n",
       "    </tr>\n",
       "    <tr>\n",
       "      <th>2</th>\n",
       "      <td>10/17/2020</td>\n",
       "      <td>0.097150</td>\n",
       "      <td>0.023844</td>\n",
       "    </tr>\n",
       "    <tr>\n",
       "      <th>3</th>\n",
       "      <td>10/18/2020</td>\n",
       "      <td>0.061264</td>\n",
       "      <td>0.024387</td>\n",
       "    </tr>\n",
       "    <tr>\n",
       "      <th>4</th>\n",
       "      <td>10/19/2020</td>\n",
       "      <td>0.066724</td>\n",
       "      <td>0.034913</td>\n",
       "    </tr>\n",
       "  </tbody>\n",
       "</table>\n",
       "</div>"
      ],
      "text/plain": [
       "         Date  BidenAvg  TrumpAvg\n",
       "0  10/15/2020  0.060676  0.025188\n",
       "1  10/16/2020  0.098555  0.034679\n",
       "2  10/17/2020  0.097150  0.023844\n",
       "3  10/18/2020  0.061264  0.024387\n",
       "4  10/19/2020  0.066724  0.034913"
      ]
     },
     "execution_count": 53,
     "metadata": {},
     "output_type": "execute_result"
    }
   ],
   "source": [
    "time_avg.head()"
   ]
  },
  {
   "cell_type": "code",
   "execution_count": null,
   "metadata": {},
   "outputs": [],
   "source": []
  },
  {
   "cell_type": "code",
   "execution_count": null,
   "metadata": {},
   "outputs": [],
   "source": []
  },
  {
   "cell_type": "code",
   "execution_count": 54,
   "metadata": {},
   "outputs": [],
   "source": [
    "# Creating dataframe for sentiment counts bar visual\n",
    "biden_count=clean_df[clean_df['hashtag']=='Biden']\n",
    "trump_count=clean_df[clean_df['hashtag']=='Trump']\n"
   ]
  },
  {
   "cell_type": "code",
   "execution_count": 55,
   "metadata": {},
   "outputs": [],
   "source": [
    "biden_count = biden_count[['analysis', 'hashtag']]\n",
    "trump_count = trump_count[['analysis', 'hashtag']]"
   ]
  },
  {
   "cell_type": "code",
   "execution_count": 56,
   "metadata": {},
   "outputs": [],
   "source": [
    "biden_count[\"count\"]=1\n",
    "trump_count[\"count\"]=1"
   ]
  },
  {
   "cell_type": "code",
   "execution_count": 57,
   "metadata": {},
   "outputs": [
    {
     "data": {
      "text/html": [
       "<div>\n",
       "<style scoped>\n",
       "    .dataframe tbody tr th:only-of-type {\n",
       "        vertical-align: middle;\n",
       "    }\n",
       "\n",
       "    .dataframe tbody tr th {\n",
       "        vertical-align: top;\n",
       "    }\n",
       "\n",
       "    .dataframe thead th {\n",
       "        text-align: right;\n",
       "    }\n",
       "</style>\n",
       "<table border=\"1\" class=\"dataframe\">\n",
       "  <thead>\n",
       "    <tr style=\"text-align: right;\">\n",
       "      <th></th>\n",
       "      <th>analysis</th>\n",
       "      <th>hashtag</th>\n",
       "      <th>count</th>\n",
       "    </tr>\n",
       "  </thead>\n",
       "  <tbody>\n",
       "    <tr>\n",
       "      <th>75874</th>\n",
       "      <td>Neutral</td>\n",
       "      <td>Biden</td>\n",
       "      <td>1</td>\n",
       "    </tr>\n",
       "    <tr>\n",
       "      <th>75875</th>\n",
       "      <td>Positive</td>\n",
       "      <td>Biden</td>\n",
       "      <td>1</td>\n",
       "    </tr>\n",
       "    <tr>\n",
       "      <th>75876</th>\n",
       "      <td>Positive</td>\n",
       "      <td>Biden</td>\n",
       "      <td>1</td>\n",
       "    </tr>\n",
       "    <tr>\n",
       "      <th>75877</th>\n",
       "      <td>Positive</td>\n",
       "      <td>Biden</td>\n",
       "      <td>1</td>\n",
       "    </tr>\n",
       "    <tr>\n",
       "      <th>75878</th>\n",
       "      <td>Neutral</td>\n",
       "      <td>Biden</td>\n",
       "      <td>1</td>\n",
       "    </tr>\n",
       "  </tbody>\n",
       "</table>\n",
       "</div>"
      ],
      "text/plain": [
       "       analysis hashtag  count\n",
       "75874   Neutral   Biden      1\n",
       "75875  Positive   Biden      1\n",
       "75876  Positive   Biden      1\n",
       "75877  Positive   Biden      1\n",
       "75878   Neutral   Biden      1"
      ]
     },
     "execution_count": 57,
     "metadata": {},
     "output_type": "execute_result"
    }
   ],
   "source": [
    "biden_count.head()"
   ]
  },
  {
   "cell_type": "code",
   "execution_count": 58,
   "metadata": {},
   "outputs": [],
   "source": [
    "biden_count = biden_count.rename(columns = {'count': 'Biden_Count'}, inplace = False)\n",
    "trump_count = trump_count.rename(columns = {'count': 'Trump_Count'}, inplace = False)"
   ]
  },
  {
   "cell_type": "code",
   "execution_count": 59,
   "metadata": {},
   "outputs": [
    {
     "data": {
      "text/html": [
       "<div>\n",
       "<style scoped>\n",
       "    .dataframe tbody tr th:only-of-type {\n",
       "        vertical-align: middle;\n",
       "    }\n",
       "\n",
       "    .dataframe tbody tr th {\n",
       "        vertical-align: top;\n",
       "    }\n",
       "\n",
       "    .dataframe thead th {\n",
       "        text-align: right;\n",
       "    }\n",
       "</style>\n",
       "<table border=\"1\" class=\"dataframe\">\n",
       "  <thead>\n",
       "    <tr style=\"text-align: right;\">\n",
       "      <th></th>\n",
       "      <th>analysis</th>\n",
       "      <th>hashtag</th>\n",
       "      <th>Biden_Count</th>\n",
       "    </tr>\n",
       "  </thead>\n",
       "  <tbody>\n",
       "    <tr>\n",
       "      <th>75874</th>\n",
       "      <td>Neutral</td>\n",
       "      <td>Biden</td>\n",
       "      <td>1</td>\n",
       "    </tr>\n",
       "    <tr>\n",
       "      <th>75875</th>\n",
       "      <td>Positive</td>\n",
       "      <td>Biden</td>\n",
       "      <td>1</td>\n",
       "    </tr>\n",
       "    <tr>\n",
       "      <th>75876</th>\n",
       "      <td>Positive</td>\n",
       "      <td>Biden</td>\n",
       "      <td>1</td>\n",
       "    </tr>\n",
       "    <tr>\n",
       "      <th>75877</th>\n",
       "      <td>Positive</td>\n",
       "      <td>Biden</td>\n",
       "      <td>1</td>\n",
       "    </tr>\n",
       "    <tr>\n",
       "      <th>75878</th>\n",
       "      <td>Neutral</td>\n",
       "      <td>Biden</td>\n",
       "      <td>1</td>\n",
       "    </tr>\n",
       "  </tbody>\n",
       "</table>\n",
       "</div>"
      ],
      "text/plain": [
       "       analysis hashtag  Biden_Count\n",
       "75874   Neutral   Biden            1\n",
       "75875  Positive   Biden            1\n",
       "75876  Positive   Biden            1\n",
       "75877  Positive   Biden            1\n",
       "75878   Neutral   Biden            1"
      ]
     },
     "execution_count": 59,
     "metadata": {},
     "output_type": "execute_result"
    }
   ],
   "source": [
    "biden_count.head()"
   ]
  },
  {
   "cell_type": "code",
   "execution_count": 60,
   "metadata": {},
   "outputs": [],
   "source": [
    "biden_count = biden_count.groupby('analysis').count().reset_index()\n",
    "trump_count = trump_count.groupby('analysis').count().reset_index()"
   ]
  },
  {
   "cell_type": "code",
   "execution_count": 61,
   "metadata": {},
   "outputs": [],
   "source": [
    "biden_count = biden_count[['analysis', 'Biden_Count']]\n",
    "trump_count = trump_count[['analysis', 'Trump_Count']]"
   ]
  },
  {
   "cell_type": "code",
   "execution_count": 62,
   "metadata": {},
   "outputs": [
    {
     "data": {
      "text/html": [
       "<div>\n",
       "<style scoped>\n",
       "    .dataframe tbody tr th:only-of-type {\n",
       "        vertical-align: middle;\n",
       "    }\n",
       "\n",
       "    .dataframe tbody tr th {\n",
       "        vertical-align: top;\n",
       "    }\n",
       "\n",
       "    .dataframe thead th {\n",
       "        text-align: right;\n",
       "    }\n",
       "</style>\n",
       "<table border=\"1\" class=\"dataframe\">\n",
       "  <thead>\n",
       "    <tr style=\"text-align: right;\">\n",
       "      <th></th>\n",
       "      <th>analysis</th>\n",
       "      <th>Biden_Count</th>\n",
       "      <th>Trump_Count</th>\n",
       "    </tr>\n",
       "  </thead>\n",
       "  <tbody>\n",
       "    <tr>\n",
       "      <th>0</th>\n",
       "      <td>Negative</td>\n",
       "      <td>9762</td>\n",
       "      <td>17547</td>\n",
       "    </tr>\n",
       "    <tr>\n",
       "      <th>1</th>\n",
       "      <td>Neutral</td>\n",
       "      <td>29940</td>\n",
       "      <td>31606</td>\n",
       "    </tr>\n",
       "    <tr>\n",
       "      <th>2</th>\n",
       "      <td>Positive</td>\n",
       "      <td>26064</td>\n",
       "      <td>26721</td>\n",
       "    </tr>\n",
       "  </tbody>\n",
       "</table>\n",
       "</div>"
      ],
      "text/plain": [
       "   analysis  Biden_Count  Trump_Count\n",
       "0  Negative         9762        17547\n",
       "1   Neutral        29940        31606\n",
       "2  Positive        26064        26721"
      ]
     },
     "execution_count": 62,
     "metadata": {},
     "output_type": "execute_result"
    }
   ],
   "source": [
    "sent_count = pd.merge(biden_count, trump_count, on=\"analysis\", how=\"left\")\n",
    "sent_count"
   ]
  },
  {
   "cell_type": "code",
   "execution_count": 63,
   "metadata": {},
   "outputs": [],
   "source": [
    "sent_count = sent_count.reset_index(drop=True)"
   ]
  },
  {
   "cell_type": "code",
   "execution_count": 64,
   "metadata": {},
   "outputs": [
    {
     "data": {
      "text/html": [
       "<div>\n",
       "<style scoped>\n",
       "    .dataframe tbody tr th:only-of-type {\n",
       "        vertical-align: middle;\n",
       "    }\n",
       "\n",
       "    .dataframe tbody tr th {\n",
       "        vertical-align: top;\n",
       "    }\n",
       "\n",
       "    .dataframe thead th {\n",
       "        text-align: right;\n",
       "    }\n",
       "</style>\n",
       "<table border=\"1\" class=\"dataframe\">\n",
       "  <thead>\n",
       "    <tr style=\"text-align: right;\">\n",
       "      <th></th>\n",
       "      <th>analysis</th>\n",
       "      <th>Biden_Count</th>\n",
       "      <th>Trump_Count</th>\n",
       "    </tr>\n",
       "  </thead>\n",
       "  <tbody>\n",
       "    <tr>\n",
       "      <th>0</th>\n",
       "      <td>Negative</td>\n",
       "      <td>9762</td>\n",
       "      <td>17547</td>\n",
       "    </tr>\n",
       "    <tr>\n",
       "      <th>1</th>\n",
       "      <td>Neutral</td>\n",
       "      <td>29940</td>\n",
       "      <td>31606</td>\n",
       "    </tr>\n",
       "    <tr>\n",
       "      <th>2</th>\n",
       "      <td>Positive</td>\n",
       "      <td>26064</td>\n",
       "      <td>26721</td>\n",
       "    </tr>\n",
       "  </tbody>\n",
       "</table>\n",
       "</div>"
      ],
      "text/plain": [
       "   analysis  Biden_Count  Trump_Count\n",
       "0  Negative         9762        17547\n",
       "1   Neutral        29940        31606\n",
       "2  Positive        26064        26721"
      ]
     },
     "execution_count": 64,
     "metadata": {},
     "output_type": "execute_result"
    }
   ],
   "source": [
    "sent_count"
   ]
  },
  {
   "cell_type": "code",
   "execution_count": null,
   "metadata": {},
   "outputs": [],
   "source": []
  },
  {
   "cell_type": "code",
   "execution_count": 65,
   "metadata": {},
   "outputs": [],
   "source": [
    "\n",
    "sent_count = sent_count.reset_index(drop=True)"
   ]
  },
  {
   "cell_type": "code",
   "execution_count": 66,
   "metadata": {},
   "outputs": [],
   "source": [
    "sent_count.reset_index(inplace=True)\n",
    "sent_count = sent_count.rename(columns = {'index': 'count_id'}, inplace = False)"
   ]
  },
  {
   "cell_type": "code",
   "execution_count": 67,
   "metadata": {},
   "outputs": [
    {
     "data": {
      "text/html": [
       "<div>\n",
       "<style scoped>\n",
       "    .dataframe tbody tr th:only-of-type {\n",
       "        vertical-align: middle;\n",
       "    }\n",
       "\n",
       "    .dataframe tbody tr th {\n",
       "        vertical-align: top;\n",
       "    }\n",
       "\n",
       "    .dataframe thead th {\n",
       "        text-align: right;\n",
       "    }\n",
       "</style>\n",
       "<table border=\"1\" class=\"dataframe\">\n",
       "  <thead>\n",
       "    <tr style=\"text-align: right;\">\n",
       "      <th></th>\n",
       "      <th>count_id</th>\n",
       "      <th>analysis</th>\n",
       "      <th>Biden_Count</th>\n",
       "      <th>Trump_Count</th>\n",
       "    </tr>\n",
       "  </thead>\n",
       "  <tbody>\n",
       "    <tr>\n",
       "      <th>0</th>\n",
       "      <td>0</td>\n",
       "      <td>Negative</td>\n",
       "      <td>9762</td>\n",
       "      <td>17547</td>\n",
       "    </tr>\n",
       "    <tr>\n",
       "      <th>1</th>\n",
       "      <td>1</td>\n",
       "      <td>Neutral</td>\n",
       "      <td>29940</td>\n",
       "      <td>31606</td>\n",
       "    </tr>\n",
       "    <tr>\n",
       "      <th>2</th>\n",
       "      <td>2</td>\n",
       "      <td>Positive</td>\n",
       "      <td>26064</td>\n",
       "      <td>26721</td>\n",
       "    </tr>\n",
       "  </tbody>\n",
       "</table>\n",
       "</div>"
      ],
      "text/plain": [
       "   count_id  analysis  Biden_Count  Trump_Count\n",
       "0         0  Negative         9762        17547\n",
       "1         1   Neutral        29940        31606\n",
       "2         2  Positive        26064        26721"
      ]
     },
     "execution_count": 67,
     "metadata": {},
     "output_type": "execute_result"
    }
   ],
   "source": [
    "sent_count"
   ]
  },
  {
   "cell_type": "code",
   "execution_count": 68,
   "metadata": {},
   "outputs": [],
   "source": [
    "clean_df = clean_df[['id', 'created_at', 'tweet', 'likes', 'retweet_count', 'source', 'lat', 'long', 'city','state_code','hashtag', 'Date', 'Time', 'polarity', 'analysis']]"
   ]
  },
  {
   "cell_type": "code",
   "execution_count": 69,
   "metadata": {},
   "outputs": [
    {
     "data": {
      "text/html": [
       "<div>\n",
       "<style scoped>\n",
       "    .dataframe tbody tr th:only-of-type {\n",
       "        vertical-align: middle;\n",
       "    }\n",
       "\n",
       "    .dataframe tbody tr th {\n",
       "        vertical-align: top;\n",
       "    }\n",
       "\n",
       "    .dataframe thead th {\n",
       "        text-align: right;\n",
       "    }\n",
       "</style>\n",
       "<table border=\"1\" class=\"dataframe\">\n",
       "  <thead>\n",
       "    <tr style=\"text-align: right;\">\n",
       "      <th></th>\n",
       "      <th>id</th>\n",
       "      <th>created_at</th>\n",
       "      <th>tweet</th>\n",
       "      <th>likes</th>\n",
       "      <th>retweet_count</th>\n",
       "      <th>source</th>\n",
       "      <th>lat</th>\n",
       "      <th>long</th>\n",
       "      <th>city</th>\n",
       "      <th>state_code</th>\n",
       "      <th>hashtag</th>\n",
       "      <th>Date</th>\n",
       "      <th>Time</th>\n",
       "      <th>polarity</th>\n",
       "      <th>analysis</th>\n",
       "    </tr>\n",
       "  </thead>\n",
       "  <tbody>\n",
       "    <tr>\n",
       "      <th>0</th>\n",
       "      <td>0</td>\n",
       "      <td>2020-10-15 00:00:02</td>\n",
       "      <td>#Trump: As a student I used to hear for years,...</td>\n",
       "      <td>2.0</td>\n",
       "      <td>1.0</td>\n",
       "      <td>Twitter Web App</td>\n",
       "      <td>45.520247</td>\n",
       "      <td>-122.674195</td>\n",
       "      <td>Portland</td>\n",
       "      <td>OR</td>\n",
       "      <td>Trump</td>\n",
       "      <td>10/15/2020</td>\n",
       "      <td>00:00:02</td>\n",
       "      <td>0.333333</td>\n",
       "      <td>Positive</td>\n",
       "    </tr>\n",
       "    <tr>\n",
       "      <th>1</th>\n",
       "      <td>1</td>\n",
       "      <td>2020-10-15 00:00:08</td>\n",
       "      <td>You get a tie! And you get a tie! #Trump ‘s ra...</td>\n",
       "      <td>4.0</td>\n",
       "      <td>3.0</td>\n",
       "      <td>Twitter for iPhone</td>\n",
       "      <td>38.894992</td>\n",
       "      <td>-77.036558</td>\n",
       "      <td>Washington</td>\n",
       "      <td>DC</td>\n",
       "      <td>Trump</td>\n",
       "      <td>10/15/2020</td>\n",
       "      <td>00:00:08</td>\n",
       "      <td>0.000000</td>\n",
       "      <td>Neutral</td>\n",
       "    </tr>\n",
       "    <tr>\n",
       "      <th>2</th>\n",
       "      <td>2</td>\n",
       "      <td>2020-10-15 00:00:26</td>\n",
       "      <td>#Trump #PresidentTrump #Trump2020LandslideVict...</td>\n",
       "      <td>3.0</td>\n",
       "      <td>5.0</td>\n",
       "      <td>Twitter for Android</td>\n",
       "      <td>32.717421</td>\n",
       "      <td>-117.162771</td>\n",
       "      <td>San Diego</td>\n",
       "      <td>CA</td>\n",
       "      <td>Trump</td>\n",
       "      <td>10/15/2020</td>\n",
       "      <td>00:00:26</td>\n",
       "      <td>0.500000</td>\n",
       "      <td>Positive</td>\n",
       "    </tr>\n",
       "    <tr>\n",
       "      <th>3</th>\n",
       "      <td>3</td>\n",
       "      <td>2020-10-15 00:01:14</td>\n",
       "      <td>#Trump: Nobody likes to tell you this, but som...</td>\n",
       "      <td>1.0</td>\n",
       "      <td>1.0</td>\n",
       "      <td>Twitter Web App</td>\n",
       "      <td>45.520247</td>\n",
       "      <td>-122.674195</td>\n",
       "      <td>Portland</td>\n",
       "      <td>OR</td>\n",
       "      <td>Trump</td>\n",
       "      <td>10/15/2020</td>\n",
       "      <td>00:01:14</td>\n",
       "      <td>0.261905</td>\n",
       "      <td>Positive</td>\n",
       "    </tr>\n",
       "    <tr>\n",
       "      <th>4</th>\n",
       "      <td>4</td>\n",
       "      <td>2020-10-15 00:01:30</td>\n",
       "      <td>@karatblood @KazePlays_JC Grab @realDonaldTrum...</td>\n",
       "      <td>2.0</td>\n",
       "      <td>0.0</td>\n",
       "      <td>Twitter for iPhone</td>\n",
       "      <td>41.882823</td>\n",
       "      <td>-87.686307</td>\n",
       "      <td>Chicago</td>\n",
       "      <td>IL</td>\n",
       "      <td>Trump</td>\n",
       "      <td>10/15/2020</td>\n",
       "      <td>00:01:30</td>\n",
       "      <td>0.000000</td>\n",
       "      <td>Neutral</td>\n",
       "    </tr>\n",
       "  </tbody>\n",
       "</table>\n",
       "</div>"
      ],
      "text/plain": [
       "   id          created_at                                              tweet  \\\n",
       "0   0 2020-10-15 00:00:02  #Trump: As a student I used to hear for years,...   \n",
       "1   1 2020-10-15 00:00:08  You get a tie! And you get a tie! #Trump ‘s ra...   \n",
       "2   2 2020-10-15 00:00:26  #Trump #PresidentTrump #Trump2020LandslideVict...   \n",
       "3   3 2020-10-15 00:01:14  #Trump: Nobody likes to tell you this, but som...   \n",
       "4   4 2020-10-15 00:01:30  @karatblood @KazePlays_JC Grab @realDonaldTrum...   \n",
       "\n",
       "   likes  retweet_count               source        lat        long  \\\n",
       "0    2.0            1.0      Twitter Web App  45.520247 -122.674195   \n",
       "1    4.0            3.0   Twitter for iPhone  38.894992  -77.036558   \n",
       "2    3.0            5.0  Twitter for Android  32.717421 -117.162771   \n",
       "3    1.0            1.0      Twitter Web App  45.520247 -122.674195   \n",
       "4    2.0            0.0   Twitter for iPhone  41.882823  -87.686307   \n",
       "\n",
       "         city state_code hashtag        Date      Time  polarity  analysis  \n",
       "0    Portland         OR   Trump  10/15/2020  00:00:02  0.333333  Positive  \n",
       "1  Washington         DC   Trump  10/15/2020  00:00:08  0.000000   Neutral  \n",
       "2   San Diego         CA   Trump  10/15/2020  00:00:26  0.500000  Positive  \n",
       "3    Portland         OR   Trump  10/15/2020  00:01:14  0.261905  Positive  \n",
       "4     Chicago         IL   Trump  10/15/2020  00:01:30  0.000000   Neutral  "
      ]
     },
     "execution_count": 69,
     "metadata": {},
     "output_type": "execute_result"
    }
   ],
   "source": [
    "clean_df.head()"
   ]
  },
  {
   "cell_type": "code",
   "execution_count": 70,
   "metadata": {},
   "outputs": [
    {
     "name": "stdout",
     "output_type": "stream",
     "text": [
      "2021-02-10 17:13:23,480 INFO sqlalchemy.engine.base.Engine PRAGMA main.table_info(\"tweet_counts\")\n",
      "2021-02-10 17:13:23,481 INFO sqlalchemy.engine.base.Engine ()\n",
      "2021-02-10 17:13:23,578 INFO sqlalchemy.engine.base.Engine BEGIN (implicit)\n",
      "2021-02-10 17:13:25,336 INFO sqlalchemy.engine.base.Engine INSERT INTO tweet_counts (id, created_at, tweet, likes, retweet_count, source, lat, long, city, state_code, hashtag, \"Date\", \"Time\", polarity, analysis) VALUES (?, ?, ?, ?, ?, ?, ?, ?, ?, ?, ?, ?, ?, ?, ?)\n",
      "2021-02-10 17:13:25,336 INFO sqlalchemy.engine.base.Engine ((0, '2020-10-15 00:00:02.000000', \"#Trump: As a student I used to hear for years, for ten years, I heard China! In 2019! And we have 1.5 and they don't know how many we have and I asked them how many do we have and they said 'sir we don't know.' But we have millions. Like 300 million.\\n\\nUm. What?\", 2.0, 1.0, 'Twitter Web App', 45.5202471, -122.6741949, 'Portland', 'OR', 'Trump', '10/15/2020', '00:00:02', 0.3333333333333333, 'Positive'), (1, '2020-10-15 00:00:08.000000', 'You get a tie! And you get a tie! #Trump ‘s rally #Iowa https://t.co/jJalUUmh5D', 4.0, 3.0, 'Twitter for iPhone', 38.8949924, -77.0365581, 'Washington', 'DC', 'Trump', '10/15/2020', '00:00:08', 0.0, 'Neutral'), (2, '2020-10-15 00:00:26.000000', '#Trump #PresidentTrump #Trump2020LandslideVictory #Trump2020 #MAGA #KAG #4MoreYears #America #AmericaFirst #AllLivesMatter #Winning #Vote #VoteInPerson #VoteTrump #VotePresidentTrump https://t.co/TzXBKOvgNs', 3.0, 5.0, 'Twitter for Android', 32.7174209, -117.1627714, 'San Diego', 'CA', 'Trump', '10/15/2020', '00:00:26', 0.5, 'Positive'), (3, '2020-10-15 00:01:14.000000', \"#Trump: Nobody likes to tell you this, but some of the farmers were doing better the way I was doing it than they were by working their asses off.\\n\\nAnd that check? It's totally in the mail, right Don?\", 1.0, 1.0, 'Twitter Web App', 45.5202471, -122.6741949, 'Portland', 'OR', 'Trump', '10/15/2020', '00:01:14', 0.2619047619047619, 'Positive'), (4, '2020-10-15 00:01:30.000000', '@karatblood @KazePlays_JC Grab @realDonaldTrump by the balls &amp; chuck the bastard out the door onto #PennsylvaniaAvenue &amp; form a line &amp; everybody gets to kick #DonaldTrump in the nuts! Please note 1 kick per person only! #BidenHarrisToSaveAmerica #VoteBlueToSaveOurDemocracy', 2.0, 0.0, 'Twitter for iPhone', 41.8828229, -87.686307, 'Chicago', 'IL', 'Trump', '10/15/2020', '00:01:30', 0.0, 'Neutral'), (5, '2020-10-15 00:01:44.000000', 'Who does #trump owe 420 million dollars to? What are the terms? Who is #DonaldTrump beholden to? WE DEMAND TO KNOW!\\n#TrumpIsANationalSecurityRisk \\n#FollowTheMoney \\n#TrumpTaxCheat \\n#TrumpTaxFraud', 1.0, 0.0, 'Twitter Web App', 41.87556160000001, -87.6244212, 'Chicago', 'IL', 'Trump', '10/15/2020', '00:01:44', 0.0, 'Neutral'), (6, '2020-10-15 00:01:53.000000', '#TheWeek: \"#Trump in Penn: \"I saved suburbia. I got rid of a regulation that was a disaster and it was really unfair and it\\'s gotten a lot worse und ... (5 characters truncated) ... ama and Biden. You damn well better vote for me Pennsylvania, you better vote.\" But he never did identify the \\'regulation.\\' https://t.co/7CX0PBJ2hA', 0.0, 0.0, 'Twitter Web App', 34.148398900000004, -118.3961877, 'Los Angeles', 'CA', 'Trump', '10/15/2020', '00:01:53', 0.024999999999999994, 'Positive'), (7, '2020-10-15 00:01:53.000000', \"#TheReidOut \\n\\nAm I suppose to feel badly for @OMAROSA? Isn't she the person who once claimed #Trump critics would have to bow at the feet of Donald? Sorry the snakes deserve one another. \\n\\n@JoyAnnReid\", 2.0, 0.0, 'Twitter for Android', 38.8949924, -77.0365581, 'Washington', 'DC', 'Trump', '10/15/2020', '00:01:53', -0.5999999999999999, 'Negative')  ... displaying 10 of 141640 total bound parameter sets ...  (141638, '2020-11-08 23:56:21.000000', 'You moving near #Biden 🤔 https://t.co/1F6i1YIJ2P', 0.0, 0.0, 'Twitter for iPhone', 39.9527237, -75.16352619999998, 'Philadelphia', 'PA', 'Biden', '11/08/2020', '23:56:21', 0.1, 'Positive'), (141639, '2020-11-08 23:58:24.000000', '@FLOTUS I’m excited to have a FLOTUS whose vagina I haven’t seen on twitter... #biden', 0.0, 0.0, 'Twitter for iPhone', 38.8949924, -77.0365581, 'Washington', 'DC', 'Biden', '11/08/2020', '23:58:24', 0.375, 'Positive'))\n",
      "2021-02-10 17:13:26,044 INFO sqlalchemy.engine.base.Engine COMMIT\n"
     ]
    }
   ],
   "source": [
    "clean_df.to_sql(\"tweet_counts\", conn, if_exists=\"append\", index=False)\n"
   ]
  },
  {
   "cell_type": "code",
   "execution_count": 71,
   "metadata": {},
   "outputs": [
    {
     "name": "stdout",
     "output_type": "stream",
     "text": [
      "2021-02-10 17:13:26,963 INFO sqlalchemy.engine.base.Engine PRAGMA main.table_info(\"state_avg\")\n",
      "2021-02-10 17:13:26,964 INFO sqlalchemy.engine.base.Engine ()\n",
      "2021-02-10 17:13:26,965 INFO sqlalchemy.engine.base.Engine BEGIN (implicit)\n",
      "2021-02-10 17:13:26,966 INFO sqlalchemy.engine.base.Engine INSERT INTO state_avg (state_code, \"BidenAvg\", \"TrumpAvg\") VALUES (?, ?, ?)\n",
      "2021-02-10 17:13:26,967 INFO sqlalchemy.engine.base.Engine (('CA', 0.09939159968131162, 0.03702110671525558), ('NY', 0.10344838032552992, 0.04155397075305936), ('MN', 0.08395119478640736, 0.013977221125006377), ('IN', 0.11579950574302984, -0.008091308210297927), ('FL', 0.10446779222602395, 0.047393137851233266), ('WA', 0.08308876586170412, 0.03924344947931256), ('GA', 0.09758913543872866, 0.05624893096485214), ('AZ', 0.09465267623280446, 0.043020462933770896)  ... displaying 10 of 52 total bound parameter sets ...  ('ME', 0.1, 0.03662743506493507), ('WY', 0.12272727272727273, 0.05391143578643579))\n",
      "2021-02-10 17:13:26,968 INFO sqlalchemy.engine.base.Engine COMMIT\n"
     ]
    }
   ],
   "source": [
    "state_avg.to_sql(\"state_avg\", conn, if_exists=\"append\", index=False)"
   ]
  },
  {
   "cell_type": "code",
   "execution_count": 72,
   "metadata": {},
   "outputs": [
    {
     "name": "stdout",
     "output_type": "stream",
     "text": [
      "2021-02-10 17:13:26,994 INFO sqlalchemy.engine.base.Engine PRAGMA main.table_info(\"time_avg\")\n",
      "2021-02-10 17:13:26,995 INFO sqlalchemy.engine.base.Engine ()\n",
      "2021-02-10 17:13:26,997 INFO sqlalchemy.engine.base.Engine BEGIN (implicit)\n",
      "2021-02-10 17:13:26,998 INFO sqlalchemy.engine.base.Engine INSERT INTO time_avg (\"Date\", \"BidenAvg\", \"TrumpAvg\") VALUES (?, ?, ?)\n",
      "2021-02-10 17:13:26,999 INFO sqlalchemy.engine.base.Engine (('10/15/2020', 0.06067589120651807, 0.02518750876489242), ('10/16/2020', 0.09855521471410528, 0.03467861474195017), ('10/17/2020', 0.09714979183628335, 0.023843874844916485), ('10/18/2020', 0.061264448963361626, 0.024387091832695898), ('10/19/2020', 0.0667239491199359, 0.03491276811243676), ('10/20/2020', 0.06297745488287522, 0.02892980267507632), ('10/21/2020', 0.08749802847988328, 0.0347671114104597), ('10/22/2020', 0.07153124951654775, 0.03273767311827945)  ... displaying 10 of 25 total bound parameter sets ...  ('11/07/2020', 0.14033738088831127, 0.046316710071235334), ('11/08/2020', 0.15696417185384437, 0.050429245524864344))\n",
      "2021-02-10 17:13:27,000 INFO sqlalchemy.engine.base.Engine COMMIT\n"
     ]
    }
   ],
   "source": [
    "time_avg.to_sql(\"time_avg\", conn, if_exists=\"append\", index=False)"
   ]
  },
  {
   "cell_type": "code",
   "execution_count": 73,
   "metadata": {},
   "outputs": [
    {
     "name": "stdout",
     "output_type": "stream",
     "text": [
      "2021-02-10 17:13:27,009 INFO sqlalchemy.engine.base.Engine PRAGMA main.table_info(\"sent_count\")\n",
      "2021-02-10 17:13:27,010 INFO sqlalchemy.engine.base.Engine ()\n",
      "2021-02-10 17:13:27,011 INFO sqlalchemy.engine.base.Engine BEGIN (implicit)\n",
      "2021-02-10 17:13:27,012 INFO sqlalchemy.engine.base.Engine INSERT INTO sent_count (count_id, analysis, \"Biden_Count\", \"Trump_Count\") VALUES (?, ?, ?, ?)\n",
      "2021-02-10 17:13:27,013 INFO sqlalchemy.engine.base.Engine ((0, 'Negative', 9762, 17547), (1, 'Neutral', 29940, 31606), (2, 'Positive', 26064, 26721))\n",
      "2021-02-10 17:13:27,015 INFO sqlalchemy.engine.base.Engine COMMIT\n"
     ]
    }
   ],
   "source": [
    "sent_count.to_sql(\"sent_count\", conn, if_exists=\"append\", index=False)"
   ]
  },
  {
   "cell_type": "markdown",
   "metadata": {},
   "source": [
    "# Buckley's Code"
   ]
  },
  {
   "cell_type": "code",
   "execution_count": 76,
   "metadata": {},
   "outputs": [
    {
     "data": {
      "text/html": [
       "<div>\n",
       "<style scoped>\n",
       "    .dataframe tbody tr th:only-of-type {\n",
       "        vertical-align: middle;\n",
       "    }\n",
       "\n",
       "    .dataframe tbody tr th {\n",
       "        vertical-align: top;\n",
       "    }\n",
       "\n",
       "    .dataframe thead th {\n",
       "        text-align: right;\n",
       "    }\n",
       "</style>\n",
       "<table border=\"1\" class=\"dataframe\">\n",
       "  <thead>\n",
       "    <tr style=\"text-align: right;\">\n",
       "      <th></th>\n",
       "      <th>created_at</th>\n",
       "      <th>tweet_id</th>\n",
       "      <th>tweet</th>\n",
       "      <th>likes</th>\n",
       "      <th>retweet_count</th>\n",
       "      <th>source</th>\n",
       "      <th>user_id</th>\n",
       "      <th>user_name</th>\n",
       "      <th>user_screen_name</th>\n",
       "      <th>user_description</th>\n",
       "      <th>...</th>\n",
       "      <th>user_location</th>\n",
       "      <th>lat</th>\n",
       "      <th>long</th>\n",
       "      <th>city</th>\n",
       "      <th>country</th>\n",
       "      <th>continent</th>\n",
       "      <th>state</th>\n",
       "      <th>state_code</th>\n",
       "      <th>collected_at</th>\n",
       "      <th>hashtag</th>\n",
       "    </tr>\n",
       "  </thead>\n",
       "  <tbody>\n",
       "    <tr>\n",
       "      <th>0</th>\n",
       "      <td>2020-10-15 00:00:01</td>\n",
       "      <td>1.316529e+18</td>\n",
       "      <td>#Elecciones2020 | En #Florida: #JoeBiden dice ...</td>\n",
       "      <td>0.0</td>\n",
       "      <td>0.0</td>\n",
       "      <td>TweetDeck</td>\n",
       "      <td>3.606665e+08</td>\n",
       "      <td>El Sol Latino News</td>\n",
       "      <td>elsollatinonews</td>\n",
       "      <td>🌐 Noticias de interés para latinos de la costa...</td>\n",
       "      <td>...</td>\n",
       "      <td>Philadelphia, PA / Miami, FL</td>\n",
       "      <td>25.774270</td>\n",
       "      <td>-80.193660</td>\n",
       "      <td>NaN</td>\n",
       "      <td>United States of America</td>\n",
       "      <td>North America</td>\n",
       "      <td>Florida</td>\n",
       "      <td>FL</td>\n",
       "      <td>2020-10-21 00:00:00</td>\n",
       "      <td>Trump</td>\n",
       "    </tr>\n",
       "    <tr>\n",
       "      <th>1</th>\n",
       "      <td>2020-10-15 00:00:01</td>\n",
       "      <td>1.316529e+18</td>\n",
       "      <td>Usa 2020, Trump contro Facebook e Twitter: cop...</td>\n",
       "      <td>26.0</td>\n",
       "      <td>9.0</td>\n",
       "      <td>Social Mediaset</td>\n",
       "      <td>3.316176e+08</td>\n",
       "      <td>Tgcom24</td>\n",
       "      <td>MediasetTgcom24</td>\n",
       "      <td>Profilo ufficiale di Tgcom24: tutte le notizie...</td>\n",
       "      <td>...</td>\n",
       "      <td>NaN</td>\n",
       "      <td>NaN</td>\n",
       "      <td>NaN</td>\n",
       "      <td>NaN</td>\n",
       "      <td>NaN</td>\n",
       "      <td>NaN</td>\n",
       "      <td>NaN</td>\n",
       "      <td>NaN</td>\n",
       "      <td>2020-10-21 00:00:00.373216530</td>\n",
       "      <td>Trump</td>\n",
       "    </tr>\n",
       "    <tr>\n",
       "      <th>2</th>\n",
       "      <td>2020-10-15 00:00:02</td>\n",
       "      <td>1.316529e+18</td>\n",
       "      <td>#Trump: As a student I used to hear for years,...</td>\n",
       "      <td>2.0</td>\n",
       "      <td>1.0</td>\n",
       "      <td>Twitter Web App</td>\n",
       "      <td>8.436472e+06</td>\n",
       "      <td>snarke</td>\n",
       "      <td>snarke</td>\n",
       "      <td>Will mock for food! Freelance writer, blogger,...</td>\n",
       "      <td>...</td>\n",
       "      <td>Portland</td>\n",
       "      <td>45.520247</td>\n",
       "      <td>-122.674195</td>\n",
       "      <td>Portland</td>\n",
       "      <td>United States of America</td>\n",
       "      <td>North America</td>\n",
       "      <td>Oregon</td>\n",
       "      <td>OR</td>\n",
       "      <td>2020-10-21 00:00:00.746433060</td>\n",
       "      <td>Trump</td>\n",
       "    </tr>\n",
       "    <tr>\n",
       "      <th>3</th>\n",
       "      <td>2020-10-15 00:00:02</td>\n",
       "      <td>1.316529e+18</td>\n",
       "      <td>2 hours since last tweet from #Trump! Maybe he...</td>\n",
       "      <td>0.0</td>\n",
       "      <td>0.0</td>\n",
       "      <td>Trumpytweeter</td>\n",
       "      <td>8.283556e+17</td>\n",
       "      <td>Trumpytweeter</td>\n",
       "      <td>trumpytweeter</td>\n",
       "      <td>If he doesn't tweet for some time, should we b...</td>\n",
       "      <td>...</td>\n",
       "      <td>NaN</td>\n",
       "      <td>NaN</td>\n",
       "      <td>NaN</td>\n",
       "      <td>NaN</td>\n",
       "      <td>NaN</td>\n",
       "      <td>NaN</td>\n",
       "      <td>NaN</td>\n",
       "      <td>NaN</td>\n",
       "      <td>2020-10-21 00:00:01.119649591</td>\n",
       "      <td>Trump</td>\n",
       "    </tr>\n",
       "    <tr>\n",
       "      <th>4</th>\n",
       "      <td>2020-10-15 00:00:08</td>\n",
       "      <td>1.316529e+18</td>\n",
       "      <td>You get a tie! And you get a tie! #Trump ‘s ra...</td>\n",
       "      <td>4.0</td>\n",
       "      <td>3.0</td>\n",
       "      <td>Twitter for iPhone</td>\n",
       "      <td>4.741380e+07</td>\n",
       "      <td>Rana Abtar - رنا أبتر</td>\n",
       "      <td>Ranaabtar</td>\n",
       "      <td>Washington Correspondent, Lebanese-American ,c...</td>\n",
       "      <td>...</td>\n",
       "      <td>Washington DC</td>\n",
       "      <td>38.894992</td>\n",
       "      <td>-77.036558</td>\n",
       "      <td>Washington</td>\n",
       "      <td>United States of America</td>\n",
       "      <td>North America</td>\n",
       "      <td>District of Columbia</td>\n",
       "      <td>DC</td>\n",
       "      <td>2020-10-21 00:00:01.492866121</td>\n",
       "      <td>Trump</td>\n",
       "    </tr>\n",
       "    <tr>\n",
       "      <th>...</th>\n",
       "      <td>...</td>\n",
       "      <td>...</td>\n",
       "      <td>...</td>\n",
       "      <td>...</td>\n",
       "      <td>...</td>\n",
       "      <td>...</td>\n",
       "      <td>...</td>\n",
       "      <td>...</td>\n",
       "      <td>...</td>\n",
       "      <td>...</td>\n",
       "      <td>...</td>\n",
       "      <td>...</td>\n",
       "      <td>...</td>\n",
       "      <td>...</td>\n",
       "      <td>...</td>\n",
       "      <td>...</td>\n",
       "      <td>...</td>\n",
       "      <td>...</td>\n",
       "      <td>...</td>\n",
       "      <td>...</td>\n",
       "      <td>...</td>\n",
       "    </tr>\n",
       "    <tr>\n",
       "      <th>970915</th>\n",
       "      <td>2020-11-08 23:59:48</td>\n",
       "      <td>1.325589e+18</td>\n",
       "      <td>JOE BIDEN WHY JOE BIDEN DID WINNED ?? TRUMP TR...</td>\n",
       "      <td>4.0</td>\n",
       "      <td>0.0</td>\n",
       "      <td>Twitter Web App</td>\n",
       "      <td>3.245258e+09</td>\n",
       "      <td>ahzy</td>\n",
       "      <td>ahhhzy</td>\n",
       "      <td>NaN</td>\n",
       "      <td>...</td>\n",
       "      <td>NaN</td>\n",
       "      <td>NaN</td>\n",
       "      <td>NaN</td>\n",
       "      <td>NaN</td>\n",
       "      <td>NaN</td>\n",
       "      <td>NaN</td>\n",
       "      <td>NaN</td>\n",
       "      <td>NaN</td>\n",
       "      <td>2020-11-09 17:47:55.715870</td>\n",
       "      <td>Trump</td>\n",
       "    </tr>\n",
       "    <tr>\n",
       "      <th>970916</th>\n",
       "      <td>2020-11-08 23:59:53</td>\n",
       "      <td>1.325589e+18</td>\n",
       "      <td>#AfD|ler reagieren panisch bis hysterisch auf ...</td>\n",
       "      <td>25.0</td>\n",
       "      <td>4.0</td>\n",
       "      <td>Twitter Web App</td>\n",
       "      <td>9.866108e+17</td>\n",
       "      <td>watchdog</td>\n",
       "      <td>wilke_tobias</td>\n",
       "      <td>Quis custodiet ipsos custodes?\\n\\nTV Journalis...</td>\n",
       "      <td>...</td>\n",
       "      <td>Saxony/GER</td>\n",
       "      <td>NaN</td>\n",
       "      <td>NaN</td>\n",
       "      <td>NaN</td>\n",
       "      <td>NaN</td>\n",
       "      <td>NaN</td>\n",
       "      <td>NaN</td>\n",
       "      <td>NaN</td>\n",
       "      <td>2020-11-09 17:47:55.975868</td>\n",
       "      <td>Trump</td>\n",
       "    </tr>\n",
       "    <tr>\n",
       "      <th>970917</th>\n",
       "      <td>2020-11-08 23:59:54</td>\n",
       "      <td>1.325589e+18</td>\n",
       "      <td>@sammelbis1998 @iheartmindy @bnorthg First, yo...</td>\n",
       "      <td>0.0</td>\n",
       "      <td>0.0</td>\n",
       "      <td>Twitter for iPad</td>\n",
       "      <td>7.687811e+08</td>\n",
       "      <td>Debra</td>\n",
       "      <td>drdeblk</td>\n",
       "      <td>MD. Autism specialist. Film lover. #DumpTrump2020</td>\n",
       "      <td>...</td>\n",
       "      <td>NaN</td>\n",
       "      <td>NaN</td>\n",
       "      <td>NaN</td>\n",
       "      <td>NaN</td>\n",
       "      <td>NaN</td>\n",
       "      <td>NaN</td>\n",
       "      <td>NaN</td>\n",
       "      <td>NaN</td>\n",
       "      <td>2020-11-09 17:47:56.012674</td>\n",
       "      <td>Trump</td>\n",
       "    </tr>\n",
       "    <tr>\n",
       "      <th>970918</th>\n",
       "      <td>2020-11-08 23:59:55</td>\n",
       "      <td>1.325589e+18</td>\n",
       "      <td>OK just had to do it !\\n#Trump #CatapultTrump ...</td>\n",
       "      <td>105.0</td>\n",
       "      <td>28.0</td>\n",
       "      <td>Twitter Web App</td>\n",
       "      <td>4.519791e+08</td>\n",
       "      <td>Dunken K Bliths</td>\n",
       "      <td>DunkenKBliths</td>\n",
       "      <td>\"Tesla owner's will be followed back\"\\n\\n#Mach...</td>\n",
       "      <td>...</td>\n",
       "      <td>✔ Official Twitter Account</td>\n",
       "      <td>NaN</td>\n",
       "      <td>NaN</td>\n",
       "      <td>NaN</td>\n",
       "      <td>NaN</td>\n",
       "      <td>NaN</td>\n",
       "      <td>NaN</td>\n",
       "      <td>NaN</td>\n",
       "      <td>2020-11-09 17:47:55.807500</td>\n",
       "      <td>Trump</td>\n",
       "    </tr>\n",
       "    <tr>\n",
       "      <th>922910</th>\n",
       "      <td>2020-11-08 23:59:56</td>\n",
       "      <td>1.325589e+18</td>\n",
       "      <td>@nbcbayarea Who doesn’t like dogs or any kind ...</td>\n",
       "      <td>1.0</td>\n",
       "      <td>1.0</td>\n",
       "      <td>Twitter for iPhone</td>\n",
       "      <td>1.182639e+08</td>\n",
       "      <td>Dianna Maria</td>\n",
       "      <td>DiannaMaria</td>\n",
       "      <td>~ I am a very proud mom of a sweet, kind and c...</td>\n",
       "      <td>...</td>\n",
       "      <td>United States</td>\n",
       "      <td>39.783730</td>\n",
       "      <td>-100.445882</td>\n",
       "      <td>NaN</td>\n",
       "      <td>United States</td>\n",
       "      <td>North America</td>\n",
       "      <td>NaN</td>\n",
       "      <td>NaN</td>\n",
       "      <td>2020-11-09 17:46:06.939099</td>\n",
       "      <td>Trump</td>\n",
       "    </tr>\n",
       "  </tbody>\n",
       "</table>\n",
       "<p>970919 rows × 22 columns</p>\n",
       "</div>"
      ],
      "text/plain": [
       "                 created_at      tweet_id  \\\n",
       "0       2020-10-15 00:00:01  1.316529e+18   \n",
       "1       2020-10-15 00:00:01  1.316529e+18   \n",
       "2       2020-10-15 00:00:02  1.316529e+18   \n",
       "3       2020-10-15 00:00:02  1.316529e+18   \n",
       "4       2020-10-15 00:00:08  1.316529e+18   \n",
       "...                     ...           ...   \n",
       "970915  2020-11-08 23:59:48  1.325589e+18   \n",
       "970916  2020-11-08 23:59:53  1.325589e+18   \n",
       "970917  2020-11-08 23:59:54  1.325589e+18   \n",
       "970918  2020-11-08 23:59:55  1.325589e+18   \n",
       "922910  2020-11-08 23:59:56  1.325589e+18   \n",
       "\n",
       "                                                    tweet  likes  \\\n",
       "0       #Elecciones2020 | En #Florida: #JoeBiden dice ...    0.0   \n",
       "1       Usa 2020, Trump contro Facebook e Twitter: cop...   26.0   \n",
       "2       #Trump: As a student I used to hear for years,...    2.0   \n",
       "3       2 hours since last tweet from #Trump! Maybe he...    0.0   \n",
       "4       You get a tie! And you get a tie! #Trump ‘s ra...    4.0   \n",
       "...                                                   ...    ...   \n",
       "970915  JOE BIDEN WHY JOE BIDEN DID WINNED ?? TRUMP TR...    4.0   \n",
       "970916  #AfD|ler reagieren panisch bis hysterisch auf ...   25.0   \n",
       "970917  @sammelbis1998 @iheartmindy @bnorthg First, yo...    0.0   \n",
       "970918  OK just had to do it !\\n#Trump #CatapultTrump ...  105.0   \n",
       "922910  @nbcbayarea Who doesn’t like dogs or any kind ...    1.0   \n",
       "\n",
       "        retweet_count              source       user_id  \\\n",
       "0                 0.0           TweetDeck  3.606665e+08   \n",
       "1                 9.0    Social Mediaset   3.316176e+08   \n",
       "2                 1.0     Twitter Web App  8.436472e+06   \n",
       "3                 0.0       Trumpytweeter  8.283556e+17   \n",
       "4                 3.0  Twitter for iPhone  4.741380e+07   \n",
       "...               ...                 ...           ...   \n",
       "970915            0.0     Twitter Web App  3.245258e+09   \n",
       "970916            4.0     Twitter Web App  9.866108e+17   \n",
       "970917            0.0    Twitter for iPad  7.687811e+08   \n",
       "970918           28.0     Twitter Web App  4.519791e+08   \n",
       "922910            1.0  Twitter for iPhone  1.182639e+08   \n",
       "\n",
       "                    user_name user_screen_name  \\\n",
       "0          El Sol Latino News  elsollatinonews   \n",
       "1                     Tgcom24  MediasetTgcom24   \n",
       "2                      snarke           snarke   \n",
       "3               Trumpytweeter    trumpytweeter   \n",
       "4       Rana Abtar - رنا أبتر        Ranaabtar   \n",
       "...                       ...              ...   \n",
       "970915                   ahzy           ahhhzy   \n",
       "970916               watchdog     wilke_tobias   \n",
       "970917                  Debra          drdeblk   \n",
       "970918        Dunken K Bliths    DunkenKBliths   \n",
       "922910           Dianna Maria      DiannaMaria   \n",
       "\n",
       "                                         user_description  ...  \\\n",
       "0       🌐 Noticias de interés para latinos de la costa...  ...   \n",
       "1       Profilo ufficiale di Tgcom24: tutte le notizie...  ...   \n",
       "2       Will mock for food! Freelance writer, blogger,...  ...   \n",
       "3       If he doesn't tweet for some time, should we b...  ...   \n",
       "4       Washington Correspondent, Lebanese-American ,c...  ...   \n",
       "...                                                   ...  ...   \n",
       "970915                                                NaN  ...   \n",
       "970916  Quis custodiet ipsos custodes?\\n\\nTV Journalis...  ...   \n",
       "970917  MD. Autism specialist. Film lover. #DumpTrump2020  ...   \n",
       "970918  \"Tesla owner's will be followed back\"\\n\\n#Mach...  ...   \n",
       "922910  ~ I am a very proud mom of a sweet, kind and c...  ...   \n",
       "\n",
       "                       user_location        lat        long        city  \\\n",
       "0       Philadelphia, PA / Miami, FL  25.774270  -80.193660         NaN   \n",
       "1                                NaN        NaN         NaN         NaN   \n",
       "2                           Portland  45.520247 -122.674195    Portland   \n",
       "3                                NaN        NaN         NaN         NaN   \n",
       "4                      Washington DC  38.894992  -77.036558  Washington   \n",
       "...                              ...        ...         ...         ...   \n",
       "970915                           NaN        NaN         NaN         NaN   \n",
       "970916                    Saxony/GER        NaN         NaN         NaN   \n",
       "970917                           NaN        NaN         NaN         NaN   \n",
       "970918    ✔ Official Twitter Account        NaN         NaN         NaN   \n",
       "922910                 United States  39.783730 -100.445882         NaN   \n",
       "\n",
       "                         country      continent                 state  \\\n",
       "0       United States of America  North America               Florida   \n",
       "1                            NaN            NaN                   NaN   \n",
       "2       United States of America  North America                Oregon   \n",
       "3                            NaN            NaN                   NaN   \n",
       "4       United States of America  North America  District of Columbia   \n",
       "...                          ...            ...                   ...   \n",
       "970915                       NaN            NaN                   NaN   \n",
       "970916                       NaN            NaN                   NaN   \n",
       "970917                       NaN            NaN                   NaN   \n",
       "970918                       NaN            NaN                   NaN   \n",
       "922910             United States  North America                   NaN   \n",
       "\n",
       "       state_code                   collected_at hashtag  \n",
       "0              FL            2020-10-21 00:00:00   Trump  \n",
       "1             NaN  2020-10-21 00:00:00.373216530   Trump  \n",
       "2              OR  2020-10-21 00:00:00.746433060   Trump  \n",
       "3             NaN  2020-10-21 00:00:01.119649591   Trump  \n",
       "4              DC  2020-10-21 00:00:01.492866121   Trump  \n",
       "...           ...                            ...     ...  \n",
       "970915        NaN     2020-11-09 17:47:55.715870   Trump  \n",
       "970916        NaN     2020-11-09 17:47:55.975868   Trump  \n",
       "970917        NaN     2020-11-09 17:47:56.012674   Trump  \n",
       "970918        NaN     2020-11-09 17:47:55.807500   Trump  \n",
       "922910        NaN     2020-11-09 17:46:06.939099   Trump  \n",
       "\n",
       "[970919 rows x 22 columns]"
      ]
     },
     "execution_count": 76,
     "metadata": {},
     "output_type": "execute_result"
    }
   ],
   "source": [
    "trump_data_df.sort_values(by = 'created_at')"
   ]
  },
  {
   "cell_type": "code",
   "execution_count": 77,
   "metadata": {},
   "outputs": [
    {
     "data": {
      "text/html": [
       "<div>\n",
       "<style scoped>\n",
       "    .dataframe tbody tr th:only-of-type {\n",
       "        vertical-align: middle;\n",
       "    }\n",
       "\n",
       "    .dataframe tbody tr th {\n",
       "        vertical-align: top;\n",
       "    }\n",
       "\n",
       "    .dataframe thead th {\n",
       "        text-align: right;\n",
       "    }\n",
       "</style>\n",
       "<table border=\"1\" class=\"dataframe\">\n",
       "  <thead>\n",
       "    <tr style=\"text-align: right;\">\n",
       "      <th></th>\n",
       "      <th>created_at</th>\n",
       "      <th>tweet_id</th>\n",
       "      <th>tweet</th>\n",
       "      <th>likes</th>\n",
       "      <th>retweet_count</th>\n",
       "      <th>source</th>\n",
       "      <th>user_id</th>\n",
       "      <th>user_name</th>\n",
       "      <th>user_screen_name</th>\n",
       "      <th>user_description</th>\n",
       "      <th>...</th>\n",
       "      <th>user_location</th>\n",
       "      <th>lat</th>\n",
       "      <th>long</th>\n",
       "      <th>city</th>\n",
       "      <th>country</th>\n",
       "      <th>continent</th>\n",
       "      <th>state</th>\n",
       "      <th>state_code</th>\n",
       "      <th>collected_at</th>\n",
       "      <th>hashtag</th>\n",
       "    </tr>\n",
       "  </thead>\n",
       "  <tbody>\n",
       "    <tr>\n",
       "      <th>0</th>\n",
       "      <td>2020-10-15 00:00:01</td>\n",
       "      <td>1.316529e+18</td>\n",
       "      <td>#Elecciones2020 | En #Florida: #JoeBiden dice ...</td>\n",
       "      <td>0.0</td>\n",
       "      <td>0.0</td>\n",
       "      <td>TweetDeck</td>\n",
       "      <td>3.606665e+08</td>\n",
       "      <td>El Sol Latino News</td>\n",
       "      <td>elsollatinonews</td>\n",
       "      <td>🌐 Noticias de interés para latinos de la costa...</td>\n",
       "      <td>...</td>\n",
       "      <td>Philadelphia, PA / Miami, FL</td>\n",
       "      <td>25.774270</td>\n",
       "      <td>-80.193660</td>\n",
       "      <td>NaN</td>\n",
       "      <td>United States of America</td>\n",
       "      <td>North America</td>\n",
       "      <td>Florida</td>\n",
       "      <td>FL</td>\n",
       "      <td>2020-10-21 00:00:00</td>\n",
       "      <td>Biden</td>\n",
       "    </tr>\n",
       "    <tr>\n",
       "      <th>1</th>\n",
       "      <td>2020-10-15 00:00:18</td>\n",
       "      <td>1.316529e+18</td>\n",
       "      <td>#HunterBiden #HunterBidenEmails #JoeBiden #Joe...</td>\n",
       "      <td>0.0</td>\n",
       "      <td>0.0</td>\n",
       "      <td>Twitter for iPad</td>\n",
       "      <td>8.099044e+08</td>\n",
       "      <td>Cheri A. 🇺🇸</td>\n",
       "      <td>Biloximeemaw</td>\n",
       "      <td>Locked and loaded Meemaw. Love God, my family ...</td>\n",
       "      <td>...</td>\n",
       "      <td>NaN</td>\n",
       "      <td>NaN</td>\n",
       "      <td>NaN</td>\n",
       "      <td>NaN</td>\n",
       "      <td>NaN</td>\n",
       "      <td>NaN</td>\n",
       "      <td>NaN</td>\n",
       "      <td>NaN</td>\n",
       "      <td>2020-10-21 00:00:00.517827283</td>\n",
       "      <td>Biden</td>\n",
       "    </tr>\n",
       "    <tr>\n",
       "      <th>2</th>\n",
       "      <td>2020-10-15 00:00:20</td>\n",
       "      <td>1.316529e+18</td>\n",
       "      <td>@IslandGirlPRV @BradBeauregardJ @MeidasTouch T...</td>\n",
       "      <td>0.0</td>\n",
       "      <td>0.0</td>\n",
       "      <td>Twitter Web App</td>\n",
       "      <td>3.494182e+09</td>\n",
       "      <td>Flag Waver</td>\n",
       "      <td>Flag_Wavers</td>\n",
       "      <td>NaN</td>\n",
       "      <td>...</td>\n",
       "      <td>Golden Valley Arizona</td>\n",
       "      <td>46.304036</td>\n",
       "      <td>-109.171431</td>\n",
       "      <td>NaN</td>\n",
       "      <td>United States of America</td>\n",
       "      <td>North America</td>\n",
       "      <td>Montana</td>\n",
       "      <td>MT</td>\n",
       "      <td>2020-10-21 00:00:01.035654566</td>\n",
       "      <td>Biden</td>\n",
       "    </tr>\n",
       "    <tr>\n",
       "      <th>3</th>\n",
       "      <td>2020-10-15 00:00:21</td>\n",
       "      <td>1.316529e+18</td>\n",
       "      <td>@chrislongview Watching and setting dvr. Let’s...</td>\n",
       "      <td>0.0</td>\n",
       "      <td>0.0</td>\n",
       "      <td>Twitter for iPhone</td>\n",
       "      <td>8.242596e+17</td>\n",
       "      <td>Michelle Ferg</td>\n",
       "      <td>MichelleFerg4</td>\n",
       "      <td>NaN</td>\n",
       "      <td>...</td>\n",
       "      <td>NaN</td>\n",
       "      <td>NaN</td>\n",
       "      <td>NaN</td>\n",
       "      <td>NaN</td>\n",
       "      <td>NaN</td>\n",
       "      <td>NaN</td>\n",
       "      <td>NaN</td>\n",
       "      <td>NaN</td>\n",
       "      <td>2020-10-21 00:00:01.553481849</td>\n",
       "      <td>Biden</td>\n",
       "    </tr>\n",
       "    <tr>\n",
       "      <th>4</th>\n",
       "      <td>2020-10-15 00:00:22</td>\n",
       "      <td>1.316529e+18</td>\n",
       "      <td>#censorship #HunterBiden #Biden #BidenEmails #...</td>\n",
       "      <td>1.0</td>\n",
       "      <td>0.0</td>\n",
       "      <td>Twitter Web App</td>\n",
       "      <td>1.032807e+18</td>\n",
       "      <td>the Gold State</td>\n",
       "      <td>theegoldstate</td>\n",
       "      <td>A Silicon Valley #independent #News #Media #St...</td>\n",
       "      <td>...</td>\n",
       "      <td>California, USA</td>\n",
       "      <td>36.701463</td>\n",
       "      <td>-118.755997</td>\n",
       "      <td>NaN</td>\n",
       "      <td>United States of America</td>\n",
       "      <td>North America</td>\n",
       "      <td>California</td>\n",
       "      <td>CA</td>\n",
       "      <td>2020-10-21 00:00:02.071309132</td>\n",
       "      <td>Biden</td>\n",
       "    </tr>\n",
       "    <tr>\n",
       "      <th>...</th>\n",
       "      <td>...</td>\n",
       "      <td>...</td>\n",
       "      <td>...</td>\n",
       "      <td>...</td>\n",
       "      <td>...</td>\n",
       "      <td>...</td>\n",
       "      <td>...</td>\n",
       "      <td>...</td>\n",
       "      <td>...</td>\n",
       "      <td>...</td>\n",
       "      <td>...</td>\n",
       "      <td>...</td>\n",
       "      <td>...</td>\n",
       "      <td>...</td>\n",
       "      <td>...</td>\n",
       "      <td>...</td>\n",
       "      <td>...</td>\n",
       "      <td>...</td>\n",
       "      <td>...</td>\n",
       "      <td>...</td>\n",
       "      <td>...</td>\n",
       "    </tr>\n",
       "    <tr>\n",
       "      <th>776882</th>\n",
       "      <td>2020-11-08 23:59:38</td>\n",
       "      <td>1.325589e+18</td>\n",
       "      <td>Ωχ ελπίζω να μη μας βγει  σαν τους οπαδούς του...</td>\n",
       "      <td>0.0</td>\n",
       "      <td>0.0</td>\n",
       "      <td>Twitter for Android</td>\n",
       "      <td>4.032819e+08</td>\n",
       "      <td>οχι άλλο κάρβουνο 🇬🇷🗣🗣🗣</td>\n",
       "      <td>anapodoi</td>\n",
       "      <td>ακραία καιρικά φαινόμενα... ζήσαμε και απόψε</td>\n",
       "      <td>...</td>\n",
       "      <td>NaN</td>\n",
       "      <td>NaN</td>\n",
       "      <td>NaN</td>\n",
       "      <td>NaN</td>\n",
       "      <td>NaN</td>\n",
       "      <td>NaN</td>\n",
       "      <td>NaN</td>\n",
       "      <td>NaN</td>\n",
       "      <td>2020-11-09 18:32:45.947617</td>\n",
       "      <td>Biden</td>\n",
       "    </tr>\n",
       "    <tr>\n",
       "      <th>776883</th>\n",
       "      <td>2020-11-08 23:59:41</td>\n",
       "      <td>1.325589e+18</td>\n",
       "      <td>L'OTAN va sortir de sa léthargie et redevenir ...</td>\n",
       "      <td>48.0</td>\n",
       "      <td>14.0</td>\n",
       "      <td>Twitter for Android</td>\n",
       "      <td>7.819183e+17</td>\n",
       "      <td>🇫🇷 Alt-Droite (matricule 6921) ✝️ 🇬🇷 🇮🇹 🇦🇲</td>\n",
       "      <td>CtrlAltDroite</td>\n",
       "      <td>Fils de mineur. Libertés - Identité - Solidari...</td>\n",
       "      <td>...</td>\n",
       "      <td>France</td>\n",
       "      <td>46.603354</td>\n",
       "      <td>1.888334</td>\n",
       "      <td>NaN</td>\n",
       "      <td>France</td>\n",
       "      <td>Europe</td>\n",
       "      <td>NaN</td>\n",
       "      <td>NaN</td>\n",
       "      <td>2020-11-09 18:32:45.627335</td>\n",
       "      <td>Biden</td>\n",
       "    </tr>\n",
       "    <tr>\n",
       "      <th>776884</th>\n",
       "      <td>2020-11-08 23:59:52</td>\n",
       "      <td>1.325589e+18</td>\n",
       "      <td>🌎\\n\\n“#congiuntifuoriregione”\\n\\n‘Sono felice ...</td>\n",
       "      <td>1.0</td>\n",
       "      <td>1.0</td>\n",
       "      <td>Twitter for iPhone</td>\n",
       "      <td>5.293315e+08</td>\n",
       "      <td>Angelo Tani</td>\n",
       "      <td>AngeloTani</td>\n",
       "      <td>nato a casa dei nonni</td>\n",
       "      <td>...</td>\n",
       "      <td>🌎</td>\n",
       "      <td>NaN</td>\n",
       "      <td>NaN</td>\n",
       "      <td>NaN</td>\n",
       "      <td>NaN</td>\n",
       "      <td>NaN</td>\n",
       "      <td>NaN</td>\n",
       "      <td>NaN</td>\n",
       "      <td>2020-11-09 18:32:45.599846</td>\n",
       "      <td>Biden</td>\n",
       "    </tr>\n",
       "    <tr>\n",
       "      <th>737089</th>\n",
       "      <td>2020-11-08 23:59:57</td>\n",
       "      <td>1.325589e+18</td>\n",
       "      <td>#JoeBiden 😂😂😂😂😂😂😂😂😂😂😂😂😂😂😂😂😂😂😂😂 https://t.co/Ym...</td>\n",
       "      <td>0.0</td>\n",
       "      <td>0.0</td>\n",
       "      <td>Twitter for iPhone</td>\n",
       "      <td>1.148479e+08</td>\n",
       "      <td>Nataša</td>\n",
       "      <td>PewPeeew</td>\n",
       "      <td>My brain consists of coping mechanisms and vin...</td>\n",
       "      <td>...</td>\n",
       "      <td>Deutschland</td>\n",
       "      <td>51.083420</td>\n",
       "      <td>10.423447</td>\n",
       "      <td>NaN</td>\n",
       "      <td>Germany</td>\n",
       "      <td>Europe</td>\n",
       "      <td>NaN</td>\n",
       "      <td>NaN</td>\n",
       "      <td>2020-11-09 18:26:04.550843</td>\n",
       "      <td>Biden</td>\n",
       "    </tr>\n",
       "    <tr>\n",
       "      <th>776885</th>\n",
       "      <td>2020-11-08 23:59:58</td>\n",
       "      <td>1.325589e+18</td>\n",
       "      <td>Ik moet zeggen dat ik #Biden \"the lesser of tw...</td>\n",
       "      <td>0.0</td>\n",
       "      <td>0.0</td>\n",
       "      <td>Twitter for Android</td>\n",
       "      <td>5.863863e+08</td>\n",
       "      <td>Job</td>\n",
       "      <td>_JobO__</td>\n",
       "      <td>-voeg hier uw interessante bio toe-</td>\n",
       "      <td>...</td>\n",
       "      <td>NaN</td>\n",
       "      <td>NaN</td>\n",
       "      <td>NaN</td>\n",
       "      <td>NaN</td>\n",
       "      <td>NaN</td>\n",
       "      <td>NaN</td>\n",
       "      <td>NaN</td>\n",
       "      <td>NaN</td>\n",
       "      <td>2020-11-09 18:32:45.747707</td>\n",
       "      <td>Biden</td>\n",
       "    </tr>\n",
       "  </tbody>\n",
       "</table>\n",
       "<p>776886 rows × 22 columns</p>\n",
       "</div>"
      ],
      "text/plain": [
       "                 created_at      tweet_id  \\\n",
       "0       2020-10-15 00:00:01  1.316529e+18   \n",
       "1       2020-10-15 00:00:18  1.316529e+18   \n",
       "2       2020-10-15 00:00:20  1.316529e+18   \n",
       "3       2020-10-15 00:00:21  1.316529e+18   \n",
       "4       2020-10-15 00:00:22  1.316529e+18   \n",
       "...                     ...           ...   \n",
       "776882  2020-11-08 23:59:38  1.325589e+18   \n",
       "776883  2020-11-08 23:59:41  1.325589e+18   \n",
       "776884  2020-11-08 23:59:52  1.325589e+18   \n",
       "737089  2020-11-08 23:59:57  1.325589e+18   \n",
       "776885  2020-11-08 23:59:58  1.325589e+18   \n",
       "\n",
       "                                                    tweet  likes  \\\n",
       "0       #Elecciones2020 | En #Florida: #JoeBiden dice ...    0.0   \n",
       "1       #HunterBiden #HunterBidenEmails #JoeBiden #Joe...    0.0   \n",
       "2       @IslandGirlPRV @BradBeauregardJ @MeidasTouch T...    0.0   \n",
       "3       @chrislongview Watching and setting dvr. Let’s...    0.0   \n",
       "4       #censorship #HunterBiden #Biden #BidenEmails #...    1.0   \n",
       "...                                                   ...    ...   \n",
       "776882  Ωχ ελπίζω να μη μας βγει  σαν τους οπαδούς του...    0.0   \n",
       "776883  L'OTAN va sortir de sa léthargie et redevenir ...   48.0   \n",
       "776884  🌎\\n\\n“#congiuntifuoriregione”\\n\\n‘Sono felice ...    1.0   \n",
       "737089  #JoeBiden 😂😂😂😂😂😂😂😂😂😂😂😂😂😂😂😂😂😂😂😂 https://t.co/Ym...    0.0   \n",
       "776885  Ik moet zeggen dat ik #Biden \"the lesser of tw...    0.0   \n",
       "\n",
       "        retweet_count               source       user_id  \\\n",
       "0                 0.0            TweetDeck  3.606665e+08   \n",
       "1                 0.0     Twitter for iPad  8.099044e+08   \n",
       "2                 0.0      Twitter Web App  3.494182e+09   \n",
       "3                 0.0   Twitter for iPhone  8.242596e+17   \n",
       "4                 0.0      Twitter Web App  1.032807e+18   \n",
       "...               ...                  ...           ...   \n",
       "776882            0.0  Twitter for Android  4.032819e+08   \n",
       "776883           14.0  Twitter for Android  7.819183e+17   \n",
       "776884            1.0   Twitter for iPhone  5.293315e+08   \n",
       "737089            0.0   Twitter for iPhone  1.148479e+08   \n",
       "776885            0.0  Twitter for Android  5.863863e+08   \n",
       "\n",
       "                                         user_name user_screen_name  \\\n",
       "0                               El Sol Latino News  elsollatinonews   \n",
       "1                                      Cheri A. 🇺🇸     Biloximeemaw   \n",
       "2                                       Flag Waver      Flag_Wavers   \n",
       "3                                    Michelle Ferg    MichelleFerg4   \n",
       "4                                   the Gold State    theegoldstate   \n",
       "...                                            ...              ...   \n",
       "776882                     οχι άλλο κάρβουνο 🇬🇷🗣🗣🗣         anapodoi   \n",
       "776883  🇫🇷 Alt-Droite (matricule 6921) ✝️ 🇬🇷 🇮🇹 🇦🇲    CtrlAltDroite   \n",
       "776884                                 Angelo Tani       AngeloTani   \n",
       "737089                                      Nataša         PewPeeew   \n",
       "776885                                         Job          _JobO__   \n",
       "\n",
       "                                         user_description  ...  \\\n",
       "0       🌐 Noticias de interés para latinos de la costa...  ...   \n",
       "1       Locked and loaded Meemaw. Love God, my family ...  ...   \n",
       "2                                                     NaN  ...   \n",
       "3                                                     NaN  ...   \n",
       "4       A Silicon Valley #independent #News #Media #St...  ...   \n",
       "...                                                   ...  ...   \n",
       "776882       ακραία καιρικά φαινόμενα... ζήσαμε και απόψε  ...   \n",
       "776883  Fils de mineur. Libertés - Identité - Solidari...  ...   \n",
       "776884                              nato a casa dei nonni  ...   \n",
       "737089  My brain consists of coping mechanisms and vin...  ...   \n",
       "776885                -voeg hier uw interessante bio toe-  ...   \n",
       "\n",
       "                       user_location        lat        long  city  \\\n",
       "0       Philadelphia, PA / Miami, FL  25.774270  -80.193660   NaN   \n",
       "1                                NaN        NaN         NaN   NaN   \n",
       "2              Golden Valley Arizona  46.304036 -109.171431   NaN   \n",
       "3                                NaN        NaN         NaN   NaN   \n",
       "4                    California, USA  36.701463 -118.755997   NaN   \n",
       "...                              ...        ...         ...   ...   \n",
       "776882                           NaN        NaN         NaN   NaN   \n",
       "776883                        France  46.603354    1.888334   NaN   \n",
       "776884                             🌎        NaN         NaN   NaN   \n",
       "737089                   Deutschland  51.083420   10.423447   NaN   \n",
       "776885                           NaN        NaN         NaN   NaN   \n",
       "\n",
       "                         country      continent       state state_code  \\\n",
       "0       United States of America  North America     Florida         FL   \n",
       "1                            NaN            NaN         NaN        NaN   \n",
       "2       United States of America  North America     Montana         MT   \n",
       "3                            NaN            NaN         NaN        NaN   \n",
       "4       United States of America  North America  California         CA   \n",
       "...                          ...            ...         ...        ...   \n",
       "776882                       NaN            NaN         NaN        NaN   \n",
       "776883                    France         Europe         NaN        NaN   \n",
       "776884                       NaN            NaN         NaN        NaN   \n",
       "737089                   Germany         Europe         NaN        NaN   \n",
       "776885                       NaN            NaN         NaN        NaN   \n",
       "\n",
       "                         collected_at hashtag  \n",
       "0                 2020-10-21 00:00:00   Biden  \n",
       "1       2020-10-21 00:00:00.517827283   Biden  \n",
       "2       2020-10-21 00:00:01.035654566   Biden  \n",
       "3       2020-10-21 00:00:01.553481849   Biden  \n",
       "4       2020-10-21 00:00:02.071309132   Biden  \n",
       "...                               ...     ...  \n",
       "776882     2020-11-09 18:32:45.947617   Biden  \n",
       "776883     2020-11-09 18:32:45.627335   Biden  \n",
       "776884     2020-11-09 18:32:45.599846   Biden  \n",
       "737089     2020-11-09 18:26:04.550843   Biden  \n",
       "776885     2020-11-09 18:32:45.747707   Biden  \n",
       "\n",
       "[776886 rows x 22 columns]"
      ]
     },
     "execution_count": 77,
     "metadata": {},
     "output_type": "execute_result"
    }
   ],
   "source": [
    "biden_data_df.sort_values(by = 'created_at')"
   ]
  },
  {
   "cell_type": "code",
   "execution_count": 78,
   "metadata": {},
   "outputs": [],
   "source": [
    "usa = {\"United States of America\" : \"United States\"}\n",
    "trump_data_df['country'].replace(usa, inplace=True)\n",
    "biden_data_df['country'].replace(usa, inplace=True)"
   ]
  },
  {
   "cell_type": "code",
   "execution_count": 79,
   "metadata": {},
   "outputs": [],
   "source": [
    "trump_data_df = trump_data_df.dropna(how='any')\n",
    "biden_data_df = biden_data_df.dropna(how='any')"
   ]
  },
  {
   "cell_type": "code",
   "execution_count": 80,
   "metadata": {},
   "outputs": [],
   "source": [
    "trump_data_df = trump_data_df.loc[trump_data_df['country']== 'United States']\n",
    "biden_data_df = biden_data_df.loc[biden_data_df['country']== 'United States']"
   ]
  },
  {
   "cell_type": "code",
   "execution_count": 81,
   "metadata": {},
   "outputs": [
    {
     "name": "stdout",
     "output_type": "stream",
     "text": [
      "Count of duplicates: 1421\n",
      "Count of duplicates: 807\n"
     ]
    }
   ],
   "source": [
    "print(\"Count of duplicates: {}\".format(trump_data_df.duplicated(subset=[\"tweet\"]).sum()))\n",
    "print(\"Count of duplicates: {}\".format(biden_data_df.duplicated(subset=[\"tweet\"]).sum()))"
   ]
  },
  {
   "cell_type": "code",
   "execution_count": 82,
   "metadata": {},
   "outputs": [
    {
     "name": "stdout",
     "output_type": "stream",
     "text": [
      "Original size of df: 96623\n",
      "No duplicates size of df : 94581\n",
      "Original size of df: 85761\n",
      "No duplicates size of df : 84461\n"
     ]
    }
   ],
   "source": [
    "print(\"Original size of df: {}\".format(len(trump_data_df)))\n",
    "trump_data_df.drop_duplicates(subset=[\"tweet\"], inplace=True, keep=False)\n",
    "print(\"No duplicates size of df : {}\".format(len(trump_data_df)))\n",
    "\n",
    "print(\"Original size of df: {}\".format(len(biden_data_df)))\n",
    "biden_data_df.drop_duplicates(subset=[\"tweet\"], inplace=True, keep=False)\n",
    "print(\"No duplicates size of df : {}\".format(len(biden_data_df)))"
   ]
  },
  {
   "cell_type": "code",
   "execution_count": 83,
   "metadata": {},
   "outputs": [],
   "source": [
    "trump_data_df.reset_index(inplace=True)\n",
    "biden_data_df.reset_index(inplace=True)"
   ]
  },
  {
   "cell_type": "code",
   "execution_count": 84,
   "metadata": {},
   "outputs": [
    {
     "data": {
      "text/html": [
       "<div>\n",
       "<style scoped>\n",
       "    .dataframe tbody tr th:only-of-type {\n",
       "        vertical-align: middle;\n",
       "    }\n",
       "\n",
       "    .dataframe tbody tr th {\n",
       "        vertical-align: top;\n",
       "    }\n",
       "\n",
       "    .dataframe thead th {\n",
       "        text-align: right;\n",
       "    }\n",
       "</style>\n",
       "<table border=\"1\" class=\"dataframe\">\n",
       "  <thead>\n",
       "    <tr style=\"text-align: right;\">\n",
       "      <th></th>\n",
       "      <th>index</th>\n",
       "      <th>created_at</th>\n",
       "      <th>tweet_id</th>\n",
       "      <th>tweet</th>\n",
       "      <th>likes</th>\n",
       "      <th>retweet_count</th>\n",
       "      <th>source</th>\n",
       "      <th>user_id</th>\n",
       "      <th>user_name</th>\n",
       "      <th>user_screen_name</th>\n",
       "      <th>...</th>\n",
       "      <th>user_location</th>\n",
       "      <th>lat</th>\n",
       "      <th>long</th>\n",
       "      <th>city</th>\n",
       "      <th>country</th>\n",
       "      <th>continent</th>\n",
       "      <th>state</th>\n",
       "      <th>state_code</th>\n",
       "      <th>collected_at</th>\n",
       "      <th>hashtag</th>\n",
       "    </tr>\n",
       "  </thead>\n",
       "  <tbody>\n",
       "    <tr>\n",
       "      <th>0</th>\n",
       "      <td>2</td>\n",
       "      <td>2020-10-15 00:00:02</td>\n",
       "      <td>1.316529e+18</td>\n",
       "      <td>#Trump: As a student I used to hear for years,...</td>\n",
       "      <td>2.0</td>\n",
       "      <td>1.0</td>\n",
       "      <td>Twitter Web App</td>\n",
       "      <td>8436472.0</td>\n",
       "      <td>snarke</td>\n",
       "      <td>snarke</td>\n",
       "      <td>...</td>\n",
       "      <td>Portland</td>\n",
       "      <td>45.520247</td>\n",
       "      <td>-122.674195</td>\n",
       "      <td>Portland</td>\n",
       "      <td>United States</td>\n",
       "      <td>North America</td>\n",
       "      <td>Oregon</td>\n",
       "      <td>OR</td>\n",
       "      <td>2020-10-21 00:00:00.746433060</td>\n",
       "      <td>Trump</td>\n",
       "    </tr>\n",
       "    <tr>\n",
       "      <th>1</th>\n",
       "      <td>4</td>\n",
       "      <td>2020-10-15 00:00:08</td>\n",
       "      <td>1.316529e+18</td>\n",
       "      <td>You get a tie! And you get a tie! #Trump ‘s ra...</td>\n",
       "      <td>4.0</td>\n",
       "      <td>3.0</td>\n",
       "      <td>Twitter for iPhone</td>\n",
       "      <td>47413798.0</td>\n",
       "      <td>Rana Abtar - رنا أبتر</td>\n",
       "      <td>Ranaabtar</td>\n",
       "      <td>...</td>\n",
       "      <td>Washington DC</td>\n",
       "      <td>38.894992</td>\n",
       "      <td>-77.036558</td>\n",
       "      <td>Washington</td>\n",
       "      <td>United States</td>\n",
       "      <td>North America</td>\n",
       "      <td>District of Columbia</td>\n",
       "      <td>DC</td>\n",
       "      <td>2020-10-21 00:00:01.492866121</td>\n",
       "      <td>Trump</td>\n",
       "    </tr>\n",
       "    <tr>\n",
       "      <th>2</th>\n",
       "      <td>11</td>\n",
       "      <td>2020-10-15 00:00:25</td>\n",
       "      <td>1.316529e+18</td>\n",
       "      <td>In 2020, #NYPost is being #censorship #CENSORE...</td>\n",
       "      <td>0.0</td>\n",
       "      <td>0.0</td>\n",
       "      <td>Twitter for iPhone</td>\n",
       "      <td>19940334.0</td>\n",
       "      <td>Change Illinois | Biden will increase taxes by...</td>\n",
       "      <td>changeillinois</td>\n",
       "      <td>...</td>\n",
       "      <td>Chicago, Illinois</td>\n",
       "      <td>41.875562</td>\n",
       "      <td>-87.624421</td>\n",
       "      <td>Chicago</td>\n",
       "      <td>United States</td>\n",
       "      <td>North America</td>\n",
       "      <td>Illinois</td>\n",
       "      <td>IL</td>\n",
       "      <td>2020-10-21 00:00:04.105381834</td>\n",
       "      <td>Trump</td>\n",
       "    </tr>\n",
       "  </tbody>\n",
       "</table>\n",
       "<p>3 rows × 23 columns</p>\n",
       "</div>"
      ],
      "text/plain": [
       "   index           created_at      tweet_id  \\\n",
       "0      2  2020-10-15 00:00:02  1.316529e+18   \n",
       "1      4  2020-10-15 00:00:08  1.316529e+18   \n",
       "2     11  2020-10-15 00:00:25  1.316529e+18   \n",
       "\n",
       "                                               tweet  likes  retweet_count  \\\n",
       "0  #Trump: As a student I used to hear for years,...    2.0            1.0   \n",
       "1  You get a tie! And you get a tie! #Trump ‘s ra...    4.0            3.0   \n",
       "2  In 2020, #NYPost is being #censorship #CENSORE...    0.0            0.0   \n",
       "\n",
       "               source     user_id  \\\n",
       "0     Twitter Web App   8436472.0   \n",
       "1  Twitter for iPhone  47413798.0   \n",
       "2  Twitter for iPhone  19940334.0   \n",
       "\n",
       "                                           user_name user_screen_name  ...  \\\n",
       "0                                             snarke           snarke  ...   \n",
       "1                              Rana Abtar - رنا أبتر        Ranaabtar  ...   \n",
       "2  Change Illinois | Biden will increase taxes by...   changeillinois  ...   \n",
       "\n",
       "       user_location        lat        long        city        country  \\\n",
       "0           Portland  45.520247 -122.674195    Portland  United States   \n",
       "1      Washington DC  38.894992  -77.036558  Washington  United States   \n",
       "2  Chicago, Illinois  41.875562  -87.624421     Chicago  United States   \n",
       "\n",
       "       continent                 state state_code  \\\n",
       "0  North America                Oregon         OR   \n",
       "1  North America  District of Columbia         DC   \n",
       "2  North America              Illinois         IL   \n",
       "\n",
       "                    collected_at hashtag  \n",
       "0  2020-10-21 00:00:00.746433060   Trump  \n",
       "1  2020-10-21 00:00:01.492866121   Trump  \n",
       "2  2020-10-21 00:00:04.105381834   Trump  \n",
       "\n",
       "[3 rows x 23 columns]"
      ]
     },
     "execution_count": 84,
     "metadata": {},
     "output_type": "execute_result"
    }
   ],
   "source": [
    "trump_data_df.head(3)"
   ]
  },
  {
   "cell_type": "code",
   "execution_count": 85,
   "metadata": {},
   "outputs": [
    {
     "data": {
      "text/html": [
       "<div>\n",
       "<style scoped>\n",
       "    .dataframe tbody tr th:only-of-type {\n",
       "        vertical-align: middle;\n",
       "    }\n",
       "\n",
       "    .dataframe tbody tr th {\n",
       "        vertical-align: top;\n",
       "    }\n",
       "\n",
       "    .dataframe thead th {\n",
       "        text-align: right;\n",
       "    }\n",
       "</style>\n",
       "<table border=\"1\" class=\"dataframe\">\n",
       "  <thead>\n",
       "    <tr style=\"text-align: right;\">\n",
       "      <th></th>\n",
       "      <th>id</th>\n",
       "      <th>created_at</th>\n",
       "      <th>tweet_id</th>\n",
       "      <th>tweet</th>\n",
       "      <th>likes</th>\n",
       "      <th>retweet_count</th>\n",
       "      <th>source</th>\n",
       "      <th>user_id</th>\n",
       "      <th>user_name</th>\n",
       "      <th>user_screen_name</th>\n",
       "      <th>...</th>\n",
       "      <th>user_location</th>\n",
       "      <th>lat</th>\n",
       "      <th>long</th>\n",
       "      <th>city</th>\n",
       "      <th>country</th>\n",
       "      <th>continent</th>\n",
       "      <th>state</th>\n",
       "      <th>state_code</th>\n",
       "      <th>collected_at</th>\n",
       "      <th>hashtag</th>\n",
       "    </tr>\n",
       "  </thead>\n",
       "  <tbody>\n",
       "    <tr>\n",
       "      <th>0</th>\n",
       "      <td>2</td>\n",
       "      <td>2020-10-15 00:00:02</td>\n",
       "      <td>1.316529e+18</td>\n",
       "      <td>#Trump: As a student I used to hear for years,...</td>\n",
       "      <td>2.0</td>\n",
       "      <td>1.0</td>\n",
       "      <td>Twitter Web App</td>\n",
       "      <td>8436472.0</td>\n",
       "      <td>snarke</td>\n",
       "      <td>snarke</td>\n",
       "      <td>...</td>\n",
       "      <td>Portland</td>\n",
       "      <td>45.520247</td>\n",
       "      <td>-122.674195</td>\n",
       "      <td>Portland</td>\n",
       "      <td>United States</td>\n",
       "      <td>North America</td>\n",
       "      <td>Oregon</td>\n",
       "      <td>OR</td>\n",
       "      <td>2020-10-21 00:00:00.746433060</td>\n",
       "      <td>Trump</td>\n",
       "    </tr>\n",
       "    <tr>\n",
       "      <th>1</th>\n",
       "      <td>4</td>\n",
       "      <td>2020-10-15 00:00:08</td>\n",
       "      <td>1.316529e+18</td>\n",
       "      <td>You get a tie! And you get a tie! #Trump ‘s ra...</td>\n",
       "      <td>4.0</td>\n",
       "      <td>3.0</td>\n",
       "      <td>Twitter for iPhone</td>\n",
       "      <td>47413798.0</td>\n",
       "      <td>Rana Abtar - رنا أبتر</td>\n",
       "      <td>Ranaabtar</td>\n",
       "      <td>...</td>\n",
       "      <td>Washington DC</td>\n",
       "      <td>38.894992</td>\n",
       "      <td>-77.036558</td>\n",
       "      <td>Washington</td>\n",
       "      <td>United States</td>\n",
       "      <td>North America</td>\n",
       "      <td>District of Columbia</td>\n",
       "      <td>DC</td>\n",
       "      <td>2020-10-21 00:00:01.492866121</td>\n",
       "      <td>Trump</td>\n",
       "    </tr>\n",
       "    <tr>\n",
       "      <th>2</th>\n",
       "      <td>11</td>\n",
       "      <td>2020-10-15 00:00:25</td>\n",
       "      <td>1.316529e+18</td>\n",
       "      <td>In 2020, #NYPost is being #censorship #CENSORE...</td>\n",
       "      <td>0.0</td>\n",
       "      <td>0.0</td>\n",
       "      <td>Twitter for iPhone</td>\n",
       "      <td>19940334.0</td>\n",
       "      <td>Change Illinois | Biden will increase taxes by...</td>\n",
       "      <td>changeillinois</td>\n",
       "      <td>...</td>\n",
       "      <td>Chicago, Illinois</td>\n",
       "      <td>41.875562</td>\n",
       "      <td>-87.624421</td>\n",
       "      <td>Chicago</td>\n",
       "      <td>United States</td>\n",
       "      <td>North America</td>\n",
       "      <td>Illinois</td>\n",
       "      <td>IL</td>\n",
       "      <td>2020-10-21 00:00:04.105381834</td>\n",
       "      <td>Trump</td>\n",
       "    </tr>\n",
       "  </tbody>\n",
       "</table>\n",
       "<p>3 rows × 23 columns</p>\n",
       "</div>"
      ],
      "text/plain": [
       "   id           created_at      tweet_id  \\\n",
       "0   2  2020-10-15 00:00:02  1.316529e+18   \n",
       "1   4  2020-10-15 00:00:08  1.316529e+18   \n",
       "2  11  2020-10-15 00:00:25  1.316529e+18   \n",
       "\n",
       "                                               tweet  likes  retweet_count  \\\n",
       "0  #Trump: As a student I used to hear for years,...    2.0            1.0   \n",
       "1  You get a tie! And you get a tie! #Trump ‘s ra...    4.0            3.0   \n",
       "2  In 2020, #NYPost is being #censorship #CENSORE...    0.0            0.0   \n",
       "\n",
       "               source     user_id  \\\n",
       "0     Twitter Web App   8436472.0   \n",
       "1  Twitter for iPhone  47413798.0   \n",
       "2  Twitter for iPhone  19940334.0   \n",
       "\n",
       "                                           user_name user_screen_name  ...  \\\n",
       "0                                             snarke           snarke  ...   \n",
       "1                              Rana Abtar - رنا أبتر        Ranaabtar  ...   \n",
       "2  Change Illinois | Biden will increase taxes by...   changeillinois  ...   \n",
       "\n",
       "       user_location        lat        long        city        country  \\\n",
       "0           Portland  45.520247 -122.674195    Portland  United States   \n",
       "1      Washington DC  38.894992  -77.036558  Washington  United States   \n",
       "2  Chicago, Illinois  41.875562  -87.624421     Chicago  United States   \n",
       "\n",
       "       continent                 state state_code  \\\n",
       "0  North America                Oregon         OR   \n",
       "1  North America  District of Columbia         DC   \n",
       "2  North America              Illinois         IL   \n",
       "\n",
       "                    collected_at hashtag  \n",
       "0  2020-10-21 00:00:00.746433060   Trump  \n",
       "1  2020-10-21 00:00:01.492866121   Trump  \n",
       "2  2020-10-21 00:00:04.105381834   Trump  \n",
       "\n",
       "[3 rows x 23 columns]"
      ]
     },
     "execution_count": 85,
     "metadata": {},
     "output_type": "execute_result"
    }
   ],
   "source": [
    "trump_data_df = trump_data_df.rename(columns = {'index': 'id'}, inplace = False)\n",
    "trump_data_df.head(3)"
   ]
  },
  {
   "cell_type": "code",
   "execution_count": 86,
   "metadata": {},
   "outputs": [
    {
     "data": {
      "text/html": [
       "<div>\n",
       "<style scoped>\n",
       "    .dataframe tbody tr th:only-of-type {\n",
       "        vertical-align: middle;\n",
       "    }\n",
       "\n",
       "    .dataframe tbody tr th {\n",
       "        vertical-align: top;\n",
       "    }\n",
       "\n",
       "    .dataframe thead th {\n",
       "        text-align: right;\n",
       "    }\n",
       "</style>\n",
       "<table border=\"1\" class=\"dataframe\">\n",
       "  <thead>\n",
       "    <tr style=\"text-align: right;\">\n",
       "      <th></th>\n",
       "      <th>id</th>\n",
       "      <th>created_at</th>\n",
       "      <th>tweet_id</th>\n",
       "      <th>tweet</th>\n",
       "      <th>likes</th>\n",
       "      <th>retweet_count</th>\n",
       "      <th>source</th>\n",
       "      <th>user_id</th>\n",
       "      <th>user_name</th>\n",
       "      <th>user_screen_name</th>\n",
       "      <th>...</th>\n",
       "      <th>user_location</th>\n",
       "      <th>lat</th>\n",
       "      <th>long</th>\n",
       "      <th>city</th>\n",
       "      <th>country</th>\n",
       "      <th>continent</th>\n",
       "      <th>state</th>\n",
       "      <th>state_code</th>\n",
       "      <th>collected_at</th>\n",
       "      <th>hashtag</th>\n",
       "    </tr>\n",
       "  </thead>\n",
       "  <tbody>\n",
       "    <tr>\n",
       "      <th>0</th>\n",
       "      <td>6</td>\n",
       "      <td>2020-10-15 00:00:25</td>\n",
       "      <td>1.316529e+18</td>\n",
       "      <td>In 2020, #NYPost is being #censorship #CENSORE...</td>\n",
       "      <td>0.0</td>\n",
       "      <td>0.0</td>\n",
       "      <td>Twitter for iPhone</td>\n",
       "      <td>1.994033e+07</td>\n",
       "      <td>Change Illinois | Biden will increase taxes by...</td>\n",
       "      <td>changeillinois</td>\n",
       "      <td>...</td>\n",
       "      <td>Chicago, Illinois</td>\n",
       "      <td>41.875562</td>\n",
       "      <td>-87.624421</td>\n",
       "      <td>Chicago</td>\n",
       "      <td>United States</td>\n",
       "      <td>North America</td>\n",
       "      <td>Illinois</td>\n",
       "      <td>IL</td>\n",
       "      <td>2020-10-21 00:00:03.106963698</td>\n",
       "      <td>Biden</td>\n",
       "    </tr>\n",
       "    <tr>\n",
       "      <th>1</th>\n",
       "      <td>17</td>\n",
       "      <td>2020-10-15 00:01:23</td>\n",
       "      <td>1.316530e+18</td>\n",
       "      <td>Comments on this? \"Do Democrats Understand how...</td>\n",
       "      <td>0.0</td>\n",
       "      <td>0.0</td>\n",
       "      <td>Twitter Web App</td>\n",
       "      <td>1.016593e+08</td>\n",
       "      <td>John Ubaldi</td>\n",
       "      <td>ubaldireports</td>\n",
       "      <td>...</td>\n",
       "      <td>Tampa, Florida</td>\n",
       "      <td>27.947760</td>\n",
       "      <td>-82.458444</td>\n",
       "      <td>Tampa</td>\n",
       "      <td>United States</td>\n",
       "      <td>North America</td>\n",
       "      <td>Florida</td>\n",
       "      <td>FL</td>\n",
       "      <td>2020-10-21 00:00:08.803063811</td>\n",
       "      <td>Biden</td>\n",
       "    </tr>\n",
       "    <tr>\n",
       "      <th>2</th>\n",
       "      <td>25</td>\n",
       "      <td>2020-10-15 00:01:57</td>\n",
       "      <td>1.316530e+18</td>\n",
       "      <td>@RealJamesWoods #BidenCrimeFamily #JoeBiden #H...</td>\n",
       "      <td>0.0</td>\n",
       "      <td>0.0</td>\n",
       "      <td>Twitter for Android</td>\n",
       "      <td>1.300837e+18</td>\n",
       "      <td>Sam KEYS</td>\n",
       "      <td>SamKEYS65729181</td>\n",
       "      <td>...</td>\n",
       "      <td>Los Angeles, CA</td>\n",
       "      <td>34.053691</td>\n",
       "      <td>-118.242766</td>\n",
       "      <td>Los Angeles</td>\n",
       "      <td>United States</td>\n",
       "      <td>North America</td>\n",
       "      <td>California</td>\n",
       "      <td>CA</td>\n",
       "      <td>2020-10-21 00:00:12.945682075</td>\n",
       "      <td>Biden</td>\n",
       "    </tr>\n",
       "  </tbody>\n",
       "</table>\n",
       "<p>3 rows × 23 columns</p>\n",
       "</div>"
      ],
      "text/plain": [
       "   id           created_at      tweet_id  \\\n",
       "0   6  2020-10-15 00:00:25  1.316529e+18   \n",
       "1  17  2020-10-15 00:01:23  1.316530e+18   \n",
       "2  25  2020-10-15 00:01:57  1.316530e+18   \n",
       "\n",
       "                                               tweet  likes  retweet_count  \\\n",
       "0  In 2020, #NYPost is being #censorship #CENSORE...    0.0            0.0   \n",
       "1  Comments on this? \"Do Democrats Understand how...    0.0            0.0   \n",
       "2  @RealJamesWoods #BidenCrimeFamily #JoeBiden #H...    0.0            0.0   \n",
       "\n",
       "                source       user_id  \\\n",
       "0   Twitter for iPhone  1.994033e+07   \n",
       "1      Twitter Web App  1.016593e+08   \n",
       "2  Twitter for Android  1.300837e+18   \n",
       "\n",
       "                                           user_name user_screen_name  ...  \\\n",
       "0  Change Illinois | Biden will increase taxes by...   changeillinois  ...   \n",
       "1                                        John Ubaldi    ubaldireports  ...   \n",
       "2                                           Sam KEYS  SamKEYS65729181  ...   \n",
       "\n",
       "       user_location        lat        long         city        country  \\\n",
       "0  Chicago, Illinois  41.875562  -87.624421      Chicago  United States   \n",
       "1     Tampa, Florida  27.947760  -82.458444        Tampa  United States   \n",
       "2    Los Angeles, CA  34.053691 -118.242766  Los Angeles  United States   \n",
       "\n",
       "       continent       state state_code                   collected_at hashtag  \n",
       "0  North America    Illinois         IL  2020-10-21 00:00:03.106963698   Biden  \n",
       "1  North America     Florida         FL  2020-10-21 00:00:08.803063811   Biden  \n",
       "2  North America  California         CA  2020-10-21 00:00:12.945682075   Biden  \n",
       "\n",
       "[3 rows x 23 columns]"
      ]
     },
     "execution_count": 86,
     "metadata": {},
     "output_type": "execute_result"
    }
   ],
   "source": [
    "biden_data_df = biden_data_df.rename(columns = {'index': 'id'}, inplace = False)\n",
    "biden_data_df.head(3)"
   ]
  },
  {
   "cell_type": "code",
   "execution_count": 87,
   "metadata": {},
   "outputs": [
    {
     "data": {
      "text/plain": [
       "created_at\n",
       "2020-10-15 00:00:02    1\n",
       "2020-10-15 00:00:08    1\n",
       "2020-10-15 00:00:25    1\n",
       "dtype: int64"
      ]
     },
     "execution_count": 87,
     "metadata": {},
     "output_type": "execute_result"
    }
   ],
   "source": [
    "t_time_series = pd.Series(1, index=trump_data_df['created_at'])\n",
    "t_time_series.head(3)"
   ]
  },
  {
   "cell_type": "code",
   "execution_count": 88,
   "metadata": {},
   "outputs": [
    {
     "data": {
      "text/plain": [
       "created_at\n",
       "2020-10-15 00:00:25    1\n",
       "2020-10-15 00:01:23    1\n",
       "2020-10-15 00:01:57    1\n",
       "dtype: int64"
      ]
     },
     "execution_count": 88,
     "metadata": {},
     "output_type": "execute_result"
    }
   ],
   "source": [
    "b_time_series = pd.Series(1, index=biden_data_df['created_at'])\n",
    "b_time_series.head(3)"
   ]
  },
  {
   "cell_type": "code",
   "execution_count": 89,
   "metadata": {},
   "outputs": [
    {
     "data": {
      "text/plain": [
       "created_at\n",
       "2020-10-15 00:00:00    1063\n",
       "2020-10-15 12:00:00    1535\n",
       "2020-10-16 00:00:00    1912\n",
       "Freq: 12H, dtype: int64"
      ]
     },
     "execution_count": 89,
     "metadata": {},
     "output_type": "execute_result"
    }
   ],
   "source": [
    "# Converting the index as date\n",
    "t_time_series.index = pd.to_datetime(t_time_series.index)\n",
    "trump_df = t_time_series.resample('12H').sum()\n",
    "trump_df.head(3)"
   ]
  },
  {
   "cell_type": "code",
   "execution_count": 90,
   "metadata": {},
   "outputs": [
    {
     "data": {
      "text/plain": [
       "created_at\n",
       "2020-10-15 00:00:00     814\n",
       "2020-10-15 12:00:00    1239\n",
       "2020-10-16 00:00:00    1601\n",
       "Freq: 12H, dtype: int64"
      ]
     },
     "execution_count": 90,
     "metadata": {},
     "output_type": "execute_result"
    }
   ],
   "source": [
    "b_time_series.index = pd.to_datetime(b_time_series.index)\n",
    "biden_df = b_time_series.resample('12H').sum()\n",
    "biden_df.head(3)"
   ]
  },
  {
   "cell_type": "code",
   "execution_count": 91,
   "metadata": {},
   "outputs": [
    {
     "data": {
      "text/html": [
       "<div>\n",
       "<style scoped>\n",
       "    .dataframe tbody tr th:only-of-type {\n",
       "        vertical-align: middle;\n",
       "    }\n",
       "\n",
       "    .dataframe tbody tr th {\n",
       "        vertical-align: top;\n",
       "    }\n",
       "\n",
       "    .dataframe thead th {\n",
       "        text-align: right;\n",
       "    }\n",
       "</style>\n",
       "<table border=\"1\" class=\"dataframe\">\n",
       "  <thead>\n",
       "    <tr style=\"text-align: right;\">\n",
       "      <th></th>\n",
       "      <th>0</th>\n",
       "    </tr>\n",
       "    <tr>\n",
       "      <th>created_at</th>\n",
       "      <th></th>\n",
       "    </tr>\n",
       "  </thead>\n",
       "  <tbody>\n",
       "    <tr>\n",
       "      <th>2020-10-15 00:00:00</th>\n",
       "      <td>1063</td>\n",
       "    </tr>\n",
       "    <tr>\n",
       "      <th>2020-10-15 12:00:00</th>\n",
       "      <td>1535</td>\n",
       "    </tr>\n",
       "    <tr>\n",
       "      <th>2020-10-16 00:00:00</th>\n",
       "      <td>1912</td>\n",
       "    </tr>\n",
       "    <tr>\n",
       "      <th>2020-10-16 12:00:00</th>\n",
       "      <td>1958</td>\n",
       "    </tr>\n",
       "    <tr>\n",
       "      <th>2020-10-17 00:00:00</th>\n",
       "      <td>874</td>\n",
       "    </tr>\n",
       "  </tbody>\n",
       "</table>\n",
       "</div>"
      ],
      "text/plain": [
       "                        0\n",
       "created_at               \n",
       "2020-10-15 00:00:00  1063\n",
       "2020-10-15 12:00:00  1535\n",
       "2020-10-16 00:00:00  1912\n",
       "2020-10-16 12:00:00  1958\n",
       "2020-10-17 00:00:00   874"
      ]
     },
     "execution_count": 91,
     "metadata": {},
     "output_type": "execute_result"
    }
   ],
   "source": [
    "t_time_series_df = pd.DataFrame(trump_df)\n",
    "t_time_series_df.head()"
   ]
  },
  {
   "cell_type": "code",
   "execution_count": 92,
   "metadata": {},
   "outputs": [
    {
     "data": {
      "text/html": [
       "<div>\n",
       "<style scoped>\n",
       "    .dataframe tbody tr th:only-of-type {\n",
       "        vertical-align: middle;\n",
       "    }\n",
       "\n",
       "    .dataframe tbody tr th {\n",
       "        vertical-align: top;\n",
       "    }\n",
       "\n",
       "    .dataframe thead th {\n",
       "        text-align: right;\n",
       "    }\n",
       "</style>\n",
       "<table border=\"1\" class=\"dataframe\">\n",
       "  <thead>\n",
       "    <tr style=\"text-align: right;\">\n",
       "      <th></th>\n",
       "      <th>0</th>\n",
       "    </tr>\n",
       "    <tr>\n",
       "      <th>created_at</th>\n",
       "      <th></th>\n",
       "    </tr>\n",
       "  </thead>\n",
       "  <tbody>\n",
       "    <tr>\n",
       "      <th>2020-10-15 00:00:00</th>\n",
       "      <td>814</td>\n",
       "    </tr>\n",
       "    <tr>\n",
       "      <th>2020-10-15 12:00:00</th>\n",
       "      <td>1239</td>\n",
       "    </tr>\n",
       "    <tr>\n",
       "      <th>2020-10-16 00:00:00</th>\n",
       "      <td>1601</td>\n",
       "    </tr>\n",
       "    <tr>\n",
       "      <th>2020-10-16 12:00:00</th>\n",
       "      <td>1366</td>\n",
       "    </tr>\n",
       "    <tr>\n",
       "      <th>2020-10-17 00:00:00</th>\n",
       "      <td>612</td>\n",
       "    </tr>\n",
       "  </tbody>\n",
       "</table>\n",
       "</div>"
      ],
      "text/plain": [
       "                        0\n",
       "created_at               \n",
       "2020-10-15 00:00:00   814\n",
       "2020-10-15 12:00:00  1239\n",
       "2020-10-16 00:00:00  1601\n",
       "2020-10-16 12:00:00  1366\n",
       "2020-10-17 00:00:00   612"
      ]
     },
     "execution_count": 92,
     "metadata": {},
     "output_type": "execute_result"
    }
   ],
   "source": [
    "b_time_series_df = pd.DataFrame(biden_df)\n",
    "b_time_series_df.head()"
   ]
  },
  {
   "cell_type": "code",
   "execution_count": 93,
   "metadata": {},
   "outputs": [
    {
     "data": {
      "text/html": [
       "<div>\n",
       "<style scoped>\n",
       "    .dataframe tbody tr th:only-of-type {\n",
       "        vertical-align: middle;\n",
       "    }\n",
       "\n",
       "    .dataframe tbody tr th {\n",
       "        vertical-align: top;\n",
       "    }\n",
       "\n",
       "    .dataframe thead th {\n",
       "        text-align: right;\n",
       "    }\n",
       "</style>\n",
       "<table border=\"1\" class=\"dataframe\">\n",
       "  <thead>\n",
       "    <tr style=\"text-align: right;\">\n",
       "      <th></th>\n",
       "      <th>0</th>\n",
       "      <th>0</th>\n",
       "    </tr>\n",
       "    <tr>\n",
       "      <th>created_at</th>\n",
       "      <th></th>\n",
       "      <th></th>\n",
       "    </tr>\n",
       "  </thead>\n",
       "  <tbody>\n",
       "    <tr>\n",
       "      <th>2020-10-15 00:00:00</th>\n",
       "      <td>1063</td>\n",
       "      <td>814</td>\n",
       "    </tr>\n",
       "    <tr>\n",
       "      <th>2020-10-15 12:00:00</th>\n",
       "      <td>1535</td>\n",
       "      <td>1239</td>\n",
       "    </tr>\n",
       "    <tr>\n",
       "      <th>2020-10-16 00:00:00</th>\n",
       "      <td>1912</td>\n",
       "      <td>1601</td>\n",
       "    </tr>\n",
       "    <tr>\n",
       "      <th>2020-10-16 12:00:00</th>\n",
       "      <td>1958</td>\n",
       "      <td>1366</td>\n",
       "    </tr>\n",
       "    <tr>\n",
       "      <th>2020-10-17 00:00:00</th>\n",
       "      <td>874</td>\n",
       "      <td>612</td>\n",
       "    </tr>\n",
       "  </tbody>\n",
       "</table>\n",
       "</div>"
      ],
      "text/plain": [
       "                        0     0\n",
       "created_at                     \n",
       "2020-10-15 00:00:00  1063   814\n",
       "2020-10-15 12:00:00  1535  1239\n",
       "2020-10-16 00:00:00  1912  1601\n",
       "2020-10-16 12:00:00  1958  1366\n",
       "2020-10-17 00:00:00   874   612"
      ]
     },
     "execution_count": 93,
     "metadata": {},
     "output_type": "execute_result"
    }
   ],
   "source": [
    "combined_df = pd.concat([t_time_series_df, b_time_series_df], axis=1, join=\"inner\")\n",
    "combined_df.head()"
   ]
  },
  {
   "cell_type": "code",
   "execution_count": 94,
   "metadata": {},
   "outputs": [
    {
     "data": {
      "text/html": [
       "<div>\n",
       "<style scoped>\n",
       "    .dataframe tbody tr th:only-of-type {\n",
       "        vertical-align: middle;\n",
       "    }\n",
       "\n",
       "    .dataframe tbody tr th {\n",
       "        vertical-align: top;\n",
       "    }\n",
       "\n",
       "    .dataframe thead th {\n",
       "        text-align: right;\n",
       "    }\n",
       "</style>\n",
       "<table border=\"1\" class=\"dataframe\">\n",
       "  <thead>\n",
       "    <tr style=\"text-align: right;\">\n",
       "      <th></th>\n",
       "      <th>trump</th>\n",
       "      <th>biden</th>\n",
       "    </tr>\n",
       "    <tr>\n",
       "      <th>created_at</th>\n",
       "      <th></th>\n",
       "      <th></th>\n",
       "    </tr>\n",
       "  </thead>\n",
       "  <tbody>\n",
       "    <tr>\n",
       "      <th>2020-10-15 00:00:00</th>\n",
       "      <td>1063</td>\n",
       "      <td>814</td>\n",
       "    </tr>\n",
       "    <tr>\n",
       "      <th>2020-10-15 12:00:00</th>\n",
       "      <td>1535</td>\n",
       "      <td>1239</td>\n",
       "    </tr>\n",
       "    <tr>\n",
       "      <th>2020-10-16 00:00:00</th>\n",
       "      <td>1912</td>\n",
       "      <td>1601</td>\n",
       "    </tr>\n",
       "  </tbody>\n",
       "</table>\n",
       "</div>"
      ],
      "text/plain": [
       "                     trump  biden\n",
       "created_at                       \n",
       "2020-10-15 00:00:00   1063    814\n",
       "2020-10-15 12:00:00   1535   1239\n",
       "2020-10-16 00:00:00   1912   1601"
      ]
     },
     "execution_count": 94,
     "metadata": {},
     "output_type": "execute_result"
    }
   ],
   "source": [
    "combined_df.columns = ['trump', 'biden']\n",
    "combined_df.head(3)"
   ]
  },
  {
   "cell_type": "code",
   "execution_count": 95,
   "metadata": {},
   "outputs": [],
   "source": [
    "combined_df.reset_index(inplace=True)\n",
    "\n"
   ]
  },
  {
   "cell_type": "code",
   "execution_count": 96,
   "metadata": {},
   "outputs": [
    {
     "data": {
      "text/html": [
       "<div>\n",
       "<style scoped>\n",
       "    .dataframe tbody tr th:only-of-type {\n",
       "        vertical-align: middle;\n",
       "    }\n",
       "\n",
       "    .dataframe tbody tr th {\n",
       "        vertical-align: top;\n",
       "    }\n",
       "\n",
       "    .dataframe thead th {\n",
       "        text-align: right;\n",
       "    }\n",
       "</style>\n",
       "<table border=\"1\" class=\"dataframe\">\n",
       "  <thead>\n",
       "    <tr style=\"text-align: right;\">\n",
       "      <th></th>\n",
       "      <th>created_at</th>\n",
       "      <th>trump</th>\n",
       "      <th>biden</th>\n",
       "    </tr>\n",
       "  </thead>\n",
       "  <tbody>\n",
       "    <tr>\n",
       "      <th>0</th>\n",
       "      <td>2020-10-15 00:00:00</td>\n",
       "      <td>1063</td>\n",
       "      <td>814</td>\n",
       "    </tr>\n",
       "    <tr>\n",
       "      <th>1</th>\n",
       "      <td>2020-10-15 12:00:00</td>\n",
       "      <td>1535</td>\n",
       "      <td>1239</td>\n",
       "    </tr>\n",
       "    <tr>\n",
       "      <th>2</th>\n",
       "      <td>2020-10-16 00:00:00</td>\n",
       "      <td>1912</td>\n",
       "      <td>1601</td>\n",
       "    </tr>\n",
       "  </tbody>\n",
       "</table>\n",
       "</div>"
      ],
      "text/plain": [
       "           created_at  trump  biden\n",
       "0 2020-10-15 00:00:00   1063    814\n",
       "1 2020-10-15 12:00:00   1535   1239\n",
       "2 2020-10-16 00:00:00   1912   1601"
      ]
     },
     "execution_count": 96,
     "metadata": {},
     "output_type": "execute_result"
    }
   ],
   "source": [
    "combined_df = combined_df[['created_at','trump','biden']]\n",
    "combined_df.head(3)"
   ]
  },
  {
   "cell_type": "code",
   "execution_count": 97,
   "metadata": {},
   "outputs": [
    {
     "data": {
      "text/plain": [
       "Text(0, 0.5, 'Number of Tweets')"
      ]
     },
     "execution_count": 97,
     "metadata": {},
     "output_type": "execute_result"
    },
    {
     "ename": "ValueError",
     "evalue": "view limit minimum 0.0 is less than 1 and is an invalid Matplotlib date value. This often happens if you pass a non-datetime value to an axis that has datetime units",
     "output_type": "error",
     "traceback": [
      "\u001b[1;31m---------------------------------------------------------------------------\u001b[0m",
      "\u001b[1;31mValueError\u001b[0m                                Traceback (most recent call last)",
      "\u001b[1;32m~\\anaconda3\\envs\\PythonData\\lib\\site-packages\\ipykernel\\pylab\\backend_inline.py\u001b[0m in \u001b[0;36mshow\u001b[1;34m(close, block)\u001b[0m\n\u001b[0;32m     41\u001b[0m             display(\n\u001b[0;32m     42\u001b[0m                 \u001b[0mfigure_manager\u001b[0m\u001b[1;33m.\u001b[0m\u001b[0mcanvas\u001b[0m\u001b[1;33m.\u001b[0m\u001b[0mfigure\u001b[0m\u001b[1;33m,\u001b[0m\u001b[1;33m\u001b[0m\u001b[1;33m\u001b[0m\u001b[0m\n\u001b[1;32m---> 43\u001b[1;33m                 \u001b[0mmetadata\u001b[0m\u001b[1;33m=\u001b[0m\u001b[0m_fetch_figure_metadata\u001b[0m\u001b[1;33m(\u001b[0m\u001b[0mfigure_manager\u001b[0m\u001b[1;33m.\u001b[0m\u001b[0mcanvas\u001b[0m\u001b[1;33m.\u001b[0m\u001b[0mfigure\u001b[0m\u001b[1;33m)\u001b[0m\u001b[1;33m\u001b[0m\u001b[1;33m\u001b[0m\u001b[0m\n\u001b[0m\u001b[0;32m     44\u001b[0m             )\n\u001b[0;32m     45\u001b[0m     \u001b[1;32mfinally\u001b[0m\u001b[1;33m:\u001b[0m\u001b[1;33m\u001b[0m\u001b[1;33m\u001b[0m\u001b[0m\n",
      "\u001b[1;32m~\\anaconda3\\envs\\PythonData\\lib\\site-packages\\ipykernel\\pylab\\backend_inline.py\u001b[0m in \u001b[0;36m_fetch_figure_metadata\u001b[1;34m(fig)\u001b[0m\n\u001b[0;32m    179\u001b[0m         \u001b[1;31m# the background is transparent\u001b[0m\u001b[1;33m\u001b[0m\u001b[1;33m\u001b[0m\u001b[1;33m\u001b[0m\u001b[0m\n\u001b[0;32m    180\u001b[0m         ticksLight = _is_light([label.get_color()\n\u001b[1;32m--> 181\u001b[1;33m                                 \u001b[1;32mfor\u001b[0m \u001b[0maxes\u001b[0m \u001b[1;32min\u001b[0m \u001b[0mfig\u001b[0m\u001b[1;33m.\u001b[0m\u001b[0maxes\u001b[0m\u001b[1;33m\u001b[0m\u001b[1;33m\u001b[0m\u001b[0m\n\u001b[0m\u001b[0;32m    182\u001b[0m                                 \u001b[1;32mfor\u001b[0m \u001b[0maxis\u001b[0m \u001b[1;32min\u001b[0m \u001b[1;33m(\u001b[0m\u001b[0maxes\u001b[0m\u001b[1;33m.\u001b[0m\u001b[0mxaxis\u001b[0m\u001b[1;33m,\u001b[0m \u001b[0maxes\u001b[0m\u001b[1;33m.\u001b[0m\u001b[0myaxis\u001b[0m\u001b[1;33m)\u001b[0m\u001b[1;33m\u001b[0m\u001b[1;33m\u001b[0m\u001b[0m\n\u001b[0;32m    183\u001b[0m                                 for label in axis.get_ticklabels()])\n",
      "\u001b[1;32m~\\anaconda3\\envs\\PythonData\\lib\\site-packages\\ipykernel\\pylab\\backend_inline.py\u001b[0m in \u001b[0;36m<listcomp>\u001b[1;34m(.0)\u001b[0m\n\u001b[0;32m    181\u001b[0m                                 \u001b[1;32mfor\u001b[0m \u001b[0maxes\u001b[0m \u001b[1;32min\u001b[0m \u001b[0mfig\u001b[0m\u001b[1;33m.\u001b[0m\u001b[0maxes\u001b[0m\u001b[1;33m\u001b[0m\u001b[1;33m\u001b[0m\u001b[0m\n\u001b[0;32m    182\u001b[0m                                 \u001b[1;32mfor\u001b[0m \u001b[0maxis\u001b[0m \u001b[1;32min\u001b[0m \u001b[1;33m(\u001b[0m\u001b[0maxes\u001b[0m\u001b[1;33m.\u001b[0m\u001b[0mxaxis\u001b[0m\u001b[1;33m,\u001b[0m \u001b[0maxes\u001b[0m\u001b[1;33m.\u001b[0m\u001b[0myaxis\u001b[0m\u001b[1;33m)\u001b[0m\u001b[1;33m\u001b[0m\u001b[1;33m\u001b[0m\u001b[0m\n\u001b[1;32m--> 183\u001b[1;33m                                 for label in axis.get_ticklabels()])\n\u001b[0m\u001b[0;32m    184\u001b[0m         \u001b[1;32mif\u001b[0m \u001b[0mticksLight\u001b[0m\u001b[1;33m.\u001b[0m\u001b[0msize\u001b[0m \u001b[1;32mand\u001b[0m \u001b[1;33m(\u001b[0m\u001b[0mticksLight\u001b[0m \u001b[1;33m==\u001b[0m \u001b[0mticksLight\u001b[0m\u001b[1;33m[\u001b[0m\u001b[1;36m0\u001b[0m\u001b[1;33m]\u001b[0m\u001b[1;33m)\u001b[0m\u001b[1;33m.\u001b[0m\u001b[0mall\u001b[0m\u001b[1;33m(\u001b[0m\u001b[1;33m)\u001b[0m\u001b[1;33m:\u001b[0m\u001b[1;33m\u001b[0m\u001b[1;33m\u001b[0m\u001b[0m\n\u001b[0;32m    185\u001b[0m             \u001b[1;31m# there are one or more tick labels, all with the same lightness\u001b[0m\u001b[1;33m\u001b[0m\u001b[1;33m\u001b[0m\u001b[1;33m\u001b[0m\u001b[0m\n",
      "\u001b[1;32m~\\anaconda3\\envs\\PythonData\\lib\\site-packages\\matplotlib\\axis.py\u001b[0m in \u001b[0;36mget_ticklabels\u001b[1;34m(self, minor, which)\u001b[0m\n\u001b[0;32m   1318\u001b[0m         \u001b[1;32mif\u001b[0m \u001b[0mminor\u001b[0m\u001b[1;33m:\u001b[0m\u001b[1;33m\u001b[0m\u001b[1;33m\u001b[0m\u001b[0m\n\u001b[0;32m   1319\u001b[0m             \u001b[1;32mreturn\u001b[0m \u001b[0mself\u001b[0m\u001b[1;33m.\u001b[0m\u001b[0mget_minorticklabels\u001b[0m\u001b[1;33m(\u001b[0m\u001b[1;33m)\u001b[0m\u001b[1;33m\u001b[0m\u001b[1;33m\u001b[0m\u001b[0m\n\u001b[1;32m-> 1320\u001b[1;33m         \u001b[1;32mreturn\u001b[0m \u001b[0mself\u001b[0m\u001b[1;33m.\u001b[0m\u001b[0mget_majorticklabels\u001b[0m\u001b[1;33m(\u001b[0m\u001b[1;33m)\u001b[0m\u001b[1;33m\u001b[0m\u001b[1;33m\u001b[0m\u001b[0m\n\u001b[0m\u001b[0;32m   1321\u001b[0m \u001b[1;33m\u001b[0m\u001b[0m\n\u001b[0;32m   1322\u001b[0m     \u001b[1;32mdef\u001b[0m \u001b[0mget_majorticklines\u001b[0m\u001b[1;33m(\u001b[0m\u001b[0mself\u001b[0m\u001b[1;33m)\u001b[0m\u001b[1;33m:\u001b[0m\u001b[1;33m\u001b[0m\u001b[1;33m\u001b[0m\u001b[0m\n",
      "\u001b[1;32m~\\anaconda3\\envs\\PythonData\\lib\\site-packages\\matplotlib\\axis.py\u001b[0m in \u001b[0;36mget_majorticklabels\u001b[1;34m(self)\u001b[0m\n\u001b[0;32m   1274\u001b[0m     \u001b[1;32mdef\u001b[0m \u001b[0mget_majorticklabels\u001b[0m\u001b[1;33m(\u001b[0m\u001b[0mself\u001b[0m\u001b[1;33m)\u001b[0m\u001b[1;33m:\u001b[0m\u001b[1;33m\u001b[0m\u001b[1;33m\u001b[0m\u001b[0m\n\u001b[0;32m   1275\u001b[0m         \u001b[1;34m'Return a list of Text instances for the major ticklabels.'\u001b[0m\u001b[1;33m\u001b[0m\u001b[1;33m\u001b[0m\u001b[0m\n\u001b[1;32m-> 1276\u001b[1;33m         \u001b[0mticks\u001b[0m \u001b[1;33m=\u001b[0m \u001b[0mself\u001b[0m\u001b[1;33m.\u001b[0m\u001b[0mget_major_ticks\u001b[0m\u001b[1;33m(\u001b[0m\u001b[1;33m)\u001b[0m\u001b[1;33m\u001b[0m\u001b[1;33m\u001b[0m\u001b[0m\n\u001b[0m\u001b[0;32m   1277\u001b[0m         \u001b[0mlabels1\u001b[0m \u001b[1;33m=\u001b[0m \u001b[1;33m[\u001b[0m\u001b[0mtick\u001b[0m\u001b[1;33m.\u001b[0m\u001b[0mlabel1\u001b[0m \u001b[1;32mfor\u001b[0m \u001b[0mtick\u001b[0m \u001b[1;32min\u001b[0m \u001b[0mticks\u001b[0m \u001b[1;32mif\u001b[0m \u001b[0mtick\u001b[0m\u001b[1;33m.\u001b[0m\u001b[0mlabel1\u001b[0m\u001b[1;33m.\u001b[0m\u001b[0mget_visible\u001b[0m\u001b[1;33m(\u001b[0m\u001b[1;33m)\u001b[0m\u001b[1;33m]\u001b[0m\u001b[1;33m\u001b[0m\u001b[1;33m\u001b[0m\u001b[0m\n\u001b[0;32m   1278\u001b[0m         \u001b[0mlabels2\u001b[0m \u001b[1;33m=\u001b[0m \u001b[1;33m[\u001b[0m\u001b[0mtick\u001b[0m\u001b[1;33m.\u001b[0m\u001b[0mlabel2\u001b[0m \u001b[1;32mfor\u001b[0m \u001b[0mtick\u001b[0m \u001b[1;32min\u001b[0m \u001b[0mticks\u001b[0m \u001b[1;32mif\u001b[0m \u001b[0mtick\u001b[0m\u001b[1;33m.\u001b[0m\u001b[0mlabel2\u001b[0m\u001b[1;33m.\u001b[0m\u001b[0mget_visible\u001b[0m\u001b[1;33m(\u001b[0m\u001b[1;33m)\u001b[0m\u001b[1;33m]\u001b[0m\u001b[1;33m\u001b[0m\u001b[1;33m\u001b[0m\u001b[0m\n",
      "\u001b[1;32m~\\anaconda3\\envs\\PythonData\\lib\\site-packages\\matplotlib\\axis.py\u001b[0m in \u001b[0;36mget_major_ticks\u001b[1;34m(self, numticks)\u001b[0m\n\u001b[0;32m   1429\u001b[0m         \u001b[1;34m'Get the tick instances; grow as necessary.'\u001b[0m\u001b[1;33m\u001b[0m\u001b[1;33m\u001b[0m\u001b[0m\n\u001b[0;32m   1430\u001b[0m         \u001b[1;32mif\u001b[0m \u001b[0mnumticks\u001b[0m \u001b[1;32mis\u001b[0m \u001b[1;32mNone\u001b[0m\u001b[1;33m:\u001b[0m\u001b[1;33m\u001b[0m\u001b[1;33m\u001b[0m\u001b[0m\n\u001b[1;32m-> 1431\u001b[1;33m             \u001b[0mnumticks\u001b[0m \u001b[1;33m=\u001b[0m \u001b[0mlen\u001b[0m\u001b[1;33m(\u001b[0m\u001b[0mself\u001b[0m\u001b[1;33m.\u001b[0m\u001b[0mget_majorticklocs\u001b[0m\u001b[1;33m(\u001b[0m\u001b[1;33m)\u001b[0m\u001b[1;33m)\u001b[0m\u001b[1;33m\u001b[0m\u001b[1;33m\u001b[0m\u001b[0m\n\u001b[0m\u001b[0;32m   1432\u001b[0m \u001b[1;33m\u001b[0m\u001b[0m\n\u001b[0;32m   1433\u001b[0m         \u001b[1;32mwhile\u001b[0m \u001b[0mlen\u001b[0m\u001b[1;33m(\u001b[0m\u001b[0mself\u001b[0m\u001b[1;33m.\u001b[0m\u001b[0mmajorTicks\u001b[0m\u001b[1;33m)\u001b[0m \u001b[1;33m<\u001b[0m \u001b[0mnumticks\u001b[0m\u001b[1;33m:\u001b[0m\u001b[1;33m\u001b[0m\u001b[1;33m\u001b[0m\u001b[0m\n",
      "\u001b[1;32m~\\anaconda3\\envs\\PythonData\\lib\\site-packages\\matplotlib\\axis.py\u001b[0m in \u001b[0;36mget_majorticklocs\u001b[1;34m(self)\u001b[0m\n\u001b[0;32m   1346\u001b[0m     \u001b[1;32mdef\u001b[0m \u001b[0mget_majorticklocs\u001b[0m\u001b[1;33m(\u001b[0m\u001b[0mself\u001b[0m\u001b[1;33m)\u001b[0m\u001b[1;33m:\u001b[0m\u001b[1;33m\u001b[0m\u001b[1;33m\u001b[0m\u001b[0m\n\u001b[0;32m   1347\u001b[0m         \u001b[1;34m\"\"\"Get the array of major tick locations in data coordinates.\"\"\"\u001b[0m\u001b[1;33m\u001b[0m\u001b[1;33m\u001b[0m\u001b[0m\n\u001b[1;32m-> 1348\u001b[1;33m         \u001b[1;32mreturn\u001b[0m \u001b[0mself\u001b[0m\u001b[1;33m.\u001b[0m\u001b[0mmajor\u001b[0m\u001b[1;33m.\u001b[0m\u001b[0mlocator\u001b[0m\u001b[1;33m(\u001b[0m\u001b[1;33m)\u001b[0m\u001b[1;33m\u001b[0m\u001b[1;33m\u001b[0m\u001b[0m\n\u001b[0m\u001b[0;32m   1349\u001b[0m \u001b[1;33m\u001b[0m\u001b[0m\n\u001b[0;32m   1350\u001b[0m     \u001b[1;32mdef\u001b[0m \u001b[0mget_minorticklocs\u001b[0m\u001b[1;33m(\u001b[0m\u001b[0mself\u001b[0m\u001b[1;33m)\u001b[0m\u001b[1;33m:\u001b[0m\u001b[1;33m\u001b[0m\u001b[1;33m\u001b[0m\u001b[0m\n",
      "\u001b[1;32m~\\anaconda3\\envs\\PythonData\\lib\\site-packages\\matplotlib\\dates.py\u001b[0m in \u001b[0;36m__call__\u001b[1;34m(self)\u001b[0m\n\u001b[0;32m   1336\u001b[0m     \u001b[1;32mdef\u001b[0m \u001b[0m__call__\u001b[0m\u001b[1;33m(\u001b[0m\u001b[0mself\u001b[0m\u001b[1;33m)\u001b[0m\u001b[1;33m:\u001b[0m\u001b[1;33m\u001b[0m\u001b[1;33m\u001b[0m\u001b[0m\n\u001b[0;32m   1337\u001b[0m         \u001b[1;34m'Return the locations of the ticks'\u001b[0m\u001b[1;33m\u001b[0m\u001b[1;33m\u001b[0m\u001b[0m\n\u001b[1;32m-> 1338\u001b[1;33m         \u001b[0mself\u001b[0m\u001b[1;33m.\u001b[0m\u001b[0mrefresh\u001b[0m\u001b[1;33m(\u001b[0m\u001b[1;33m)\u001b[0m\u001b[1;33m\u001b[0m\u001b[1;33m\u001b[0m\u001b[0m\n\u001b[0m\u001b[0;32m   1339\u001b[0m         \u001b[1;32mreturn\u001b[0m \u001b[0mself\u001b[0m\u001b[1;33m.\u001b[0m\u001b[0m_locator\u001b[0m\u001b[1;33m(\u001b[0m\u001b[1;33m)\u001b[0m\u001b[1;33m\u001b[0m\u001b[1;33m\u001b[0m\u001b[0m\n\u001b[0;32m   1340\u001b[0m \u001b[1;33m\u001b[0m\u001b[0m\n",
      "\u001b[1;32m~\\anaconda3\\envs\\PythonData\\lib\\site-packages\\matplotlib\\dates.py\u001b[0m in \u001b[0;36mrefresh\u001b[1;34m(self)\u001b[0m\n\u001b[0;32m   1362\u001b[0m     \u001b[1;32mdef\u001b[0m \u001b[0mrefresh\u001b[0m\u001b[1;33m(\u001b[0m\u001b[0mself\u001b[0m\u001b[1;33m)\u001b[0m\u001b[1;33m:\u001b[0m\u001b[1;33m\u001b[0m\u001b[1;33m\u001b[0m\u001b[0m\n\u001b[0;32m   1363\u001b[0m         \u001b[1;31m# docstring inherited\u001b[0m\u001b[1;33m\u001b[0m\u001b[1;33m\u001b[0m\u001b[1;33m\u001b[0m\u001b[0m\n\u001b[1;32m-> 1364\u001b[1;33m         \u001b[0mdmin\u001b[0m\u001b[1;33m,\u001b[0m \u001b[0mdmax\u001b[0m \u001b[1;33m=\u001b[0m \u001b[0mself\u001b[0m\u001b[1;33m.\u001b[0m\u001b[0mviewlim_to_dt\u001b[0m\u001b[1;33m(\u001b[0m\u001b[1;33m)\u001b[0m\u001b[1;33m\u001b[0m\u001b[1;33m\u001b[0m\u001b[0m\n\u001b[0m\u001b[0;32m   1365\u001b[0m         \u001b[0mself\u001b[0m\u001b[1;33m.\u001b[0m\u001b[0m_locator\u001b[0m \u001b[1;33m=\u001b[0m \u001b[0mself\u001b[0m\u001b[1;33m.\u001b[0m\u001b[0mget_locator\u001b[0m\u001b[1;33m(\u001b[0m\u001b[0mdmin\u001b[0m\u001b[1;33m,\u001b[0m \u001b[0mdmax\u001b[0m\u001b[1;33m)\u001b[0m\u001b[1;33m\u001b[0m\u001b[1;33m\u001b[0m\u001b[0m\n\u001b[0;32m   1366\u001b[0m \u001b[1;33m\u001b[0m\u001b[0m\n",
      "\u001b[1;32m~\\anaconda3\\envs\\PythonData\\lib\\site-packages\\matplotlib\\dates.py\u001b[0m in \u001b[0;36mviewlim_to_dt\u001b[1;34m(self)\u001b[0m\n\u001b[0;32m   1096\u001b[0m                              \u001b[1;34m'often happens if you pass a non-datetime '\u001b[0m\u001b[1;33m\u001b[0m\u001b[1;33m\u001b[0m\u001b[0m\n\u001b[0;32m   1097\u001b[0m                              \u001b[1;34m'value to an axis that has datetime units'\u001b[0m\u001b[1;33m\u001b[0m\u001b[1;33m\u001b[0m\u001b[0m\n\u001b[1;32m-> 1098\u001b[1;33m                              .format(vmin))\n\u001b[0m\u001b[0;32m   1099\u001b[0m         \u001b[1;32mreturn\u001b[0m \u001b[0mnum2date\u001b[0m\u001b[1;33m(\u001b[0m\u001b[0mvmin\u001b[0m\u001b[1;33m,\u001b[0m \u001b[0mself\u001b[0m\u001b[1;33m.\u001b[0m\u001b[0mtz\u001b[0m\u001b[1;33m)\u001b[0m\u001b[1;33m,\u001b[0m \u001b[0mnum2date\u001b[0m\u001b[1;33m(\u001b[0m\u001b[0mvmax\u001b[0m\u001b[1;33m,\u001b[0m \u001b[0mself\u001b[0m\u001b[1;33m.\u001b[0m\u001b[0mtz\u001b[0m\u001b[1;33m)\u001b[0m\u001b[1;33m\u001b[0m\u001b[1;33m\u001b[0m\u001b[0m\n\u001b[0;32m   1100\u001b[0m \u001b[1;33m\u001b[0m\u001b[0m\n",
      "\u001b[1;31mValueError\u001b[0m: view limit minimum 0.0 is less than 1 and is an invalid Matplotlib date value. This often happens if you pass a non-datetime value to an axis that has datetime units"
     ]
    }
   ],
   "source": [
    "#Plotting bar graph to show how many tweets by day\n",
    "combined_df.plot(kind='bar', title='Number of Tweets per Candidate per 12 Hours', figsize=(20,10), width = 0.5)\n",
    "plt.xlabel('Day')\n",
    "plt.ylabel('Number of Tweets')"
   ]
  },
  {
   "cell_type": "code",
   "execution_count": 72,
   "metadata": {},
   "outputs": [
    {
     "data": {
      "text/html": [
       "<div>\n",
       "<style scoped>\n",
       "    .dataframe tbody tr th:only-of-type {\n",
       "        vertical-align: middle;\n",
       "    }\n",
       "\n",
       "    .dataframe tbody tr th {\n",
       "        vertical-align: top;\n",
       "    }\n",
       "\n",
       "    .dataframe thead th {\n",
       "        text-align: right;\n",
       "    }\n",
       "</style>\n",
       "<table border=\"1\" class=\"dataframe\">\n",
       "  <thead>\n",
       "    <tr style=\"text-align: right;\">\n",
       "      <th></th>\n",
       "      <th>id</th>\n",
       "      <th>created_at</th>\n",
       "      <th>tweet_id</th>\n",
       "      <th>tweet</th>\n",
       "      <th>likes</th>\n",
       "      <th>retweet_count</th>\n",
       "      <th>source</th>\n",
       "      <th>user_id</th>\n",
       "      <th>user_name</th>\n",
       "      <th>user_screen_name</th>\n",
       "      <th>...</th>\n",
       "      <th>user_location</th>\n",
       "      <th>lat</th>\n",
       "      <th>long</th>\n",
       "      <th>city</th>\n",
       "      <th>country</th>\n",
       "      <th>continent</th>\n",
       "      <th>state</th>\n",
       "      <th>state_code</th>\n",
       "      <th>collected_at</th>\n",
       "      <th>hashtag</th>\n",
       "    </tr>\n",
       "  </thead>\n",
       "  <tbody>\n",
       "    <tr>\n",
       "      <th>0</th>\n",
       "      <td>6</td>\n",
       "      <td>2020-10-15 00:00:25</td>\n",
       "      <td>1.316529e+18</td>\n",
       "      <td>In 2020, #NYPost is being #censorship #CENSORE...</td>\n",
       "      <td>0.0</td>\n",
       "      <td>0.0</td>\n",
       "      <td>Twitter for iPhone</td>\n",
       "      <td>1.994033e+07</td>\n",
       "      <td>Change Illinois | Biden will increase taxes by...</td>\n",
       "      <td>changeillinois</td>\n",
       "      <td>...</td>\n",
       "      <td>Chicago, Illinois</td>\n",
       "      <td>41.875562</td>\n",
       "      <td>-87.624421</td>\n",
       "      <td>Chicago</td>\n",
       "      <td>United States</td>\n",
       "      <td>North America</td>\n",
       "      <td>Illinois</td>\n",
       "      <td>IL</td>\n",
       "      <td>2020-10-21 00:00:03.106963698</td>\n",
       "      <td>Biden</td>\n",
       "    </tr>\n",
       "    <tr>\n",
       "      <th>1</th>\n",
       "      <td>17</td>\n",
       "      <td>2020-10-15 00:01:23</td>\n",
       "      <td>1.316530e+18</td>\n",
       "      <td>Comments on this? \"Do Democrats Understand how...</td>\n",
       "      <td>0.0</td>\n",
       "      <td>0.0</td>\n",
       "      <td>Twitter Web App</td>\n",
       "      <td>1.016593e+08</td>\n",
       "      <td>John Ubaldi</td>\n",
       "      <td>ubaldireports</td>\n",
       "      <td>...</td>\n",
       "      <td>Tampa, Florida</td>\n",
       "      <td>27.947760</td>\n",
       "      <td>-82.458444</td>\n",
       "      <td>Tampa</td>\n",
       "      <td>United States</td>\n",
       "      <td>North America</td>\n",
       "      <td>Florida</td>\n",
       "      <td>FL</td>\n",
       "      <td>2020-10-21 00:00:08.803063811</td>\n",
       "      <td>Biden</td>\n",
       "    </tr>\n",
       "    <tr>\n",
       "      <th>2</th>\n",
       "      <td>25</td>\n",
       "      <td>2020-10-15 00:01:57</td>\n",
       "      <td>1.316530e+18</td>\n",
       "      <td>@RealJamesWoods #BidenCrimeFamily #JoeBiden #H...</td>\n",
       "      <td>0.0</td>\n",
       "      <td>0.0</td>\n",
       "      <td>Twitter for Android</td>\n",
       "      <td>1.300837e+18</td>\n",
       "      <td>Sam KEYS</td>\n",
       "      <td>SamKEYS65729181</td>\n",
       "      <td>...</td>\n",
       "      <td>Los Angeles, CA</td>\n",
       "      <td>34.053691</td>\n",
       "      <td>-118.242766</td>\n",
       "      <td>Los Angeles</td>\n",
       "      <td>United States</td>\n",
       "      <td>North America</td>\n",
       "      <td>California</td>\n",
       "      <td>CA</td>\n",
       "      <td>2020-10-21 00:00:12.945682075</td>\n",
       "      <td>Biden</td>\n",
       "    </tr>\n",
       "  </tbody>\n",
       "</table>\n",
       "<p>3 rows × 23 columns</p>\n",
       "</div>"
      ],
      "text/plain": [
       "   id           created_at      tweet_id  \\\n",
       "0   6  2020-10-15 00:00:25  1.316529e+18   \n",
       "1  17  2020-10-15 00:01:23  1.316530e+18   \n",
       "2  25  2020-10-15 00:01:57  1.316530e+18   \n",
       "\n",
       "                                               tweet  likes  retweet_count  \\\n",
       "0  In 2020, #NYPost is being #censorship #CENSORE...    0.0            0.0   \n",
       "1  Comments on this? \"Do Democrats Understand how...    0.0            0.0   \n",
       "2  @RealJamesWoods #BidenCrimeFamily #JoeBiden #H...    0.0            0.0   \n",
       "\n",
       "                source       user_id  \\\n",
       "0   Twitter for iPhone  1.994033e+07   \n",
       "1      Twitter Web App  1.016593e+08   \n",
       "2  Twitter for Android  1.300837e+18   \n",
       "\n",
       "                                           user_name user_screen_name  ...  \\\n",
       "0  Change Illinois | Biden will increase taxes by...   changeillinois  ...   \n",
       "1                                        John Ubaldi    ubaldireports  ...   \n",
       "2                                           Sam KEYS  SamKEYS65729181  ...   \n",
       "\n",
       "       user_location        lat        long         city        country  \\\n",
       "0  Chicago, Illinois  41.875562  -87.624421      Chicago  United States   \n",
       "1     Tampa, Florida  27.947760  -82.458444        Tampa  United States   \n",
       "2    Los Angeles, CA  34.053691 -118.242766  Los Angeles  United States   \n",
       "\n",
       "       continent       state state_code                   collected_at hashtag  \n",
       "0  North America    Illinois         IL  2020-10-21 00:00:03.106963698   Biden  \n",
       "1  North America     Florida         FL  2020-10-21 00:00:08.803063811   Biden  \n",
       "2  North America  California         CA  2020-10-21 00:00:12.945682075   Biden  \n",
       "\n",
       "[3 rows x 23 columns]"
      ]
     },
     "execution_count": 72,
     "metadata": {},
     "output_type": "execute_result"
    }
   ],
   "source": [
    "biden_st=biden_data_df[biden_data_df['hashtag']=='Biden']\n",
    "biden_st.head(3)\n"
   ]
  },
  {
   "cell_type": "code",
   "execution_count": 73,
   "metadata": {},
   "outputs": [
    {
     "data": {
      "text/html": [
       "<div>\n",
       "<style scoped>\n",
       "    .dataframe tbody tr th:only-of-type {\n",
       "        vertical-align: middle;\n",
       "    }\n",
       "\n",
       "    .dataframe tbody tr th {\n",
       "        vertical-align: top;\n",
       "    }\n",
       "\n",
       "    .dataframe thead th {\n",
       "        text-align: right;\n",
       "    }\n",
       "</style>\n",
       "<table border=\"1\" class=\"dataframe\">\n",
       "  <thead>\n",
       "    <tr style=\"text-align: right;\">\n",
       "      <th></th>\n",
       "      <th>id</th>\n",
       "      <th>created_at</th>\n",
       "      <th>tweet_id</th>\n",
       "      <th>tweet</th>\n",
       "      <th>likes</th>\n",
       "      <th>retweet_count</th>\n",
       "      <th>source</th>\n",
       "      <th>user_id</th>\n",
       "      <th>user_name</th>\n",
       "      <th>user_screen_name</th>\n",
       "      <th>...</th>\n",
       "      <th>user_location</th>\n",
       "      <th>lat</th>\n",
       "      <th>long</th>\n",
       "      <th>city</th>\n",
       "      <th>country</th>\n",
       "      <th>continent</th>\n",
       "      <th>state</th>\n",
       "      <th>state_code</th>\n",
       "      <th>collected_at</th>\n",
       "      <th>hashtag</th>\n",
       "    </tr>\n",
       "  </thead>\n",
       "  <tbody>\n",
       "    <tr>\n",
       "      <th>0</th>\n",
       "      <td>2</td>\n",
       "      <td>2020-10-15 00:00:02</td>\n",
       "      <td>1.316529e+18</td>\n",
       "      <td>#Trump: As a student I used to hear for years,...</td>\n",
       "      <td>2.0</td>\n",
       "      <td>1.0</td>\n",
       "      <td>Twitter Web App</td>\n",
       "      <td>8436472.0</td>\n",
       "      <td>snarke</td>\n",
       "      <td>snarke</td>\n",
       "      <td>...</td>\n",
       "      <td>Portland</td>\n",
       "      <td>45.520247</td>\n",
       "      <td>-122.674195</td>\n",
       "      <td>Portland</td>\n",
       "      <td>United States</td>\n",
       "      <td>North America</td>\n",
       "      <td>Oregon</td>\n",
       "      <td>OR</td>\n",
       "      <td>2020-10-21 00:00:00.746433060</td>\n",
       "      <td>Trump</td>\n",
       "    </tr>\n",
       "    <tr>\n",
       "      <th>1</th>\n",
       "      <td>4</td>\n",
       "      <td>2020-10-15 00:00:08</td>\n",
       "      <td>1.316529e+18</td>\n",
       "      <td>You get a tie! And you get a tie! #Trump ‘s ra...</td>\n",
       "      <td>4.0</td>\n",
       "      <td>3.0</td>\n",
       "      <td>Twitter for iPhone</td>\n",
       "      <td>47413798.0</td>\n",
       "      <td>Rana Abtar - رنا أبتر</td>\n",
       "      <td>Ranaabtar</td>\n",
       "      <td>...</td>\n",
       "      <td>Washington DC</td>\n",
       "      <td>38.894992</td>\n",
       "      <td>-77.036558</td>\n",
       "      <td>Washington</td>\n",
       "      <td>United States</td>\n",
       "      <td>North America</td>\n",
       "      <td>District of Columbia</td>\n",
       "      <td>DC</td>\n",
       "      <td>2020-10-21 00:00:01.492866121</td>\n",
       "      <td>Trump</td>\n",
       "    </tr>\n",
       "    <tr>\n",
       "      <th>2</th>\n",
       "      <td>11</td>\n",
       "      <td>2020-10-15 00:00:25</td>\n",
       "      <td>1.316529e+18</td>\n",
       "      <td>In 2020, #NYPost is being #censorship #CENSORE...</td>\n",
       "      <td>0.0</td>\n",
       "      <td>0.0</td>\n",
       "      <td>Twitter for iPhone</td>\n",
       "      <td>19940334.0</td>\n",
       "      <td>Change Illinois | Biden will increase taxes by...</td>\n",
       "      <td>changeillinois</td>\n",
       "      <td>...</td>\n",
       "      <td>Chicago, Illinois</td>\n",
       "      <td>41.875562</td>\n",
       "      <td>-87.624421</td>\n",
       "      <td>Chicago</td>\n",
       "      <td>United States</td>\n",
       "      <td>North America</td>\n",
       "      <td>Illinois</td>\n",
       "      <td>IL</td>\n",
       "      <td>2020-10-21 00:00:04.105381834</td>\n",
       "      <td>Trump</td>\n",
       "    </tr>\n",
       "  </tbody>\n",
       "</table>\n",
       "<p>3 rows × 23 columns</p>\n",
       "</div>"
      ],
      "text/plain": [
       "   id           created_at      tweet_id  \\\n",
       "0   2  2020-10-15 00:00:02  1.316529e+18   \n",
       "1   4  2020-10-15 00:00:08  1.316529e+18   \n",
       "2  11  2020-10-15 00:00:25  1.316529e+18   \n",
       "\n",
       "                                               tweet  likes  retweet_count  \\\n",
       "0  #Trump: As a student I used to hear for years,...    2.0            1.0   \n",
       "1  You get a tie! And you get a tie! #Trump ‘s ra...    4.0            3.0   \n",
       "2  In 2020, #NYPost is being #censorship #CENSORE...    0.0            0.0   \n",
       "\n",
       "               source     user_id  \\\n",
       "0     Twitter Web App   8436472.0   \n",
       "1  Twitter for iPhone  47413798.0   \n",
       "2  Twitter for iPhone  19940334.0   \n",
       "\n",
       "                                           user_name user_screen_name  ...  \\\n",
       "0                                             snarke           snarke  ...   \n",
       "1                              Rana Abtar - رنا أبتر        Ranaabtar  ...   \n",
       "2  Change Illinois | Biden will increase taxes by...   changeillinois  ...   \n",
       "\n",
       "       user_location        lat        long        city        country  \\\n",
       "0           Portland  45.520247 -122.674195    Portland  United States   \n",
       "1      Washington DC  38.894992  -77.036558  Washington  United States   \n",
       "2  Chicago, Illinois  41.875562  -87.624421     Chicago  United States   \n",
       "\n",
       "       continent                 state state_code  \\\n",
       "0  North America                Oregon         OR   \n",
       "1  North America  District of Columbia         DC   \n",
       "2  North America              Illinois         IL   \n",
       "\n",
       "                    collected_at hashtag  \n",
       "0  2020-10-21 00:00:00.746433060   Trump  \n",
       "1  2020-10-21 00:00:01.492866121   Trump  \n",
       "2  2020-10-21 00:00:04.105381834   Trump  \n",
       "\n",
       "[3 rows x 23 columns]"
      ]
     },
     "execution_count": 73,
     "metadata": {},
     "output_type": "execute_result"
    }
   ],
   "source": [
    "trump_st=trump_data_df[trump_data_df['hashtag']=='Trump']\n",
    "trump_st.head(3)"
   ]
  },
  {
   "cell_type": "code",
   "execution_count": 74,
   "metadata": {},
   "outputs": [],
   "source": [
    "biden_st_df = biden_st[['state_code', 'hashtag','created_at']]\n",
    "trump_st_df = trump_st[['state_code', 'hashtag','created_at']]"
   ]
  },
  {
   "cell_type": "code",
   "execution_count": 75,
   "metadata": {},
   "outputs": [
    {
     "data": {
      "text/plain": [
       "state_code\n",
       "IL    1\n",
       "FL    1\n",
       "CA    1\n",
       "dtype: int64"
      ]
     },
     "execution_count": 75,
     "metadata": {},
     "output_type": "execute_result"
    }
   ],
   "source": [
    "biden_st_series = pd.Series(1, index=biden_st_df['state_code'])\n",
    "biden_st_series.head(3)"
   ]
  },
  {
   "cell_type": "code",
   "execution_count": 76,
   "metadata": {},
   "outputs": [
    {
     "data": {
      "text/plain": [
       "state_code\n",
       "OR    1\n",
       "DC    1\n",
       "IL    1\n",
       "dtype: int64"
      ]
     },
     "execution_count": 76,
     "metadata": {},
     "output_type": "execute_result"
    }
   ],
   "source": [
    "trump_st_series = pd.Series(1, index=trump_st_df['state_code'])\n",
    "trump_st_series.head(3)"
   ]
  },
  {
   "cell_type": "code",
   "execution_count": 77,
   "metadata": {},
   "outputs": [
    {
     "data": {
      "text/html": [
       "<div>\n",
       "<style scoped>\n",
       "    .dataframe tbody tr th:only-of-type {\n",
       "        vertical-align: middle;\n",
       "    }\n",
       "\n",
       "    .dataframe tbody tr th {\n",
       "        vertical-align: top;\n",
       "    }\n",
       "\n",
       "    .dataframe thead th {\n",
       "        text-align: right;\n",
       "    }\n",
       "</style>\n",
       "<table border=\"1\" class=\"dataframe\">\n",
       "  <thead>\n",
       "    <tr style=\"text-align: right;\">\n",
       "      <th></th>\n",
       "      <th>0</th>\n",
       "    </tr>\n",
       "    <tr>\n",
       "      <th>state_code</th>\n",
       "      <th></th>\n",
       "    </tr>\n",
       "  </thead>\n",
       "  <tbody>\n",
       "    <tr>\n",
       "      <th>IL</th>\n",
       "      <td>1</td>\n",
       "    </tr>\n",
       "    <tr>\n",
       "      <th>FL</th>\n",
       "      <td>1</td>\n",
       "    </tr>\n",
       "    <tr>\n",
       "      <th>CA</th>\n",
       "      <td>1</td>\n",
       "    </tr>\n",
       "    <tr>\n",
       "      <th>NY</th>\n",
       "      <td>1</td>\n",
       "    </tr>\n",
       "    <tr>\n",
       "      <th>MN</th>\n",
       "      <td>1</td>\n",
       "    </tr>\n",
       "  </tbody>\n",
       "</table>\n",
       "</div>"
      ],
      "text/plain": [
       "            0\n",
       "state_code   \n",
       "IL          1\n",
       "FL          1\n",
       "CA          1\n",
       "NY          1\n",
       "MN          1"
      ]
     },
     "execution_count": 77,
     "metadata": {},
     "output_type": "execute_result"
    }
   ],
   "source": [
    "biden_st_df = pd.DataFrame(biden_st_series)\n",
    "biden_st_df.head()"
   ]
  },
  {
   "cell_type": "code",
   "execution_count": 78,
   "metadata": {},
   "outputs": [
    {
     "data": {
      "text/html": [
       "<div>\n",
       "<style scoped>\n",
       "    .dataframe tbody tr th:only-of-type {\n",
       "        vertical-align: middle;\n",
       "    }\n",
       "\n",
       "    .dataframe tbody tr th {\n",
       "        vertical-align: top;\n",
       "    }\n",
       "\n",
       "    .dataframe thead th {\n",
       "        text-align: right;\n",
       "    }\n",
       "</style>\n",
       "<table border=\"1\" class=\"dataframe\">\n",
       "  <thead>\n",
       "    <tr style=\"text-align: right;\">\n",
       "      <th></th>\n",
       "      <th>biden</th>\n",
       "    </tr>\n",
       "    <tr>\n",
       "      <th>state_code</th>\n",
       "      <th></th>\n",
       "    </tr>\n",
       "  </thead>\n",
       "  <tbody>\n",
       "    <tr>\n",
       "      <th>IL</th>\n",
       "      <td>1</td>\n",
       "    </tr>\n",
       "    <tr>\n",
       "      <th>FL</th>\n",
       "      <td>1</td>\n",
       "    </tr>\n",
       "    <tr>\n",
       "      <th>CA</th>\n",
       "      <td>1</td>\n",
       "    </tr>\n",
       "  </tbody>\n",
       "</table>\n",
       "</div>"
      ],
      "text/plain": [
       "            biden\n",
       "state_code       \n",
       "IL              1\n",
       "FL              1\n",
       "CA              1"
      ]
     },
     "execution_count": 78,
     "metadata": {},
     "output_type": "execute_result"
    }
   ],
   "source": [
    "biden_st_df.columns = ['biden']\n",
    "biden_st_df.head(3)"
   ]
  },
  {
   "cell_type": "code",
   "execution_count": 79,
   "metadata": {},
   "outputs": [
    {
     "data": {
      "text/plain": [
       "state_code  biden\n",
       "AK          1        121\n",
       "AL          1        275\n",
       "AR          1         66\n",
       "Name: biden, dtype: int64"
      ]
     },
     "execution_count": 79,
     "metadata": {},
     "output_type": "execute_result"
    }
   ],
   "source": [
    "biden_count = biden_st_df.groupby('state_code')['biden'].value_counts()\n",
    "biden_count.head(3)"
   ]
  },
  {
   "cell_type": "code",
   "execution_count": 80,
   "metadata": {},
   "outputs": [
    {
     "data": {
      "text/html": [
       "<div>\n",
       "<style scoped>\n",
       "    .dataframe tbody tr th:only-of-type {\n",
       "        vertical-align: middle;\n",
       "    }\n",
       "\n",
       "    .dataframe tbody tr th {\n",
       "        vertical-align: top;\n",
       "    }\n",
       "\n",
       "    .dataframe thead th {\n",
       "        text-align: right;\n",
       "    }\n",
       "</style>\n",
       "<table border=\"1\" class=\"dataframe\">\n",
       "  <thead>\n",
       "    <tr style=\"text-align: right;\">\n",
       "      <th></th>\n",
       "      <th>0</th>\n",
       "    </tr>\n",
       "    <tr>\n",
       "      <th>state_code</th>\n",
       "      <th></th>\n",
       "    </tr>\n",
       "  </thead>\n",
       "  <tbody>\n",
       "    <tr>\n",
       "      <th>OR</th>\n",
       "      <td>1</td>\n",
       "    </tr>\n",
       "    <tr>\n",
       "      <th>DC</th>\n",
       "      <td>1</td>\n",
       "    </tr>\n",
       "    <tr>\n",
       "      <th>IL</th>\n",
       "      <td>1</td>\n",
       "    </tr>\n",
       "    <tr>\n",
       "      <th>CA</th>\n",
       "      <td>1</td>\n",
       "    </tr>\n",
       "    <tr>\n",
       "      <th>OR</th>\n",
       "      <td>1</td>\n",
       "    </tr>\n",
       "  </tbody>\n",
       "</table>\n",
       "</div>"
      ],
      "text/plain": [
       "            0\n",
       "state_code   \n",
       "OR          1\n",
       "DC          1\n",
       "IL          1\n",
       "CA          1\n",
       "OR          1"
      ]
     },
     "execution_count": 80,
     "metadata": {},
     "output_type": "execute_result"
    }
   ],
   "source": [
    "trump_st_df = pd.DataFrame(trump_st_series)\n",
    "trump_st_df.head()"
   ]
  },
  {
   "cell_type": "code",
   "execution_count": 81,
   "metadata": {},
   "outputs": [
    {
     "data": {
      "text/html": [
       "<div>\n",
       "<style scoped>\n",
       "    .dataframe tbody tr th:only-of-type {\n",
       "        vertical-align: middle;\n",
       "    }\n",
       "\n",
       "    .dataframe tbody tr th {\n",
       "        vertical-align: top;\n",
       "    }\n",
       "\n",
       "    .dataframe thead th {\n",
       "        text-align: right;\n",
       "    }\n",
       "</style>\n",
       "<table border=\"1\" class=\"dataframe\">\n",
       "  <thead>\n",
       "    <tr style=\"text-align: right;\">\n",
       "      <th></th>\n",
       "      <th>trump</th>\n",
       "    </tr>\n",
       "    <tr>\n",
       "      <th>state_code</th>\n",
       "      <th></th>\n",
       "    </tr>\n",
       "  </thead>\n",
       "  <tbody>\n",
       "    <tr>\n",
       "      <th>OR</th>\n",
       "      <td>1</td>\n",
       "    </tr>\n",
       "    <tr>\n",
       "      <th>DC</th>\n",
       "      <td>1</td>\n",
       "    </tr>\n",
       "    <tr>\n",
       "      <th>IL</th>\n",
       "      <td>1</td>\n",
       "    </tr>\n",
       "  </tbody>\n",
       "</table>\n",
       "</div>"
      ],
      "text/plain": [
       "            trump\n",
       "state_code       \n",
       "OR              1\n",
       "DC              1\n",
       "IL              1"
      ]
     },
     "execution_count": 81,
     "metadata": {},
     "output_type": "execute_result"
    }
   ],
   "source": [
    "trump_st_df.columns = ['trump']\n",
    "trump_st_df.head(3)"
   ]
  },
  {
   "cell_type": "code",
   "execution_count": 82,
   "metadata": {},
   "outputs": [
    {
     "data": {
      "text/plain": [
       "state_code  trump\n",
       "AK          1         87\n",
       "AL          1        293\n",
       "AR          1         68\n",
       "Name: trump, dtype: int64"
      ]
     },
     "execution_count": 82,
     "metadata": {},
     "output_type": "execute_result"
    }
   ],
   "source": [
    "trump_count = trump_st_df.groupby('state_code')['trump'].value_counts()\n",
    "trump_count.head(3)"
   ]
  },
  {
   "cell_type": "code",
   "execution_count": 83,
   "metadata": {},
   "outputs": [
    {
     "data": {
      "text/html": [
       "<div>\n",
       "<style scoped>\n",
       "    .dataframe tbody tr th:only-of-type {\n",
       "        vertical-align: middle;\n",
       "    }\n",
       "\n",
       "    .dataframe tbody tr th {\n",
       "        vertical-align: top;\n",
       "    }\n",
       "\n",
       "    .dataframe thead th {\n",
       "        text-align: right;\n",
       "    }\n",
       "</style>\n",
       "<table border=\"1\" class=\"dataframe\">\n",
       "  <thead>\n",
       "    <tr style=\"text-align: right;\">\n",
       "      <th></th>\n",
       "      <th></th>\n",
       "      <th>trump</th>\n",
       "      <th>biden</th>\n",
       "    </tr>\n",
       "  </thead>\n",
       "  <tbody>\n",
       "    <tr>\n",
       "      <th>AK</th>\n",
       "      <th>1</th>\n",
       "      <td>87.0</td>\n",
       "      <td>121</td>\n",
       "    </tr>\n",
       "    <tr>\n",
       "      <th>AL</th>\n",
       "      <th>1</th>\n",
       "      <td>293.0</td>\n",
       "      <td>275</td>\n",
       "    </tr>\n",
       "    <tr>\n",
       "      <th>AR</th>\n",
       "      <th>1</th>\n",
       "      <td>68.0</td>\n",
       "      <td>66</td>\n",
       "    </tr>\n",
       "    <tr>\n",
       "      <th>AZ</th>\n",
       "      <th>1</th>\n",
       "      <td>1600.0</td>\n",
       "      <td>1728</td>\n",
       "    </tr>\n",
       "    <tr>\n",
       "      <th>CA</th>\n",
       "      <th>1</th>\n",
       "      <td>18103.0</td>\n",
       "      <td>15838</td>\n",
       "    </tr>\n",
       "  </tbody>\n",
       "</table>\n",
       "</div>"
      ],
      "text/plain": [
       "        trump  biden\n",
       "AK 1     87.0    121\n",
       "AL 1    293.0    275\n",
       "AR 1     68.0     66\n",
       "AZ 1   1600.0   1728\n",
       "CA 1  18103.0  15838"
      ]
     },
     "execution_count": 83,
     "metadata": {},
     "output_type": "execute_result"
    }
   ],
   "source": [
    "combined_count_df = pd.concat([trump_count, biden_count], axis=1)\n",
    "combined_count_df.head()"
   ]
  },
  {
   "cell_type": "code",
   "execution_count": 84,
   "metadata": {},
   "outputs": [
    {
     "data": {
      "text/plain": [
       "Text(0, 0.5, 'Number of Tweets')"
      ]
     },
     "execution_count": 84,
     "metadata": {},
     "output_type": "execute_result"
    },
    {
     "data": {
      "image/png": "[encoded data removed]",
      "text/plain": [
       "<Figure size 1440x720 with 1 Axes>"
      ]
     },
     "metadata": {
      "needs_background": "light"
     },
     "output_type": "display_data"
    }
   ],
   "source": [
    "#Plotting bar graph to show how many tweets by day\n",
    "combined_count_df.plot(kind='bar', title='Number of Tweets per Candidate per State', figsize=(20,10), width = 0.5)\n",
    "plt.xlabel('State')\n",
    "plt.ylabel('Number of Tweets')"
   ]
  },
  {
   "cell_type": "code",
   "execution_count": null,
   "metadata": {},
   "outputs": [],
   "source": []
  },
  {
   "cell_type": "code",
   "execution_count": null,
   "metadata": {},
   "outputs": [],
   "source": []
  },
  {
   "cell_type": "code",
   "execution_count": 104,
   "metadata": {},
   "outputs": [
    {
     "name": "stdout",
     "output_type": "stream",
     "text": [
      "2021-02-10 17:57:00,077 INFO sqlalchemy.engine.base.Engine PRAGMA main.table_info(\"time_tweets\")\n"
     ]
    },
    {
     "name": "stderr",
     "output_type": "stream",
     "text": [
      "INFO:sqlalchemy.engine.base.Engine:PRAGMA main.table_info(\"time_tweets\")\n"
     ]
    },
    {
     "name": "stdout",
     "output_type": "stream",
     "text": [
      "2021-02-10 17:57:00,079 INFO sqlalchemy.engine.base.Engine ()\n"
     ]
    },
    {
     "name": "stderr",
     "output_type": "stream",
     "text": [
      "INFO:sqlalchemy.engine.base.Engine:()\n"
     ]
    },
    {
     "name": "stdout",
     "output_type": "stream",
     "text": [
      "2021-02-10 17:57:00,086 INFO sqlalchemy.engine.base.Engine BEGIN (implicit)\n"
     ]
    },
    {
     "name": "stderr",
     "output_type": "stream",
     "text": [
      "INFO:sqlalchemy.engine.base.Engine:BEGIN (implicit)\n"
     ]
    },
    {
     "name": "stdout",
     "output_type": "stream",
     "text": [
      "2021-02-10 17:57:00,092 INFO sqlalchemy.engine.base.Engine INSERT INTO time_tweets (created_at, trump, biden) VALUES (?, ?, ?)\n"
     ]
    },
    {
     "name": "stderr",
     "output_type": "stream",
     "text": [
      "INFO:sqlalchemy.engine.base.Engine:INSERT INTO time_tweets (created_at, trump, biden) VALUES (?, ?, ?)\n"
     ]
    },
    {
     "name": "stdout",
     "output_type": "stream",
     "text": [
      "2021-02-10 17:57:00,094 INFO sqlalchemy.engine.base.Engine (('2020-10-15 00:00:00.000000', 1063, 814), ('2020-10-15 12:00:00.000000', 1535, 1239), ('2020-10-16 00:00:00.000000', 1912, 1601), ('2020-10-16 12:00:00.000000', 1958, 1366), ('2020-10-17 00:00:00.000000', 874, 612), ('2020-10-17 12:00:00.000000', 1382, 1009), ('2020-10-18 00:00:00.000000', 800, 478), ('2020-10-18 12:00:00.000000', 1616, 1012)  ... displaying 10 of 50 total bound parameter sets ...  ('2020-11-08 00:00:00.000000', 2211, 4434), ('2020-11-08 12:00:00.000000', 2134, 1988))\n"
     ]
    },
    {
     "name": "stderr",
     "output_type": "stream",
     "text": [
      "INFO:sqlalchemy.engine.base.Engine:(('2020-10-15 00:00:00.000000', 1063, 814), ('2020-10-15 12:00:00.000000', 1535, 1239), ('2020-10-16 00:00:00.000000', 1912, 1601), ('2020-10-16 12:00:00.000000', 1958, 1366), ('2020-10-17 00:00:00.000000', 874, 612), ('2020-10-17 12:00:00.000000', 1382, 1009), ('2020-10-18 00:00:00.000000', 800, 478), ('2020-10-18 12:00:00.000000', 1616, 1012)  ... displaying 10 of 50 total bound parameter sets ...  ('2020-11-08 00:00:00.000000', 2211, 4434), ('2020-11-08 12:00:00.000000', 2134, 1988))\n"
     ]
    },
    {
     "name": "stdout",
     "output_type": "stream",
     "text": [
      "2021-02-10 17:57:00,099 INFO sqlalchemy.engine.base.Engine COMMIT\n"
     ]
    },
    {
     "name": "stderr",
     "output_type": "stream",
     "text": [
      "INFO:sqlalchemy.engine.base.Engine:COMMIT\n"
     ]
    }
   ],
   "source": [
    "combined_df.to_sql(\"time_tweets\", conn, if_exists=\"append\", index=False)"
   ]
  },
  {
   "cell_type": "code",
   "execution_count": 105,
   "metadata": {},
   "outputs": [
    {
     "name": "stdout",
     "output_type": "stream",
     "text": [
      "2021-02-10 17:57:00,110 INFO sqlalchemy.engine.base.Engine PRAGMA main.table_info(\"st_tweets\")\n"
     ]
    },
    {
     "name": "stderr",
     "output_type": "stream",
     "text": [
      "INFO:sqlalchemy.engine.base.Engine:PRAGMA main.table_info(\"st_tweets\")\n"
     ]
    },
    {
     "name": "stdout",
     "output_type": "stream",
     "text": [
      "2021-02-10 17:57:00,112 INFO sqlalchemy.engine.base.Engine ()\n"
     ]
    },
    {
     "name": "stderr",
     "output_type": "stream",
     "text": [
      "INFO:sqlalchemy.engine.base.Engine:()\n"
     ]
    },
    {
     "name": "stdout",
     "output_type": "stream",
     "text": [
      "2021-02-10 17:57:00,115 INFO sqlalchemy.engine.base.Engine BEGIN (implicit)\n"
     ]
    },
    {
     "name": "stderr",
     "output_type": "stream",
     "text": [
      "INFO:sqlalchemy.engine.base.Engine:BEGIN (implicit)\n"
     ]
    },
    {
     "name": "stdout",
     "output_type": "stream",
     "text": [
      "2021-02-10 17:57:00,117 INFO sqlalchemy.engine.base.Engine INSERT INTO st_tweets (trump, biden) VALUES (?, ?)\n"
     ]
    },
    {
     "name": "stderr",
     "output_type": "stream",
     "text": [
      "INFO:sqlalchemy.engine.base.Engine:INSERT INTO st_tweets (trump, biden) VALUES (?, ?)\n"
     ]
    },
    {
     "name": "stdout",
     "output_type": "stream",
     "text": [
      "2021-02-10 17:57:00,118 INFO sqlalchemy.engine.base.Engine ((87.0, 121), (293.0, 275), (68.0, 66), (1600.0, 1728), (18103.0, 15838), (1595.0, 1124), (191.0, 142), (9207.0, 6618)  ... displaying 10 of 52 total bound parameter sets ...  (14.0, 23), (37.0, 19))\n"
     ]
    },
    {
     "name": "stderr",
     "output_type": "stream",
     "text": [
      "INFO:sqlalchemy.engine.base.Engine:((87.0, 121), (293.0, 275), (68.0, 66), (1600.0, 1728), (18103.0, 15838), (1595.0, 1124), (191.0, 142), (9207.0, 6618)  ... displaying 10 of 52 total bound parameter sets ...  (14.0, 23), (37.0, 19))\n"
     ]
    },
    {
     "name": "stdout",
     "output_type": "stream",
     "text": [
      "2021-02-10 17:57:00,125 INFO sqlalchemy.engine.base.Engine COMMIT\n"
     ]
    },
    {
     "name": "stderr",
     "output_type": "stream",
     "text": [
      "INFO:sqlalchemy.engine.base.Engine:COMMIT\n"
     ]
    }
   ],
   "source": [
    "combined_count_df.to_sql(\"st_tweets\", conn, if_exists=\"append\", index=False)"
   ]
  },
  {
   "cell_type": "code",
   "execution_count": null,
   "metadata": {},
   "outputs": [],
   "source": []
  }
 ],
 "metadata": {
  "kernelspec": {
   "display_name": "Python 3",
   "language": "python",
   "name": "python3"
  },
  "language_info": {
   "codemirror_mode": {
    "name": "ipython",
    "version": 3
   },
   "file_extension": ".py",
   "mimetype": "text/x-python",
   "name": "python",
   "nbconvert_exporter": "python",
   "pygments_lexer": "ipython3",
   "version": "3.6.12"
  }
 },
 "nbformat": 4,
 "nbformat_minor": 4
}
